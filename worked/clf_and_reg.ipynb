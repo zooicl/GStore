{
 "cells": [
  {
   "cell_type": "code",
   "execution_count": 53,
   "metadata": {
    "ExecuteTime": {
     "end_time": "2018-09-24T13:41:38.628175Z",
     "start_time": "2018-09-24T13:41:38.625334Z"
    }
   },
   "outputs": [],
   "source": [
    "import pandas as pd\n",
    "import datetime\n",
    "import os\n",
    "import subprocess"
   ]
  },
  {
   "cell_type": "code",
   "execution_count": 34,
   "metadata": {
    "ExecuteTime": {
     "end_time": "2018-09-24T13:34:21.935304Z",
     "start_time": "2018-09-24T13:34:20.313141Z"
    }
   },
   "outputs": [],
   "source": [
    "df_clf = pd.read_csv('results/2018-09-24T222606/clf_test_2018-09-24T222606.csv')\n",
    "df_clf.columns = ['clf_{}'.format(c) for c in df_clf.columns]\n",
    "df_reg = pd.read_csv('results/2018-09-24T221917__T1.584_V1.584_K/reg_test_2018-09-24T221917.csv')"
   ]
  },
  {
   "cell_type": "code",
   "execution_count": 35,
   "metadata": {
    "ExecuteTime": {
     "end_time": "2018-09-24T13:34:21.997736Z",
     "start_time": "2018-09-24T13:34:21.937479Z"
    }
   },
   "outputs": [],
   "source": [
    "df_merge = pd.concat([df_reg, df_clf], axis=1)"
   ]
  },
  {
   "cell_type": "code",
   "execution_count": 44,
   "metadata": {
    "ExecuteTime": {
     "end_time": "2018-09-24T13:36:38.186802Z",
     "start_time": "2018-09-24T13:36:38.175027Z"
    }
   },
   "outputs": [
    {
     "data": {
      "text/html": [
       "<div>\n",
       "<style scoped>\n",
       "    .dataframe tbody tr th:only-of-type {\n",
       "        vertical-align: middle;\n",
       "    }\n",
       "\n",
       "    .dataframe tbody tr th {\n",
       "        vertical-align: top;\n",
       "    }\n",
       "\n",
       "    .dataframe thead th {\n",
       "        text-align: right;\n",
       "    }\n",
       "</style>\n",
       "<table border=\"1\" class=\"dataframe\">\n",
       "  <thead>\n",
       "    <tr style=\"text-align: right;\">\n",
       "      <th></th>\n",
       "      <th>fullVisitorId</th>\n",
       "      <th>PredictedLogRevenue</th>\n",
       "      <th>y_pred</th>\n",
       "      <th>clf_fullVisitorId</th>\n",
       "      <th>clf_y_pred</th>\n",
       "    </tr>\n",
       "  </thead>\n",
       "  <tbody>\n",
       "    <tr>\n",
       "      <th>0</th>\n",
       "      <td>6167871330617112363</td>\n",
       "      <td>0</td>\n",
       "      <td>0.000000</td>\n",
       "      <td>6167871330617112363</td>\n",
       "      <td>0.001777</td>\n",
       "    </tr>\n",
       "    <tr>\n",
       "      <th>1</th>\n",
       "      <td>0643697640977915618</td>\n",
       "      <td>0</td>\n",
       "      <td>0.011003</td>\n",
       "      <td>0643697640977915618</td>\n",
       "      <td>0.001845</td>\n",
       "    </tr>\n",
       "    <tr>\n",
       "      <th>2</th>\n",
       "      <td>6059383810968229466</td>\n",
       "      <td>0</td>\n",
       "      <td>0.013958</td>\n",
       "      <td>6059383810968229466</td>\n",
       "      <td>0.002476</td>\n",
       "    </tr>\n",
       "    <tr>\n",
       "      <th>3</th>\n",
       "      <td>2376720078563423631</td>\n",
       "      <td>0</td>\n",
       "      <td>0.015637</td>\n",
       "      <td>2376720078563423631</td>\n",
       "      <td>0.001927</td>\n",
       "    </tr>\n",
       "    <tr>\n",
       "      <th>4</th>\n",
       "      <td>2314544520795440038</td>\n",
       "      <td>0</td>\n",
       "      <td>0.014258</td>\n",
       "      <td>2314544520795440038</td>\n",
       "      <td>0.001991</td>\n",
       "    </tr>\n",
       "    <tr>\n",
       "      <th>5</th>\n",
       "      <td>4133039884103392367</td>\n",
       "      <td>0</td>\n",
       "      <td>-0.001082</td>\n",
       "      <td>4133039884103392367</td>\n",
       "      <td>0.002501</td>\n",
       "    </tr>\n",
       "    <tr>\n",
       "      <th>6</th>\n",
       "      <td>4320478850207397557</td>\n",
       "      <td>0</td>\n",
       "      <td>0.901406</td>\n",
       "      <td>4320478850207397557</td>\n",
       "      <td>0.032285</td>\n",
       "    </tr>\n",
       "    <tr>\n",
       "      <th>7</th>\n",
       "      <td>5876438247590157131</td>\n",
       "      <td>0</td>\n",
       "      <td>1.109333</td>\n",
       "      <td>5876438247590157131</td>\n",
       "      <td>0.057988</td>\n",
       "    </tr>\n",
       "    <tr>\n",
       "      <th>8</th>\n",
       "      <td>0514591268737702944</td>\n",
       "      <td>0</td>\n",
       "      <td>0.012337</td>\n",
       "      <td>0514591268737702944</td>\n",
       "      <td>0.002091</td>\n",
       "    </tr>\n",
       "    <tr>\n",
       "      <th>9</th>\n",
       "      <td>6430567031531677212</td>\n",
       "      <td>0</td>\n",
       "      <td>0.011003</td>\n",
       "      <td>6430567031531677212</td>\n",
       "      <td>0.001845</td>\n",
       "    </tr>\n",
       "    <tr>\n",
       "      <th>10</th>\n",
       "      <td>7026374070157240653</td>\n",
       "      <td>0</td>\n",
       "      <td>0.048998</td>\n",
       "      <td>7026374070157240653</td>\n",
       "      <td>0.003795</td>\n",
       "    </tr>\n",
       "    <tr>\n",
       "      <th>11</th>\n",
       "      <td>2861724304134353779</td>\n",
       "      <td>0</td>\n",
       "      <td>0.012550</td>\n",
       "      <td>2861724304134353779</td>\n",
       "      <td>0.001825</td>\n",
       "    </tr>\n",
       "    <tr>\n",
       "      <th>12</th>\n",
       "      <td>7908247117289630366</td>\n",
       "      <td>0</td>\n",
       "      <td>0.016718</td>\n",
       "      <td>7908247117289630366</td>\n",
       "      <td>0.001872</td>\n",
       "    </tr>\n",
       "    <tr>\n",
       "      <th>13</th>\n",
       "      <td>4452127952351664046</td>\n",
       "      <td>0</td>\n",
       "      <td>0.017431</td>\n",
       "      <td>4452127952351664046</td>\n",
       "      <td>0.001862</td>\n",
       "    </tr>\n",
       "    <tr>\n",
       "      <th>14</th>\n",
       "      <td>5164677450498536535</td>\n",
       "      <td>0</td>\n",
       "      <td>0.007053</td>\n",
       "      <td>5164677450498536535</td>\n",
       "      <td>0.001822</td>\n",
       "    </tr>\n",
       "    <tr>\n",
       "      <th>15</th>\n",
       "      <td>1172736694169070530</td>\n",
       "      <td>0</td>\n",
       "      <td>0.000000</td>\n",
       "      <td>1172736694169070530</td>\n",
       "      <td>0.001782</td>\n",
       "    </tr>\n",
       "    <tr>\n",
       "      <th>16</th>\n",
       "      <td>2227276092641173528</td>\n",
       "      <td>0</td>\n",
       "      <td>0.000000</td>\n",
       "      <td>2227276092641173528</td>\n",
       "      <td>0.001783</td>\n",
       "    </tr>\n",
       "    <tr>\n",
       "      <th>17</th>\n",
       "      <td>6097905367189223328</td>\n",
       "      <td>0</td>\n",
       "      <td>0.012550</td>\n",
       "      <td>6097905367189223328</td>\n",
       "      <td>0.001834</td>\n",
       "    </tr>\n",
       "    <tr>\n",
       "      <th>18</th>\n",
       "      <td>2875748411381301550</td>\n",
       "      <td>0</td>\n",
       "      <td>0.010417</td>\n",
       "      <td>2875748411381301550</td>\n",
       "      <td>0.001885</td>\n",
       "    </tr>\n",
       "    <tr>\n",
       "      <th>19</th>\n",
       "      <td>106322241208490482</td>\n",
       "      <td>0</td>\n",
       "      <td>0.000000</td>\n",
       "      <td>106322241208490482</td>\n",
       "      <td>0.001763</td>\n",
       "    </tr>\n",
       "  </tbody>\n",
       "</table>\n",
       "</div>"
      ],
      "text/plain": [
       "          fullVisitorId  PredictedLogRevenue    y_pred    clf_fullVisitorId  \\\n",
       "0   6167871330617112363                    0  0.000000  6167871330617112363   \n",
       "1   0643697640977915618                    0  0.011003  0643697640977915618   \n",
       "2   6059383810968229466                    0  0.013958  6059383810968229466   \n",
       "3   2376720078563423631                    0  0.015637  2376720078563423631   \n",
       "4   2314544520795440038                    0  0.014258  2314544520795440038   \n",
       "5   4133039884103392367                    0 -0.001082  4133039884103392367   \n",
       "6   4320478850207397557                    0  0.901406  4320478850207397557   \n",
       "7   5876438247590157131                    0  1.109333  5876438247590157131   \n",
       "8   0514591268737702944                    0  0.012337  0514591268737702944   \n",
       "9   6430567031531677212                    0  0.011003  6430567031531677212   \n",
       "10  7026374070157240653                    0  0.048998  7026374070157240653   \n",
       "11  2861724304134353779                    0  0.012550  2861724304134353779   \n",
       "12  7908247117289630366                    0  0.016718  7908247117289630366   \n",
       "13  4452127952351664046                    0  0.017431  4452127952351664046   \n",
       "14  5164677450498536535                    0  0.007053  5164677450498536535   \n",
       "15  1172736694169070530                    0  0.000000  1172736694169070530   \n",
       "16  2227276092641173528                    0  0.000000  2227276092641173528   \n",
       "17  6097905367189223328                    0  0.012550  6097905367189223328   \n",
       "18  2875748411381301550                    0  0.010417  2875748411381301550   \n",
       "19   106322241208490482                    0  0.000000   106322241208490482   \n",
       "\n",
       "    clf_y_pred  \n",
       "0     0.001777  \n",
       "1     0.001845  \n",
       "2     0.002476  \n",
       "3     0.001927  \n",
       "4     0.001991  \n",
       "5     0.002501  \n",
       "6     0.032285  \n",
       "7     0.057988  \n",
       "8     0.002091  \n",
       "9     0.001845  \n",
       "10    0.003795  \n",
       "11    0.001825  \n",
       "12    0.001872  \n",
       "13    0.001862  \n",
       "14    0.001822  \n",
       "15    0.001782  \n",
       "16    0.001783  \n",
       "17    0.001834  \n",
       "18    0.001885  \n",
       "19    0.001763  "
      ]
     },
     "execution_count": 44,
     "metadata": {},
     "output_type": "execute_result"
    }
   ],
   "source": [
    "df_merge.head(20)"
   ]
  },
  {
   "cell_type": "code",
   "execution_count": 37,
   "metadata": {
    "ExecuteTime": {
     "end_time": "2018-09-24T13:34:48.662585Z",
     "start_time": "2018-09-24T13:34:48.619160Z"
    },
    "scrolled": true
   },
   "outputs": [
    {
     "data": {
      "text/plain": [
       "0.001758    286782\n",
       "0.001758    130550\n",
       "0.001763     61300\n",
       "0.001765     12090\n",
       "0.001880      6186\n",
       "0.001775      5752\n",
       "0.001845      5001\n",
       "0.001794      4793\n",
       "0.001782      4632\n",
       "0.001834      4087\n",
       "0.001780      3668\n",
       "0.001974      2936\n",
       "0.001838      2931\n",
       "0.001801      2455\n",
       "0.001760      2108\n",
       "0.001966      2070\n",
       "0.001862      1876\n",
       "0.001825      1836\n",
       "0.001882      1713\n",
       "0.001924      1638\n",
       "0.001946      1402\n",
       "0.002476      1320\n",
       "0.001822      1276\n",
       "0.001777      1233\n",
       "0.001767      1160\n",
       "0.001784      1031\n",
       "0.001896       995\n",
       "0.001911       975\n",
       "0.001836       975\n",
       "0.001783       967\n",
       "             ...  \n",
       "0.026527         1\n",
       "0.009889         1\n",
       "0.001860         1\n",
       "0.003017         1\n",
       "0.009836         1\n",
       "0.003502         1\n",
       "0.001917         1\n",
       "0.030109         1\n",
       "0.009689         1\n",
       "0.083051         1\n",
       "0.206638         1\n",
       "0.070131         1\n",
       "0.296257         1\n",
       "0.005472         1\n",
       "0.005857         1\n",
       "0.005967         1\n",
       "0.002424         1\n",
       "0.002607         1\n",
       "0.031565         1\n",
       "0.001849         1\n",
       "0.187453         1\n",
       "0.032586         1\n",
       "0.003100         1\n",
       "0.003318         1\n",
       "0.008420         1\n",
       "0.124340         1\n",
       "0.006063         1\n",
       "0.002874         1\n",
       "0.003683         1\n",
       "0.016305         1\n",
       "Name: clf_y_pred, Length: 116757, dtype: int64"
      ]
     },
     "execution_count": 37,
     "metadata": {},
     "output_type": "execute_result"
    }
   ],
   "source": [
    "df_merge['clf_y_pred'].value_counts()"
   ]
  },
  {
   "cell_type": "code",
   "execution_count": 45,
   "metadata": {
    "ExecuteTime": {
     "end_time": "2018-09-24T13:37:56.652626Z",
     "start_time": "2018-09-24T13:37:56.640128Z"
    }
   },
   "outputs": [],
   "source": [
    "cut_off = 0.0018\n",
    "df_merge.loc[df_merge['clf_y_pred'] < cut_off, 'y_pred'] = 0\n",
    "df_merge['PredictedLogRevenue'] = df_merge['y_pred'] "
   ]
  },
  {
   "cell_type": "code",
   "execution_count": 51,
   "metadata": {
    "ExecuteTime": {
     "end_time": "2018-09-24T13:40:27.512431Z",
     "start_time": "2018-09-24T13:40:21.372859Z"
    }
   },
   "outputs": [
    {
     "ename": "NameError",
     "evalue": "name 'result_path' is not defined",
     "traceback": [
      "\u001b[0;31m---------------------------------------------------------------------------\u001b[0m",
      "\u001b[0;31mNameError\u001b[0m                                 Traceback (most recent call last)",
      "\u001b[0;32m<ipython-input-51-cba1dc2c65ee>\u001b[0m in \u001b[0;36m<module>\u001b[0;34m()\u001b[0m\n\u001b[1;32m      6\u001b[0m \u001b[0mfile_name\u001b[0m \u001b[0;34m=\u001b[0m \u001b[0;34m'aiden_{}.csv.tar.gz'\u001b[0m\u001b[0;34m.\u001b[0m\u001b[0mformat\u001b[0m\u001b[0;34m(\u001b[0m\u001b[0mtime_tag\u001b[0m\u001b[0;34m)\u001b[0m\u001b[0;34m\u001b[0m\u001b[0m\n\u001b[1;32m      7\u001b[0m \u001b[0mdf_submit\u001b[0m\u001b[0;34m.\u001b[0m\u001b[0mto_csv\u001b[0m\u001b[0;34m(\u001b[0m\u001b[0mfile_name\u001b[0m\u001b[0;34m,\u001b[0m \u001b[0mindex\u001b[0m\u001b[0;34m=\u001b[0m\u001b[0;32mFalse\u001b[0m\u001b[0;34m,\u001b[0m \u001b[0mcompression\u001b[0m\u001b[0;34m=\u001b[0m\u001b[0;34m'gzip'\u001b[0m\u001b[0;34m)\u001b[0m\u001b[0;34m\u001b[0m\u001b[0m\n\u001b[0;32m----> 8\u001b[0;31m \u001b[0mprint\u001b[0m\u001b[0;34m(\u001b[0m\u001b[0;34m'submit:'\u001b[0m\u001b[0;34m,\u001b[0m \u001b[0mresult_path\u001b[0m\u001b[0;34m,\u001b[0m \u001b[0mfile_name\u001b[0m\u001b[0;34m)\u001b[0m\u001b[0;34m\u001b[0m\u001b[0m\n\u001b[0m",
      "\u001b[0;31mNameError\u001b[0m: name 'result_path' is not defined"
     ],
     "output_type": "error"
    }
   ],
   "source": [
    "df_merge[\"PredictedLogRevenue\"] = df_merge[\"PredictedLogRevenue\"].apply(lambda x : 0.0 if x < 0 else x)\n",
    "df_merge[\"PredictedLogRevenue\"] = df_merge[\"PredictedLogRevenue\"].fillna(0.0)\n",
    "df_submit = df_merge[['fullVisitorId', 'PredictedLogRevenue']].groupby('fullVisitorId').sum().reset_index()\n",
    "\n",
    "time_tag = datetime.datetime.now().strftime('%Y-%m-%dT%H%M%S')\n",
    "file_name = 'aiden_{}.csv.tar.gz'.format(time_tag)\n",
    "df_submit.to_csv(file_name, index=False, compression='gzip')\n",
    "print('submit:', file_name)"
   ]
  },
  {
   "cell_type": "code",
   "execution_count": 54,
   "metadata": {
    "ExecuteTime": {
     "end_time": "2018-09-24T13:42:01.120168Z",
     "start_time": "2018-09-24T13:41:40.874421Z"
    }
   },
   "outputs": [
    {
     "name": "stdout",
     "output_type": "stream",
     "text": [
      "kaggle competitions submit -c ga-customer-revenue-prediction -f aiden_2018-09-24T224022.csv.tar.gz -m \"2-level modeling cut_off 0.0018\"\n",
      "\n"
     ]
    },
    {
     "data": {
      "text/plain": [
       "0"
      ]
     },
     "execution_count": 54,
     "metadata": {},
     "output_type": "execute_result"
    }
   ],
   "source": [
    "msg = '2-level modeling cut_off 0.0018'\n",
    "cmd = \"\"\"kaggle competitions submit -c ga-customer-revenue-prediction -f {file_path} -m \"{msg}\"\n",
    "\"\"\".format(**{'file_path': file_name, 'msg': msg})\n",
    "print(cmd)\n",
    "subprocess.call(cmd, shell=True)"
   ]
  },
  {
   "cell_type": "code",
   "execution_count": null,
   "metadata": {},
   "outputs": [],
   "source": []
  }
 ],
 "metadata": {
  "kernelspec": {
   "display_name": "Python 3",
   "language": "python",
   "name": "python3"
  },
  "language_info": {
   "codemirror_mode": {
    "name": "ipython",
    "version": 3
   },
   "file_extension": ".py",
   "mimetype": "text/x-python",
   "name": "python",
   "nbconvert_exporter": "python",
   "pygments_lexer": "ipython3",
   "version": "3.6.5"
  }
 },
 "nbformat": 4,
 "nbformat_minor": 2
}
