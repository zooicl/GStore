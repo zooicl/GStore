{
 "cells": [
  {
   "cell_type": "code",
   "execution_count": 18,
   "metadata": {
    "ExecuteTime": {
     "end_time": "2018-09-24T13:25:53.764909Z",
     "start_time": "2018-09-24T13:25:53.730709Z"
    }
   },
   "outputs": [
    {
     "name": "stdout",
     "output_type": "stream",
     "text": [
      "The autoreload extension is already loaded. To reload it, use:\n",
      "  %reload_ext autoreload\n"
     ]
    }
   ],
   "source": [
    "%matplotlib inline\n",
    "%load_ext autoreload\n",
    "%autoreload 2\n",
    "\n",
    "import lightgbm as lgb\n",
    "import pandas as pd\n",
    "import numpy as np\n",
    "import datetime\n",
    "from sklearn.preprocessing import LabelEncoder\n",
    "from multiprocessing import Pool\n",
    "import subprocess\n",
    "import matplotlib.pyplot as plt\n",
    "from sklearn.metrics import confusion_matrix\n",
    "from sklearn.metrics import precision_recall_fscore_support\n",
    "import pprint\n",
    "import os\n",
    "\n",
    "from features import get_features"
   ]
  },
  {
   "cell_type": "markdown",
   "metadata": {},
   "source": [
    "### Load Data"
   ]
  },
  {
   "cell_type": "code",
   "execution_count": 2,
   "metadata": {
    "ExecuteTime": {
     "end_time": "2018-09-24T12:24:32.663772Z",
     "start_time": "2018-09-24T12:24:11.994180Z"
    }
   },
   "outputs": [
    {
     "name": "stderr",
     "output_type": "stream",
     "text": [
      "/Users/hyundai/anaconda3/lib/python3.6/site-packages/IPython/core/interactiveshell.py:2785: DtypeWarning: Columns (49) have mixed types. Specify dtype option on import or set low_memory=False.\n",
      "  interactivity=interactivity, compiler=compiler, result=result)\n"
     ]
    }
   ],
   "source": [
    "df_train = pd.read_csv(\"input/parsed_train.csv\", dtype={'fullVisitorId': 'str'})\n",
    "df_test = pd.read_csv(\"input/parsed_test.csv\", dtype={'fullVisitorId': 'str'})"
   ]
  },
  {
   "cell_type": "markdown",
   "metadata": {},
   "source": [
    "### Feature Engineering"
   ]
  },
  {
   "cell_type": "code",
   "execution_count": 3,
   "metadata": {
    "ExecuteTime": {
     "end_time": "2018-09-24T12:25:09.023723Z",
     "start_time": "2018-09-24T12:24:32.666001Z"
    }
   },
   "outputs": [
    {
     "name": "stdout",
     "output_type": "stream",
     "text": [
      "'fea_date_time'  10806.49 ms\n",
      "'fea_format'  1769.32 ms\n",
      "'fea_device'  609.23 ms\n",
      "'fea_totals'  2196.40 ms\n",
      "'fea_geo_network'  1063.95 ms\n",
      "'fea_traffic_source'  2794.99 ms\n",
      "'fea_date_time'  9276.55 ms\n",
      "'fea_format'  1557.97 ms\n",
      "'fea_device'  539.70 ms\n",
      "'fea_totals'  2157.84 ms\n",
      "'fea_geo_network'  914.91 ms\n",
      "'fea_traffic_source'  2637.50 ms\n"
     ]
    }
   ],
   "source": [
    "df_train = get_features(df_train)\n",
    "df_test = get_features(df_test)"
   ]
  },
  {
   "cell_type": "markdown",
   "metadata": {},
   "source": [
    "### Split X and y, Remove not_used_cols"
   ]
  },
  {
   "cell_type": "code",
   "execution_count": 4,
   "metadata": {
    "ExecuteTime": {
     "end_time": "2018-09-24T12:25:09.101551Z",
     "start_time": "2018-09-24T12:25:09.025817Z"
    }
   },
   "outputs": [
    {
     "data": {
      "text/plain": [
       "0    892138\n",
       "1     11515\n",
       "Name: totals_transactionRevenue, dtype: int64"
      ]
     },
     "execution_count": 4,
     "metadata": {},
     "output_type": "execute_result"
    }
   ],
   "source": [
    "target_col = 'totals_transactionRevenue'\n",
    "\n",
    "df_train_y = df_train[target_col]\n",
    "df_train_y.fillna(0, inplace=True)\n",
    "df_train_y = df_train_y.astype(int)\n",
    "df_train_y[df_train_y != 0] = 1\n",
    "df_train_y.value_counts(dropna=False)"
   ]
  },
  {
   "cell_type": "code",
   "execution_count": 5,
   "metadata": {
    "ExecuteTime": {
     "end_time": "2018-09-24T12:25:10.184396Z",
     "start_time": "2018-09-24T12:25:09.103650Z"
    }
   },
   "outputs": [],
   "source": [
    "not_used_cols = [\n",
    "    \"visitNumber\", \"date\", \"fullVisitorId\", \"sessionId\", \"visitId\",\n",
    "    \"visitStartTime\", 'trafficSource_referralPath',\n",
    "    'trafficSource_campaignCode', target_col,\n",
    "]\n",
    "df_train_idx = df_train[['fullVisitorId']]\n",
    "df_train_X = df_train.drop(not_used_cols, axis=1)\n",
    "\n",
    "df_test_idx = df_test[['fullVisitorId']]\n",
    "del_cols = list(set(df_test.columns) & set(not_used_cols))\n",
    "df_test_X = df_test.drop(del_cols, axis=1)"
   ]
  },
  {
   "cell_type": "code",
   "execution_count": 6,
   "metadata": {
    "ExecuteTime": {
     "end_time": "2018-09-24T12:25:10.224212Z",
     "start_time": "2018-09-24T12:25:10.186830Z"
    },
    "scrolled": true
   },
   "outputs": [
    {
     "name": "stdout",
     "output_type": "stream",
     "text": [
      "Index(['channelGrouping', 'socialEngagementType', 'device_browser',\n",
      "       'device_browserSize', 'device_browserVersion', 'device_deviceCategory',\n",
      "       'device_flashVersion', 'device_isMobile', 'device_language',\n",
      "       'device_mobileDeviceBranding', 'device_mobileDeviceInfo',\n",
      "       'device_mobileDeviceMarketingName', 'device_mobileDeviceModel',\n",
      "       'device_mobileInputSelector', 'device_operatingSystem',\n",
      "       'device_operatingSystemVersion', 'device_screenColors',\n",
      "       'device_screenResolution', 'geoNetwork_city', 'geoNetwork_cityId',\n",
      "       'geoNetwork_continent', 'geoNetwork_country', 'geoNetwork_latitude',\n",
      "       'geoNetwork_longitude', 'geoNetwork_metro', 'geoNetwork_networkDomain',\n",
      "       'geoNetwork_networkLocation', 'geoNetwork_region',\n",
      "       'geoNetwork_subContinent', 'totals_bounces', 'totals_hits',\n",
      "       'totals_newVisits', 'totals_pageviews', 'totals_visits',\n",
      "       'trafficSource_adContent',\n",
      "       'trafficSource_adwordsClickInfo.adNetworkType',\n",
      "       'trafficSource_adwordsClickInfo.criteriaParameters',\n",
      "       'trafficSource_adwordsClickInfo.gclId',\n",
      "       'trafficSource_adwordsClickInfo.isVideoAd',\n",
      "       'trafficSource_adwordsClickInfo.page',\n",
      "       'trafficSource_adwordsClickInfo.slot', 'trafficSource_campaign',\n",
      "       'trafficSource_isTrueDirect', 'trafficSource_keyword',\n",
      "       'trafficSource_medium', 'trafficSource_source', 'year', 'month', 'day',\n",
      "       'weekday', 'weekofyear', 'month_unique_user_count',\n",
      "       'day_unique_user_count', 'weekday_unique_user_count',\n",
      "       'month_unique_s_count', 'day_unique_s_count', 'weekday_unique_s_count',\n",
      "       'browser_category', 'browser_operatingSystem', 'source_country',\n",
      "       'mean_hits_per_day', 'sum_hits_per_day', 'max_hits_per_day',\n",
      "       'min_hits_per_day', 'var_hits_per_day',\n",
      "       'sum_pageviews_per_network_domain',\n",
      "       'count_pageviews_per_network_domain',\n",
      "       'mean_pageviews_per_network_domain', 'sum_hits_per_network_domain',\n",
      "       'count_hits_per_network_domain', 'mean_hits_per_network_domain',\n",
      "       'campaign_medium', 'medium_hits_mean', 'medium_hits_max',\n",
      "       'medium_hits_min', 'medium_hits_sum'],\n",
      "      dtype='object')\n",
      "Index(['channelGrouping', 'socialEngagementType', 'device_browser',\n",
      "       'device_browserSize', 'device_browserVersion', 'device_deviceCategory',\n",
      "       'device_flashVersion', 'device_isMobile', 'device_language',\n",
      "       'device_mobileDeviceBranding', 'device_mobileDeviceInfo',\n",
      "       'device_mobileDeviceMarketingName', 'device_mobileDeviceModel',\n",
      "       'device_mobileInputSelector', 'device_operatingSystem',\n",
      "       'device_operatingSystemVersion', 'device_screenColors',\n",
      "       'device_screenResolution', 'geoNetwork_city', 'geoNetwork_cityId',\n",
      "       'geoNetwork_continent', 'geoNetwork_country', 'geoNetwork_latitude',\n",
      "       'geoNetwork_longitude', 'geoNetwork_metro', 'geoNetwork_networkDomain',\n",
      "       'geoNetwork_networkLocation', 'geoNetwork_region',\n",
      "       'geoNetwork_subContinent', 'totals_bounces', 'totals_hits',\n",
      "       'totals_newVisits', 'totals_pageviews', 'totals_visits',\n",
      "       'trafficSource_adContent',\n",
      "       'trafficSource_adwordsClickInfo.adNetworkType',\n",
      "       'trafficSource_adwordsClickInfo.criteriaParameters',\n",
      "       'trafficSource_adwordsClickInfo.gclId',\n",
      "       'trafficSource_adwordsClickInfo.isVideoAd',\n",
      "       'trafficSource_adwordsClickInfo.page',\n",
      "       'trafficSource_adwordsClickInfo.slot', 'trafficSource_campaign',\n",
      "       'trafficSource_isTrueDirect', 'trafficSource_keyword',\n",
      "       'trafficSource_medium', 'trafficSource_source', 'year', 'month', 'day',\n",
      "       'weekday', 'weekofyear', 'month_unique_user_count',\n",
      "       'day_unique_user_count', 'weekday_unique_user_count',\n",
      "       'month_unique_s_count', 'day_unique_s_count', 'weekday_unique_s_count',\n",
      "       'browser_category', 'browser_operatingSystem', 'source_country',\n",
      "       'mean_hits_per_day', 'sum_hits_per_day', 'max_hits_per_day',\n",
      "       'min_hits_per_day', 'var_hits_per_day',\n",
      "       'sum_pageviews_per_network_domain',\n",
      "       'count_pageviews_per_network_domain',\n",
      "       'mean_pageviews_per_network_domain', 'sum_hits_per_network_domain',\n",
      "       'count_hits_per_network_domain', 'mean_hits_per_network_domain',\n",
      "       'campaign_medium', 'medium_hits_mean', 'medium_hits_max',\n",
      "       'medium_hits_min', 'medium_hits_sum'],\n",
      "      dtype='object')\n"
     ]
    }
   ],
   "source": [
    "print(df_train_X.columns)\n",
    "print(df_test_X.columns)"
   ]
  },
  {
   "cell_type": "markdown",
   "metadata": {},
   "source": [
    "### Label Encoding"
   ]
  },
  {
   "cell_type": "code",
   "execution_count": 7,
   "metadata": {
    "ExecuteTime": {
     "end_time": "2018-09-24T12:30:31.817718Z",
     "start_time": "2018-09-24T12:25:10.226443Z"
    }
   },
   "outputs": [
    {
     "name": "stdout",
     "output_type": "stream",
     "text": [
      "['channelGrouping', 'socialEngagementType', 'device_browser', 'device_browserSize', 'device_browserVersion', 'device_deviceCategory', 'device_flashVersion', 'device_isMobile', 'device_language', 'device_mobileDeviceBranding', 'device_mobileDeviceInfo', 'device_mobileDeviceMarketingName', 'device_mobileDeviceModel', 'device_mobileInputSelector', 'device_operatingSystem', 'device_operatingSystemVersion', 'device_screenColors', 'device_screenResolution', 'geoNetwork_city', 'geoNetwork_cityId', 'geoNetwork_continent', 'geoNetwork_country', 'geoNetwork_latitude', 'geoNetwork_longitude', 'geoNetwork_metro', 'geoNetwork_networkDomain', 'geoNetwork_networkLocation', 'geoNetwork_region', 'geoNetwork_subContinent', 'trafficSource_adContent', 'trafficSource_adwordsClickInfo.adNetworkType', 'trafficSource_adwordsClickInfo.criteriaParameters', 'trafficSource_adwordsClickInfo.gclId', 'trafficSource_adwordsClickInfo.isVideoAd', 'trafficSource_adwordsClickInfo.slot', 'trafficSource_campaign', 'trafficSource_isTrueDirect', 'trafficSource_keyword', 'trafficSource_medium', 'trafficSource_source', 'browser_category', 'browser_operatingSystem', 'source_country', 'campaign_medium']\n"
     ]
    },
    {
     "name": "stderr",
     "output_type": "stream",
     "text": [
      "/Users/hyundai/anaconda3/lib/python3.6/site-packages/pandas/core/frame.py:3787: SettingWithCopyWarning: \n",
      "A value is trying to be set on a copy of a slice from a DataFrame\n",
      "\n",
      "See the caveats in the documentation: http://pandas.pydata.org/pandas-docs/stable/indexing.html#indexing-view-versus-copy\n",
      "  downcast=downcast, **kwargs)\n"
     ]
    }
   ],
   "source": [
    "categorical_feature = list(df_train_X.select_dtypes(exclude=np.number).columns)\n",
    "print(categorical_feature)\n",
    "\n",
    "df_train_X[categorical_feature].fillna('NA_NULL', inplace=True)\n",
    "df_train_X.fillna(0, inplace=True)\n",
    "\n",
    "df_test_X[categorical_feature].fillna('NA_NULL', inplace=True)\n",
    "df_test_X.fillna(0, inplace=True)\n",
    "\n",
    "for c in categorical_feature:\n",
    "#     print(c)\n",
    "    lbl = LabelEncoder()\n",
    "    lbl.fit(\n",
    "        list(df_train_X[c].values.astype('str')) +\n",
    "        list(df_test_X[c].values.astype('str')))\n",
    "    df_train_X[c] = lbl.transform(list(df_train_X[c].values.astype('str')))\n",
    "    df_test_X[c] = lbl.transform(list(df_test_X[c].values.astype('str')))"
   ]
  },
  {
   "cell_type": "markdown",
   "metadata": {},
   "source": [
    "### Training"
   ]
  },
  {
   "cell_type": "code",
   "execution_count": 8,
   "metadata": {
    "ExecuteTime": {
     "end_time": "2018-09-24T12:31:02.187274Z",
     "start_time": "2018-09-24T12:30:31.820092Z"
    },
    "scrolled": true
   },
   "outputs": [
    {
     "name": "stderr",
     "output_type": "stream",
     "text": [
      "/Users/hyundai/anaconda3/lib/python3.6/site-packages/lightgbm/basic.py:1158: UserWarning: Using categorical_feature in Dataset.\n",
      "  warnings.warn('Using categorical_feature in Dataset.')\n",
      "/Users/hyundai/anaconda3/lib/python3.6/site-packages/lightgbm/basic.py:725: UserWarning: categorical_feature in param dict is overridden.\n",
      "  warnings.warn('categorical_feature in param dict is overridden.')\n"
     ]
    },
    {
     "name": "stdout",
     "output_type": "stream",
     "text": [
      "Training until validation scores don't improve for 100 rounds.\n",
      "[10]\ttrain's auc: 0.985646\tvalid's auc: 0.985646\n",
      "[20]\ttrain's auc: 0.988024\tvalid's auc: 0.988024\n",
      "[30]\ttrain's auc: 0.988246\tvalid's auc: 0.988246\n",
      "[40]\ttrain's auc: 0.988459\tvalid's auc: 0.988459\n",
      "[50]\ttrain's auc: 0.988643\tvalid's auc: 0.988643\n",
      "[60]\ttrain's auc: 0.98879\tvalid's auc: 0.98879\n",
      "[70]\ttrain's auc: 0.988966\tvalid's auc: 0.988966\n",
      "[80]\ttrain's auc: 0.989099\tvalid's auc: 0.989099\n",
      "[90]\ttrain's auc: 0.9892\tvalid's auc: 0.9892\n",
      "[100]\ttrain's auc: 0.989305\tvalid's auc: 0.989305\n",
      "[110]\ttrain's auc: 0.989408\tvalid's auc: 0.989408\n",
      "[120]\ttrain's auc: 0.989519\tvalid's auc: 0.989519\n",
      "[130]\ttrain's auc: 0.989617\tvalid's auc: 0.989617\n",
      "[140]\ttrain's auc: 0.989706\tvalid's auc: 0.989706\n",
      "[150]\ttrain's auc: 0.98979\tvalid's auc: 0.98979\n",
      "[160]\ttrain's auc: 0.989857\tvalid's auc: 0.989857\n",
      "[170]\ttrain's auc: 0.989942\tvalid's auc: 0.989942\n",
      "[180]\ttrain's auc: 0.990026\tvalid's auc: 0.990026\n",
      "[190]\ttrain's auc: 0.990117\tvalid's auc: 0.990117\n",
      "[200]\ttrain's auc: 0.990192\tvalid's auc: 0.990192\n",
      "Did not meet early stopping. Best iteration is:\n",
      "[200]\ttrain's auc: 0.990192\tvalid's auc: 0.990192\n"
     ]
    }
   ],
   "source": [
    "df_val_X = df_train_X\n",
    "df_val_y = df_train_y\n",
    "\n",
    "feature_name = list(df_train_X.columns)\n",
    "\n",
    "train = lgb.Dataset(\n",
    "    df_train_X.values,\n",
    "    label=df_train_y.values,\n",
    "    feature_name=feature_name,\n",
    "    categorical_feature=categorical_feature)\n",
    "\n",
    "valid = lgb.Dataset(\n",
    "    df_val_X.values,\n",
    "    label=df_val_y.values,\n",
    "    feature_name=feature_name,\n",
    "    categorical_feature=categorical_feature)\n",
    "\n",
    "params = {\n",
    "    'boosting_type': 'gbdt',\n",
    "    'objective': 'binary',\n",
    "    'metric': 'auc',\n",
    "    'class_weight': 'balanced',\n",
    "    \"max_depth\": 8,\n",
    "    \"min_child_samples\": 20,\n",
    "    \"reg_alpha\": 1,\n",
    "    \"reg_lambda\": 1,\n",
    "    \"num_leaves\": 257,\n",
    "    \"learning_rate\": 0.01,\n",
    "    \"subsample\": 0.8,\n",
    "    \"colsample_bytree\": 0.8,\n",
    "    \"subsample_freq \": 5,\n",
    "}\n",
    "\n",
    "evals_result = {}\n",
    "train_params = {\n",
    "    'params': params,\n",
    "    'train_set': train,\n",
    "    'valid_sets': [train, valid],\n",
    "    'valid_names': ['train', 'valid'],\n",
    "    'evals_result': evals_result,\n",
    "    'early_stopping_rounds': 100,  #50\n",
    "    'num_boost_round': 200,  #500\n",
    "    'verbose_eval': 10,\n",
    "    'feval': None,\n",
    "    #     'categorical_feature': 'auto',\n",
    "}\n",
    "\n",
    "model = lgb.train(**train_params)\n",
    "\n",
    "n_estimators = model.best_iteration"
   ]
  },
  {
   "cell_type": "markdown",
   "metadata": {},
   "source": [
    "### Evaluation"
   ]
  },
  {
   "cell_type": "code",
   "execution_count": 15,
   "metadata": {
    "ExecuteTime": {
     "end_time": "2018-09-24T13:25:12.199864Z",
     "start_time": "2018-09-24T13:25:04.831098Z"
    }
   },
   "outputs": [],
   "source": [
    "y_pred_train = model.predict(df_train_X, num_iteration=model.best_iteration)\n",
    "y_pred = model.predict(df_test_X, num_iteration=model.best_iteration)"
   ]
  },
  {
   "cell_type": "code",
   "execution_count": 19,
   "metadata": {
    "ExecuteTime": {
     "end_time": "2018-09-24T13:26:19.671893Z",
     "start_time": "2018-09-24T13:26:06.195525Z"
    }
   },
   "outputs": [
    {
     "name": "stderr",
     "output_type": "stream",
     "text": [
      "/Users/hyundai/anaconda3/lib/python3.6/site-packages/ipykernel_launcher.py:10: SettingWithCopyWarning: \n",
      "A value is trying to be set on a copy of a slice from a DataFrame.\n",
      "Try using .loc[row_indexer,col_indexer] = value instead\n",
      "\n",
      "See the caveats in the documentation: http://pandas.pydata.org/pandas-docs/stable/indexing.html#indexing-view-versus-copy\n",
      "  # Remove the CWD from sys.path while we load stuff.\n",
      "/Users/hyundai/anaconda3/lib/python3.6/site-packages/ipykernel_launcher.py:11: SettingWithCopyWarning: \n",
      "A value is trying to be set on a copy of a slice from a DataFrame.\n",
      "Try using .loc[row_indexer,col_indexer] = value instead\n",
      "\n",
      "See the caveats in the documentation: http://pandas.pydata.org/pandas-docs/stable/indexing.html#indexing-view-versus-copy\n",
      "  # This is added back by InteractiveShellApp.init_path()\n"
     ]
    },
    {
     "name": "stdout",
     "output_type": "stream",
     "text": [
      "raw_train: results/2018-09-24T222606/clf_train_2018-09-24T222606.csv\n"
     ]
    },
    {
     "name": "stderr",
     "output_type": "stream",
     "text": [
      "/Users/hyundai/anaconda3/lib/python3.6/site-packages/ipykernel_launcher.py:18: SettingWithCopyWarning: \n",
      "A value is trying to be set on a copy of a slice from a DataFrame.\n",
      "Try using .loc[row_indexer,col_indexer] = value instead\n",
      "\n",
      "See the caveats in the documentation: http://pandas.pydata.org/pandas-docs/stable/indexing.html#indexing-view-versus-copy\n"
     ]
    },
    {
     "name": "stdout",
     "output_type": "stream",
     "text": [
      "raw_test: results/2018-09-24T222606/clf_test_2018-09-24T222606.csv\n"
     ]
    },
    {
     "name": "stderr",
     "output_type": "stream",
     "text": [
      "/Users/hyundai/anaconda3/lib/python3.6/site-packages/ipykernel_launcher.py:24: SettingWithCopyWarning: \n",
      "A value is trying to be set on a copy of a slice from a DataFrame.\n",
      "Try using .loc[row_indexer,col_indexer] = value instead\n",
      "\n",
      "See the caveats in the documentation: http://pandas.pydata.org/pandas-docs/stable/indexing.html#indexing-view-versus-copy\n",
      "/Users/hyundai/anaconda3/lib/python3.6/site-packages/ipykernel_launcher.py:25: SettingWithCopyWarning: \n",
      "A value is trying to be set on a copy of a slice from a DataFrame.\n",
      "Try using .loc[row_indexer,col_indexer] = value instead\n",
      "\n",
      "See the caveats in the documentation: http://pandas.pydata.org/pandas-docs/stable/indexing.html#indexing-view-versus-copy\n",
      "/Users/hyundai/anaconda3/lib/python3.6/site-packages/ipykernel_launcher.py:26: SettingWithCopyWarning: \n",
      "A value is trying to be set on a copy of a slice from a DataFrame.\n",
      "Try using .loc[row_indexer,col_indexer] = value instead\n",
      "\n",
      "See the caveats in the documentation: http://pandas.pydata.org/pandas-docs/stable/indexing.html#indexing-view-versus-copy\n",
      "/Users/hyundai/anaconda3/lib/python3.6/site-packages/ipykernel_launcher.py:27: SettingWithCopyWarning: \n",
      "A value is trying to be set on a copy of a slice from a DataFrame.\n",
      "Try using .loc[row_indexer,col_indexer] = value instead\n",
      "\n",
      "See the caveats in the documentation: http://pandas.pydata.org/pandas-docs/stable/indexing.html#indexing-view-versus-copy\n"
     ]
    },
    {
     "name": "stdout",
     "output_type": "stream",
     "text": [
      "submit: results/2018-09-24T222606/aiden_2018-09-24T222606.csv.tar.gz\n",
      "cp -f reg_lgbm.ipynb results/2018-09-24T222606/reg_lgbm.ipynb\n",
      "\n"
     ]
    },
    {
     "data": {
      "text/plain": [
       "0"
      ]
     },
     "execution_count": 19,
     "metadata": {},
     "output_type": "execute_result"
    }
   ],
   "source": [
    "# Init result configurations\n",
    "RESULT_PATH = 'results'\n",
    "\n",
    "time_tag = datetime.datetime.now().strftime('%Y-%m-%dT%H%M%S')\n",
    "result_path = os.path.join(RESULT_PATH, time_tag)\n",
    "\n",
    "os.makedirs(result_path, exist_ok=True)\n",
    "# Create train set raw result file\n",
    "df_res = df_train_idx\n",
    "df_res['y_true'] = df_train_y.values\n",
    "df_res['y_pred'] = y_pred_train\n",
    "file_name = 'clf_train_{}.csv'.format(time_tag)\n",
    "df_res.to_csv(os.path.join(result_path, file_name), index=False)\n",
    "print('raw_train:', os.path.join(result_path, file_name))\n",
    "\n",
    "# Create train set raw result file\n",
    "df_res = df_test_idx\n",
    "df_res['y_pred'] = y_pred\n",
    "file_name = 'clf_test_{}.csv'.format(time_tag)\n",
    "df_res.to_csv(os.path.join(result_path, file_name), index=False)\n",
    "print('raw_test:', os.path.join(result_path, file_name))\n",
    "\n",
    "# Create submit file\n",
    "df_test_idx['PredictedLogRevenue'] = 0\n",
    "df_test_idx['PredictedLogRevenue'] = y_pred\n",
    "df_test_idx[\"PredictedLogRevenue\"] = df_test_idx[\"PredictedLogRevenue\"].apply(lambda x : 0.0 if x < 0 else x)\n",
    "df_test_idx[\"PredictedLogRevenue\"] = df_test_idx[\"PredictedLogRevenue\"].fillna(0.0)\n",
    "df_submit = df_test_idx[['fullVisitorId', 'PredictedLogRevenue']].groupby('fullVisitorId').sum().reset_index()\n",
    "\n",
    "file_name = 'aiden_{}.csv.tar.gz'.format(time_tag)\n",
    "df_submit.to_csv(os.path.join(result_path, file_name), index=False, compression='gzip')\n",
    "print('submit:', os.path.join(result_path, file_name))\n",
    "\n",
    "# Write MSG\n",
    "msg = []\n",
    "msg.append(str(df_train_X.columns))\n",
    "# del train_params['evals_result']\n",
    "# del train_params['valid_sets']\n",
    "msg.append(str(train_params))\n",
    "\n",
    "with open(os.path.join(result_path, 'result.log'), 'w') as f:\n",
    "    f.write('\\n'.join(msg))\n",
    "\n",
    "# Copy notebook to results for history\n",
    "cmd = \"\"\"cp -f {notebook_name} {result_path}/{notebook_name}\n",
    "\"\"\".format(**{'notebook_name': 'reg_lgbm.ipynb', 'result_path': result_path})\n",
    "print(cmd)\n",
    "subprocess.call(cmd, shell=True)\n"
   ]
  },
  {
   "cell_type": "code",
   "execution_count": 9,
   "metadata": {
    "ExecuteTime": {
     "end_time": "2018-09-24T12:31:08.891148Z",
     "start_time": "2018-09-24T12:31:02.190695Z"
    }
   },
   "outputs": [
    {
     "name": "stdout",
     "output_type": "stream",
     "text": [
      "[[594331 297807]\n",
      " [     0  11515]]\n",
      "(array([1.        , 0.03722658]), array([0.66618729, 1.        ]), array([0.79965475, 0.071781  ]), array([892138,  11515]))\n"
     ]
    }
   ],
   "source": [
    "y_pred = model.predict(df_train_X, num_iteration=model.best_iteration)\n",
    "cut_off = 0.0018\n",
    "y_score = np.floor(y_pred + 1 - cut_off)\n",
    "print(confusion_matrix(df_train_y.values, y_score))\n",
    "print(precision_recall_fscore_support(df_train_y.values, y_score))"
   ]
  },
  {
   "cell_type": "code",
   "execution_count": 10,
   "metadata": {
    "ExecuteTime": {
     "end_time": "2018-09-24T12:31:08.998948Z",
     "start_time": "2018-09-24T12:31:08.893345Z"
    }
   },
   "outputs": [
    {
     "name": "stderr",
     "output_type": "stream",
     "text": [
      "/Users/hyundai/anaconda3/lib/python3.6/site-packages/ipykernel_launcher.py:2: SettingWithCopyWarning: \n",
      "A value is trying to be set on a copy of a slice from a DataFrame.\n",
      "Try using .loc[row_indexer,col_indexer] = value instead\n",
      "\n",
      "See the caveats in the documentation: http://pandas.pydata.org/pandas-docs/stable/indexing.html#indexing-view-versus-copy\n",
      "  \n",
      "/Users/hyundai/anaconda3/lib/python3.6/site-packages/ipykernel_launcher.py:3: SettingWithCopyWarning: \n",
      "A value is trying to be set on a copy of a slice from a DataFrame.\n",
      "Try using .loc[row_indexer,col_indexer] = value instead\n",
      "\n",
      "See the caveats in the documentation: http://pandas.pydata.org/pandas-docs/stable/indexing.html#indexing-view-versus-copy\n",
      "  This is separate from the ipykernel package so we can avoid doing imports until\n",
      "/Users/hyundai/anaconda3/lib/python3.6/site-packages/ipykernel_launcher.py:4: SettingWithCopyWarning: \n",
      "A value is trying to be set on a copy of a slice from a DataFrame.\n",
      "Try using .loc[row_indexer,col_indexer] = value instead\n",
      "\n",
      "See the caveats in the documentation: http://pandas.pydata.org/pandas-docs/stable/indexing.html#indexing-view-versus-copy\n",
      "  after removing the cwd from sys.path.\n"
     ]
    }
   ],
   "source": [
    "df_res = df_train_idx\n",
    "df_res['y_true'] = df_train_y.values\n",
    "df_res['y_pred'] = y_pred\n",
    "df_res['y_score'] = y_score"
   ]
  },
  {
   "cell_type": "code",
   "execution_count": 11,
   "metadata": {
    "ExecuteTime": {
     "end_time": "2018-09-24T12:31:09.065429Z",
     "start_time": "2018-09-24T12:31:09.001047Z"
    },
    "scrolled": true
   },
   "outputs": [
    {
     "data": {
      "text/plain": [
       "0.001758    338424\n",
       "0.001758    108770\n",
       "0.001763     87355\n",
       "0.001783     10756\n",
       "0.001765     10487\n",
       "0.001880      7921\n",
       "0.001845      4431\n",
       "0.001834      4301\n",
       "0.001783      3034\n",
       "0.001966      2595\n",
       "0.001775      2585\n",
       "0.001782      2513\n",
       "0.001771      2478\n",
       "0.001789      2421\n",
       "0.001882      2383\n",
       "0.001838      2321\n",
       "0.001825      2267\n",
       "0.001782      2247\n",
       "0.001785      2186\n",
       "0.001862      2112\n",
       "0.001801      1995\n",
       "0.001946      1369\n",
       "0.001812      1346\n",
       "0.001866      1313\n",
       "0.001836      1281\n",
       "0.001911      1258\n",
       "0.001955      1240\n",
       "0.001760      1206\n",
       "0.001922      1117\n",
       "0.001794      1068\n",
       "             ...  \n",
       "0.002599         1\n",
       "0.004656         1\n",
       "0.002655         1\n",
       "0.004956         1\n",
       "0.087292         1\n",
       "0.472913         1\n",
       "0.005955         1\n",
       "0.003424         1\n",
       "0.057359         1\n",
       "0.001921         1\n",
       "0.429784         1\n",
       "0.075388         1\n",
       "0.008128         1\n",
       "0.003578         1\n",
       "0.001849         1\n",
       "0.023481         1\n",
       "0.003347         1\n",
       "0.141328         1\n",
       "0.005538         1\n",
       "0.100477         1\n",
       "0.002229         1\n",
       "0.002412         1\n",
       "0.002611         1\n",
       "0.037299         1\n",
       "0.004664         1\n",
       "0.048769         1\n",
       "0.011122         1\n",
       "0.211719         1\n",
       "0.096319         1\n",
       "0.006987         1\n",
       "Name: y_pred, Length: 142943, dtype: int64"
      ]
     },
     "execution_count": 11,
     "metadata": {},
     "output_type": "execute_result"
    }
   ],
   "source": [
    "df_res['y_pred'].value_counts()"
   ]
  },
  {
   "cell_type": "code",
   "execution_count": 12,
   "metadata": {
    "ExecuteTime": {
     "end_time": "2018-09-24T12:31:09.127036Z",
     "start_time": "2018-09-24T12:31:09.067531Z"
    },
    "scrolled": true
   },
   "outputs": [
    {
     "data": {
      "text/html": [
       "<div>\n",
       "<style scoped>\n",
       "    .dataframe tbody tr th:only-of-type {\n",
       "        vertical-align: middle;\n",
       "    }\n",
       "\n",
       "    .dataframe tbody tr th {\n",
       "        vertical-align: top;\n",
       "    }\n",
       "\n",
       "    .dataframe thead th {\n",
       "        text-align: right;\n",
       "    }\n",
       "</style>\n",
       "<table border=\"1\" class=\"dataframe\">\n",
       "  <thead>\n",
       "    <tr style=\"text-align: right;\">\n",
       "      <th></th>\n",
       "      <th>fullVisitorId</th>\n",
       "      <th>y_true</th>\n",
       "      <th>y_pred</th>\n",
       "      <th>y_score</th>\n",
       "    </tr>\n",
       "  </thead>\n",
       "  <tbody>\n",
       "    <tr>\n",
       "      <th>752</th>\n",
       "      <td>6194193421514403509</td>\n",
       "      <td>1</td>\n",
       "      <td>0.070612</td>\n",
       "      <td>1.0</td>\n",
       "    </tr>\n",
       "    <tr>\n",
       "      <th>753</th>\n",
       "      <td>5327166854580374902</td>\n",
       "      <td>1</td>\n",
       "      <td>0.108141</td>\n",
       "      <td>1.0</td>\n",
       "    </tr>\n",
       "    <tr>\n",
       "      <th>799</th>\n",
       "      <td>8885051388942907862</td>\n",
       "      <td>1</td>\n",
       "      <td>0.213628</td>\n",
       "      <td>1.0</td>\n",
       "    </tr>\n",
       "    <tr>\n",
       "      <th>802</th>\n",
       "      <td>0185467632009737931</td>\n",
       "      <td>1</td>\n",
       "      <td>0.132390</td>\n",
       "      <td>1.0</td>\n",
       "    </tr>\n",
       "    <tr>\n",
       "      <th>859</th>\n",
       "      <td>3244885836845029978</td>\n",
       "      <td>1</td>\n",
       "      <td>0.247885</td>\n",
       "      <td>1.0</td>\n",
       "    </tr>\n",
       "    <tr>\n",
       "      <th>866</th>\n",
       "      <td>3351538799616866750</td>\n",
       "      <td>1</td>\n",
       "      <td>0.145245</td>\n",
       "      <td>1.0</td>\n",
       "    </tr>\n",
       "    <tr>\n",
       "      <th>893</th>\n",
       "      <td>1776658355119092313</td>\n",
       "      <td>1</td>\n",
       "      <td>0.071879</td>\n",
       "      <td>1.0</td>\n",
       "    </tr>\n",
       "    <tr>\n",
       "      <th>910</th>\n",
       "      <td>770431600902969839</td>\n",
       "      <td>1</td>\n",
       "      <td>0.243147</td>\n",
       "      <td>1.0</td>\n",
       "    </tr>\n",
       "    <tr>\n",
       "      <th>922</th>\n",
       "      <td>7147112211830167925</td>\n",
       "      <td>1</td>\n",
       "      <td>0.031846</td>\n",
       "      <td>1.0</td>\n",
       "    </tr>\n",
       "    <tr>\n",
       "      <th>925</th>\n",
       "      <td>6664733704830724714</td>\n",
       "      <td>1</td>\n",
       "      <td>0.236819</td>\n",
       "      <td>1.0</td>\n",
       "    </tr>\n",
       "    <tr>\n",
       "      <th>930</th>\n",
       "      <td>6045930241388777741</td>\n",
       "      <td>1</td>\n",
       "      <td>0.117892</td>\n",
       "      <td>1.0</td>\n",
       "    </tr>\n",
       "    <tr>\n",
       "      <th>942</th>\n",
       "      <td>1546626226233851002</td>\n",
       "      <td>1</td>\n",
       "      <td>0.247534</td>\n",
       "      <td>1.0</td>\n",
       "    </tr>\n",
       "    <tr>\n",
       "      <th>971</th>\n",
       "      <td>4755168908070236728</td>\n",
       "      <td>1</td>\n",
       "      <td>0.398218</td>\n",
       "      <td>1.0</td>\n",
       "    </tr>\n",
       "    <tr>\n",
       "      <th>974</th>\n",
       "      <td>3794016165791476291</td>\n",
       "      <td>1</td>\n",
       "      <td>0.071613</td>\n",
       "      <td>1.0</td>\n",
       "    </tr>\n",
       "    <tr>\n",
       "      <th>976</th>\n",
       "      <td>0314733033105141755</td>\n",
       "      <td>1</td>\n",
       "      <td>0.194400</td>\n",
       "      <td>1.0</td>\n",
       "    </tr>\n",
       "    <tr>\n",
       "      <th>999</th>\n",
       "      <td>747690048733385763</td>\n",
       "      <td>1</td>\n",
       "      <td>0.210763</td>\n",
       "      <td>1.0</td>\n",
       "    </tr>\n",
       "    <tr>\n",
       "      <th>1000</th>\n",
       "      <td>8007300615127214527</td>\n",
       "      <td>1</td>\n",
       "      <td>0.317658</td>\n",
       "      <td>1.0</td>\n",
       "    </tr>\n",
       "    <tr>\n",
       "      <th>1008</th>\n",
       "      <td>8516473451212465925</td>\n",
       "      <td>1</td>\n",
       "      <td>0.320949</td>\n",
       "      <td>1.0</td>\n",
       "    </tr>\n",
       "    <tr>\n",
       "      <th>1020</th>\n",
       "      <td>6712520540378436905</td>\n",
       "      <td>1</td>\n",
       "      <td>0.162968</td>\n",
       "      <td>1.0</td>\n",
       "    </tr>\n",
       "    <tr>\n",
       "      <th>1022</th>\n",
       "      <td>3152246617474456269</td>\n",
       "      <td>1</td>\n",
       "      <td>0.394349</td>\n",
       "      <td>1.0</td>\n",
       "    </tr>\n",
       "    <tr>\n",
       "      <th>1026</th>\n",
       "      <td>1881458907401964229</td>\n",
       "      <td>1</td>\n",
       "      <td>0.196652</td>\n",
       "      <td>1.0</td>\n",
       "    </tr>\n",
       "    <tr>\n",
       "      <th>1027</th>\n",
       "      <td>1095886019324498043</td>\n",
       "      <td>1</td>\n",
       "      <td>0.328475</td>\n",
       "      <td>1.0</td>\n",
       "    </tr>\n",
       "    <tr>\n",
       "      <th>1037</th>\n",
       "      <td>8585031285178547027</td>\n",
       "      <td>1</td>\n",
       "      <td>0.323728</td>\n",
       "      <td>1.0</td>\n",
       "    </tr>\n",
       "    <tr>\n",
       "      <th>1041</th>\n",
       "      <td>3741689406060673010</td>\n",
       "      <td>1</td>\n",
       "      <td>0.321445</td>\n",
       "      <td>1.0</td>\n",
       "    </tr>\n",
       "    <tr>\n",
       "      <th>1054</th>\n",
       "      <td>4293841073200012958</td>\n",
       "      <td>1</td>\n",
       "      <td>0.467993</td>\n",
       "      <td>1.0</td>\n",
       "    </tr>\n",
       "    <tr>\n",
       "      <th>1055</th>\n",
       "      <td>0643132668463442280</td>\n",
       "      <td>1</td>\n",
       "      <td>0.257061</td>\n",
       "      <td>1.0</td>\n",
       "    </tr>\n",
       "    <tr>\n",
       "      <th>1056</th>\n",
       "      <td>1710046532262949205</td>\n",
       "      <td>1</td>\n",
       "      <td>0.465509</td>\n",
       "      <td>1.0</td>\n",
       "    </tr>\n",
       "    <tr>\n",
       "      <th>2774</th>\n",
       "      <td>7168226225550508027</td>\n",
       "      <td>1</td>\n",
       "      <td>0.440482</td>\n",
       "      <td>1.0</td>\n",
       "    </tr>\n",
       "    <tr>\n",
       "      <th>3161</th>\n",
       "      <td>2923583380085498492</td>\n",
       "      <td>1</td>\n",
       "      <td>0.026457</td>\n",
       "      <td>1.0</td>\n",
       "    </tr>\n",
       "    <tr>\n",
       "      <th>3268</th>\n",
       "      <td>62722204677243801</td>\n",
       "      <td>1</td>\n",
       "      <td>0.225813</td>\n",
       "      <td>1.0</td>\n",
       "    </tr>\n",
       "    <tr>\n",
       "      <th>...</th>\n",
       "      <td>...</td>\n",
       "      <td>...</td>\n",
       "      <td>...</td>\n",
       "      <td>...</td>\n",
       "    </tr>\n",
       "    <tr>\n",
       "      <th>899951</th>\n",
       "      <td>7451284399359627657</td>\n",
       "      <td>1</td>\n",
       "      <td>0.194753</td>\n",
       "      <td>1.0</td>\n",
       "    </tr>\n",
       "    <tr>\n",
       "      <th>903089</th>\n",
       "      <td>992812962494074450</td>\n",
       "      <td>1</td>\n",
       "      <td>0.192850</td>\n",
       "      <td>1.0</td>\n",
       "    </tr>\n",
       "    <tr>\n",
       "      <th>903118</th>\n",
       "      <td>2272979836636092591</td>\n",
       "      <td>1</td>\n",
       "      <td>0.085934</td>\n",
       "      <td>1.0</td>\n",
       "    </tr>\n",
       "    <tr>\n",
       "      <th>903122</th>\n",
       "      <td>4123860234327657457</td>\n",
       "      <td>1</td>\n",
       "      <td>0.303844</td>\n",
       "      <td>1.0</td>\n",
       "    </tr>\n",
       "    <tr>\n",
       "      <th>903167</th>\n",
       "      <td>0159084910202112487</td>\n",
       "      <td>1</td>\n",
       "      <td>0.071209</td>\n",
       "      <td>1.0</td>\n",
       "    </tr>\n",
       "    <tr>\n",
       "      <th>903168</th>\n",
       "      <td>9710480501909231921</td>\n",
       "      <td>1</td>\n",
       "      <td>0.244164</td>\n",
       "      <td>1.0</td>\n",
       "    </tr>\n",
       "    <tr>\n",
       "      <th>903189</th>\n",
       "      <td>3554960621245001989</td>\n",
       "      <td>1</td>\n",
       "      <td>0.369526</td>\n",
       "      <td>1.0</td>\n",
       "    </tr>\n",
       "    <tr>\n",
       "      <th>903194</th>\n",
       "      <td>3826933837621771483</td>\n",
       "      <td>1</td>\n",
       "      <td>0.304126</td>\n",
       "      <td>1.0</td>\n",
       "    </tr>\n",
       "    <tr>\n",
       "      <th>903201</th>\n",
       "      <td>2591017631506070831</td>\n",
       "      <td>1</td>\n",
       "      <td>0.096534</td>\n",
       "      <td>1.0</td>\n",
       "    </tr>\n",
       "    <tr>\n",
       "      <th>903211</th>\n",
       "      <td>9670996124580137796</td>\n",
       "      <td>1</td>\n",
       "      <td>0.444667</td>\n",
       "      <td>1.0</td>\n",
       "    </tr>\n",
       "    <tr>\n",
       "      <th>903222</th>\n",
       "      <td>6726478899201625475</td>\n",
       "      <td>1</td>\n",
       "      <td>0.353900</td>\n",
       "      <td>1.0</td>\n",
       "    </tr>\n",
       "    <tr>\n",
       "      <th>903228</th>\n",
       "      <td>3301001176863952275</td>\n",
       "      <td>1</td>\n",
       "      <td>0.187913</td>\n",
       "      <td>1.0</td>\n",
       "    </tr>\n",
       "    <tr>\n",
       "      <th>903234</th>\n",
       "      <td>7199611745811583535</td>\n",
       "      <td>1</td>\n",
       "      <td>0.456912</td>\n",
       "      <td>1.0</td>\n",
       "    </tr>\n",
       "    <tr>\n",
       "      <th>903235</th>\n",
       "      <td>4967676136502125585</td>\n",
       "      <td>1</td>\n",
       "      <td>0.399415</td>\n",
       "      <td>1.0</td>\n",
       "    </tr>\n",
       "    <tr>\n",
       "      <th>903243</th>\n",
       "      <td>7742753003683875687</td>\n",
       "      <td>1</td>\n",
       "      <td>0.418287</td>\n",
       "      <td>1.0</td>\n",
       "    </tr>\n",
       "    <tr>\n",
       "      <th>903249</th>\n",
       "      <td>8406359927975063956</td>\n",
       "      <td>1</td>\n",
       "      <td>0.264946</td>\n",
       "      <td>1.0</td>\n",
       "    </tr>\n",
       "    <tr>\n",
       "      <th>903256</th>\n",
       "      <td>9961713390620821018</td>\n",
       "      <td>1</td>\n",
       "      <td>0.186780</td>\n",
       "      <td>1.0</td>\n",
       "    </tr>\n",
       "    <tr>\n",
       "      <th>903259</th>\n",
       "      <td>3347706947631375795</td>\n",
       "      <td>1</td>\n",
       "      <td>0.503137</td>\n",
       "      <td>1.0</td>\n",
       "    </tr>\n",
       "    <tr>\n",
       "      <th>903262</th>\n",
       "      <td>6908387488019906910</td>\n",
       "      <td>1</td>\n",
       "      <td>0.398522</td>\n",
       "      <td>1.0</td>\n",
       "    </tr>\n",
       "    <tr>\n",
       "      <th>903271</th>\n",
       "      <td>3243512505311500350</td>\n",
       "      <td>1</td>\n",
       "      <td>0.204242</td>\n",
       "      <td>1.0</td>\n",
       "    </tr>\n",
       "    <tr>\n",
       "      <th>903275</th>\n",
       "      <td>0839560865423027275</td>\n",
       "      <td>1</td>\n",
       "      <td>0.388213</td>\n",
       "      <td>1.0</td>\n",
       "    </tr>\n",
       "    <tr>\n",
       "      <th>903284</th>\n",
       "      <td>4301598633370091052</td>\n",
       "      <td>1</td>\n",
       "      <td>0.249922</td>\n",
       "      <td>1.0</td>\n",
       "    </tr>\n",
       "    <tr>\n",
       "      <th>903285</th>\n",
       "      <td>0081840705529000272</td>\n",
       "      <td>1</td>\n",
       "      <td>0.556177</td>\n",
       "      <td>1.0</td>\n",
       "    </tr>\n",
       "    <tr>\n",
       "      <th>903291</th>\n",
       "      <td>2411322974724385937</td>\n",
       "      <td>1</td>\n",
       "      <td>0.551276</td>\n",
       "      <td>1.0</td>\n",
       "    </tr>\n",
       "    <tr>\n",
       "      <th>903298</th>\n",
       "      <td>5414778440969335716</td>\n",
       "      <td>1</td>\n",
       "      <td>0.462390</td>\n",
       "      <td>1.0</td>\n",
       "    </tr>\n",
       "    <tr>\n",
       "      <th>903302</th>\n",
       "      <td>6849604863010168468</td>\n",
       "      <td>1</td>\n",
       "      <td>0.539764</td>\n",
       "      <td>1.0</td>\n",
       "    </tr>\n",
       "    <tr>\n",
       "      <th>903305</th>\n",
       "      <td>0211986650009953276</td>\n",
       "      <td>1</td>\n",
       "      <td>0.441702</td>\n",
       "      <td>1.0</td>\n",
       "    </tr>\n",
       "    <tr>\n",
       "      <th>903314</th>\n",
       "      <td>9981562221973608723</td>\n",
       "      <td>1</td>\n",
       "      <td>0.149037</td>\n",
       "      <td>1.0</td>\n",
       "    </tr>\n",
       "    <tr>\n",
       "      <th>903315</th>\n",
       "      <td>963126344221316701</td>\n",
       "      <td>1</td>\n",
       "      <td>0.428828</td>\n",
       "      <td>1.0</td>\n",
       "    </tr>\n",
       "    <tr>\n",
       "      <th>903317</th>\n",
       "      <td>9771437221362506189</td>\n",
       "      <td>1</td>\n",
       "      <td>0.252549</td>\n",
       "      <td>1.0</td>\n",
       "    </tr>\n",
       "  </tbody>\n",
       "</table>\n",
       "<p>11515 rows × 4 columns</p>\n",
       "</div>"
      ],
      "text/plain": [
       "              fullVisitorId  y_true    y_pred  y_score\n",
       "752     6194193421514403509       1  0.070612      1.0\n",
       "753     5327166854580374902       1  0.108141      1.0\n",
       "799     8885051388942907862       1  0.213628      1.0\n",
       "802     0185467632009737931       1  0.132390      1.0\n",
       "859     3244885836845029978       1  0.247885      1.0\n",
       "866     3351538799616866750       1  0.145245      1.0\n",
       "893     1776658355119092313       1  0.071879      1.0\n",
       "910      770431600902969839       1  0.243147      1.0\n",
       "922     7147112211830167925       1  0.031846      1.0\n",
       "925     6664733704830724714       1  0.236819      1.0\n",
       "930     6045930241388777741       1  0.117892      1.0\n",
       "942     1546626226233851002       1  0.247534      1.0\n",
       "971     4755168908070236728       1  0.398218      1.0\n",
       "974     3794016165791476291       1  0.071613      1.0\n",
       "976     0314733033105141755       1  0.194400      1.0\n",
       "999      747690048733385763       1  0.210763      1.0\n",
       "1000    8007300615127214527       1  0.317658      1.0\n",
       "1008    8516473451212465925       1  0.320949      1.0\n",
       "1020    6712520540378436905       1  0.162968      1.0\n",
       "1022    3152246617474456269       1  0.394349      1.0\n",
       "1026    1881458907401964229       1  0.196652      1.0\n",
       "1027    1095886019324498043       1  0.328475      1.0\n",
       "1037    8585031285178547027       1  0.323728      1.0\n",
       "1041    3741689406060673010       1  0.321445      1.0\n",
       "1054    4293841073200012958       1  0.467993      1.0\n",
       "1055    0643132668463442280       1  0.257061      1.0\n",
       "1056    1710046532262949205       1  0.465509      1.0\n",
       "2774    7168226225550508027       1  0.440482      1.0\n",
       "3161    2923583380085498492       1  0.026457      1.0\n",
       "3268      62722204677243801       1  0.225813      1.0\n",
       "...                     ...     ...       ...      ...\n",
       "899951  7451284399359627657       1  0.194753      1.0\n",
       "903089   992812962494074450       1  0.192850      1.0\n",
       "903118  2272979836636092591       1  0.085934      1.0\n",
       "903122  4123860234327657457       1  0.303844      1.0\n",
       "903167  0159084910202112487       1  0.071209      1.0\n",
       "903168  9710480501909231921       1  0.244164      1.0\n",
       "903189  3554960621245001989       1  0.369526      1.0\n",
       "903194  3826933837621771483       1  0.304126      1.0\n",
       "903201  2591017631506070831       1  0.096534      1.0\n",
       "903211  9670996124580137796       1  0.444667      1.0\n",
       "903222  6726478899201625475       1  0.353900      1.0\n",
       "903228  3301001176863952275       1  0.187913      1.0\n",
       "903234  7199611745811583535       1  0.456912      1.0\n",
       "903235  4967676136502125585       1  0.399415      1.0\n",
       "903243  7742753003683875687       1  0.418287      1.0\n",
       "903249  8406359927975063956       1  0.264946      1.0\n",
       "903256  9961713390620821018       1  0.186780      1.0\n",
       "903259  3347706947631375795       1  0.503137      1.0\n",
       "903262  6908387488019906910       1  0.398522      1.0\n",
       "903271  3243512505311500350       1  0.204242      1.0\n",
       "903275  0839560865423027275       1  0.388213      1.0\n",
       "903284  4301598633370091052       1  0.249922      1.0\n",
       "903285  0081840705529000272       1  0.556177      1.0\n",
       "903291  2411322974724385937       1  0.551276      1.0\n",
       "903298  5414778440969335716       1  0.462390      1.0\n",
       "903302  6849604863010168468       1  0.539764      1.0\n",
       "903305  0211986650009953276       1  0.441702      1.0\n",
       "903314  9981562221973608723       1  0.149037      1.0\n",
       "903315   963126344221316701       1  0.428828      1.0\n",
       "903317  9771437221362506189       1  0.252549      1.0\n",
       "\n",
       "[11515 rows x 4 columns]"
      ]
     },
     "execution_count": 12,
     "metadata": {},
     "output_type": "execute_result"
    }
   ],
   "source": [
    "df_res[df_train_idx['y_true'] == 1]"
   ]
  },
  {
   "cell_type": "code",
   "execution_count": 13,
   "metadata": {
    "ExecuteTime": {
     "end_time": "2018-09-24T12:31:13.016978Z",
     "start_time": "2018-09-24T12:31:09.129255Z"
    }
   },
   "outputs": [
    {
     "name": "stdout",
     "output_type": "stream",
     "text": [
      "clf_2018-09-24T213109.csv\n"
     ]
    }
   ],
   "source": [
    "file_name = 'clf_{}.csv'.format(datetime.datetime.now().strftime('%Y-%m-%dT%H%M%S'))\n",
    "df_res.to_csv(file_name, index=False)\n",
    "print(file_name)"
   ]
  },
  {
   "cell_type": "markdown",
   "metadata": {},
   "source": [
    "### Feature Importance"
   ]
  },
  {
   "cell_type": "code",
   "execution_count": 14,
   "metadata": {
    "ExecuteTime": {
     "end_time": "2018-09-24T12:31:13.592933Z",
     "start_time": "2018-09-24T12:31:13.018766Z"
    }
   },
   "outputs": [
    {
     "data": {
      "text/plain": [
       "<matplotlib.axes._subplots.AxesSubplot at 0x1af3a655f8>"
      ]
     },
     "execution_count": 14,
     "metadata": {},
     "output_type": "execute_result"
    },
    {
     "data": {
      "image/png": "[encoded data removed]",
      "text/plain": [
       "<Figure size 1080x1080 with 1 Axes>"
      ]
     },
     "metadata": {},
     "output_type": "display_data"
    }
   ],
   "source": [
    "fig, ax = plt.subplots(figsize=(15,15))\n",
    "lgb.plot_importance(model, ax=ax, max_num_features=30)  "
   ]
  }
 ],
 "metadata": {
  "kernelspec": {
   "display_name": "Python 3",
   "language": "python",
   "name": "python3"
  },
  "language_info": {
   "codemirror_mode": {
    "name": "ipython",
    "version": 3
   },
   "file_extension": ".py",
   "mimetype": "text/x-python",
   "name": "python",
   "nbconvert_exporter": "python",
   "pygments_lexer": "ipython3",
   "version": "3.6.5"
  }
 },
 "nbformat": 4,
 "nbformat_minor": 2
}
