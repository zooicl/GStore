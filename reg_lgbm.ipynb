{
 "cells": [
  {
   "cell_type": "code",
   "execution_count": 1,
   "metadata": {
    "ExecuteTime": {
     "end_time": "2018-09-25T09:02:46.227254Z",
     "start_time": "2018-09-25T09:02:45.093382Z"
    }
   },
   "outputs": [
    {
     "name": "stderr",
     "output_type": "stream",
     "text": [
      "/Users/hyundai/anaconda3/lib/python3.6/site-packages/lightgbm/__init__.py:45: FutureWarning: Starting from version 2.2.1, the library file in distribution wheels for macOS will be built by the Apple Clang compiler.\n",
      "This means that in case of installing LightGBM from PyPI via the ``pip install lightgbm`` command, you won't need to install the gcc compiler anymore.\n",
      "Instead of that, you'll need to install the OpenMP library, which is required for running LightGBM on the system with the Apple Clang compiler.\n",
      "You can install the OpenMP library by the following command: ``brew install libomp``.\n",
      "  \"You can install the OpenMP library by the following command: ``brew install libomp``.\", FutureWarning)\n"
     ]
    }
   ],
   "source": [
    "%matplotlib inline\n",
    "import lightgbm as lgb\n",
    "import pandas as pd\n",
    "import numpy as np\n",
    "import datetime\n",
    "from sklearn.preprocessing import LabelEncoder\n",
    "from multiprocessing import Pool\n",
    "import subprocess\n",
    "import matplotlib.pyplot as plt\n",
    "import os\n",
    "import time\n",
    "from features import get_features"
   ]
  },
  {
   "cell_type": "markdown",
   "metadata": {},
   "source": [
    "### Load Data"
   ]
  },
  {
   "cell_type": "code",
   "execution_count": 2,
   "metadata": {
    "ExecuteTime": {
     "end_time": "2018-09-25T09:03:07.825202Z",
     "start_time": "2018-09-25T09:02:46.229058Z"
    }
   },
   "outputs": [
    {
     "name": "stderr",
     "output_type": "stream",
     "text": [
      "/Users/hyundai/anaconda3/lib/python3.6/site-packages/IPython/core/interactiveshell.py:2785: DtypeWarning: Columns (49) have mixed types. Specify dtype option on import or set low_memory=False.\n",
      "  interactivity=interactivity, compiler=compiler, result=result)\n"
     ]
    }
   ],
   "source": [
    "df_train = pd.read_csv(\"input/parsed_train.csv\", dtype={'fullVisitorId': 'str'})\n",
    "df_test = pd.read_csv(\"input/parsed_test.csv\", dtype={'fullVisitorId': 'str'})"
   ]
  },
  {
   "cell_type": "markdown",
   "metadata": {},
   "source": [
    "### Feature Engineering"
   ]
  },
  {
   "cell_type": "code",
   "execution_count": 3,
   "metadata": {
    "ExecuteTime": {
     "end_time": "2018-09-25T09:03:43.973317Z",
     "start_time": "2018-09-25T09:03:07.827239Z"
    }
   },
   "outputs": [
    {
     "name": "stdout",
     "output_type": "stream",
     "text": [
      "'fea_date_time'  10795.40 ms\n",
      "'fea_format'  1824.96 ms\n",
      "'fea_device'  668.51 ms\n",
      "'fea_totals'  2209.06 ms\n",
      "'fea_geo_network'  1011.65 ms\n",
      "'fea_traffic_source'  2869.52 ms\n",
      "'fea_date_time'  9291.94 ms\n",
      "'fea_format'  1590.95 ms\n",
      "'fea_device'  555.53 ms\n",
      "'fea_totals'  1927.08 ms\n",
      "'fea_geo_network'  876.39 ms\n",
      "'fea_traffic_source'  2521.37 ms\n"
     ]
    }
   ],
   "source": [
    "df_train = get_features(df_train)\n",
    "df_test = get_features(df_test)"
   ]
  },
  {
   "cell_type": "markdown",
   "metadata": {},
   "source": [
    "### Split X and y, Remove not_used_cols"
   ]
  },
  {
   "cell_type": "code",
   "execution_count": 4,
   "metadata": {
    "ExecuteTime": {
     "end_time": "2018-09-25T09:03:43.991050Z",
     "start_time": "2018-09-25T09:03:43.974988Z"
    }
   },
   "outputs": [],
   "source": [
    "target_col = 'totals_transactionRevenue'\n",
    "df_train_y = df_train[target_col].astype(float)\n",
    "df_train_y.fillna(0, inplace=True)\n",
    "df_train_y = np.log1p(df_train_y)"
   ]
  },
  {
   "cell_type": "code",
   "execution_count": 5,
   "metadata": {
    "ExecuteTime": {
     "end_time": "2018-09-25T09:03:44.988992Z",
     "start_time": "2018-09-25T09:03:43.993471Z"
    }
   },
   "outputs": [],
   "source": [
    "not_used_cols = [\n",
    "    \"visitNumber\", \"date\", \"fullVisitorId\", \"sessionId\", \"visitId\",\n",
    "    \"visitStartTime\", 'trafficSource_referralPath',\n",
    "    'trafficSource_campaignCode', target_col,\n",
    "]\n",
    "df_train_idx = df_train[['fullVisitorId']]\n",
    "df_train_X = df_train.drop(not_used_cols, axis=1)\n",
    "\n",
    "df_test_idx = df_test[['fullVisitorId']]\n",
    "del_cols = list(set(df_test.columns) & set(not_used_cols))\n",
    "df_test_X = df_test.drop(del_cols, axis=1)"
   ]
  },
  {
   "cell_type": "code",
   "execution_count": 6,
   "metadata": {
    "ExecuteTime": {
     "end_time": "2018-09-25T09:03:44.996037Z",
     "start_time": "2018-09-25T09:03:44.991377Z"
    },
    "scrolled": true
   },
   "outputs": [
    {
     "name": "stdout",
     "output_type": "stream",
     "text": [
      "Index(['channelGrouping', 'socialEngagementType', 'device_browser',\n",
      "       'device_browserSize', 'device_browserVersion', 'device_deviceCategory',\n",
      "       'device_flashVersion', 'device_isMobile', 'device_language',\n",
      "       'device_mobileDeviceBranding', 'device_mobileDeviceInfo',\n",
      "       'device_mobileDeviceMarketingName', 'device_mobileDeviceModel',\n",
      "       'device_mobileInputSelector', 'device_operatingSystem',\n",
      "       'device_operatingSystemVersion', 'device_screenColors',\n",
      "       'device_screenResolution', 'geoNetwork_city', 'geoNetwork_cityId',\n",
      "       'geoNetwork_continent', 'geoNetwork_country', 'geoNetwork_latitude',\n",
      "       'geoNetwork_longitude', 'geoNetwork_metro', 'geoNetwork_networkDomain',\n",
      "       'geoNetwork_networkLocation', 'geoNetwork_region',\n",
      "       'geoNetwork_subContinent', 'totals_bounces', 'totals_hits',\n",
      "       'totals_newVisits', 'totals_pageviews', 'totals_visits',\n",
      "       'trafficSource_adContent',\n",
      "       'trafficSource_adwordsClickInfo.adNetworkType',\n",
      "       'trafficSource_adwordsClickInfo.criteriaParameters',\n",
      "       'trafficSource_adwordsClickInfo.gclId',\n",
      "       'trafficSource_adwordsClickInfo.isVideoAd',\n",
      "       'trafficSource_adwordsClickInfo.page',\n",
      "       'trafficSource_adwordsClickInfo.slot', 'trafficSource_campaign',\n",
      "       'trafficSource_isTrueDirect', 'trafficSource_keyword',\n",
      "       'trafficSource_medium', 'trafficSource_source', 'month', 'day',\n",
      "       'weekday', 'weekofyear', 'month_unique_user_count',\n",
      "       'day_unique_user_count', 'weekday_unique_user_count',\n",
      "       'month_unique_s_count', 'day_unique_s_count', 'weekday_unique_s_count',\n",
      "       'browser_category', 'browser_operatingSystem', 'source_country',\n",
      "       'mean_hits_per_day', 'sum_hits_per_day', 'max_hits_per_day',\n",
      "       'min_hits_per_day', 'var_hits_per_day',\n",
      "       'sum_pageviews_per_network_domain',\n",
      "       'count_pageviews_per_network_domain',\n",
      "       'mean_pageviews_per_network_domain', 'sum_hits_per_network_domain',\n",
      "       'count_hits_per_network_domain', 'mean_hits_per_network_domain',\n",
      "       'campaign_medium', 'medium_hits_mean', 'medium_hits_max',\n",
      "       'medium_hits_min', 'medium_hits_sum'],\n",
      "      dtype='object')\n",
      "Index(['channelGrouping', 'socialEngagementType', 'device_browser',\n",
      "       'device_browserSize', 'device_browserVersion', 'device_deviceCategory',\n",
      "       'device_flashVersion', 'device_isMobile', 'device_language',\n",
      "       'device_mobileDeviceBranding', 'device_mobileDeviceInfo',\n",
      "       'device_mobileDeviceMarketingName', 'device_mobileDeviceModel',\n",
      "       'device_mobileInputSelector', 'device_operatingSystem',\n",
      "       'device_operatingSystemVersion', 'device_screenColors',\n",
      "       'device_screenResolution', 'geoNetwork_city', 'geoNetwork_cityId',\n",
      "       'geoNetwork_continent', 'geoNetwork_country', 'geoNetwork_latitude',\n",
      "       'geoNetwork_longitude', 'geoNetwork_metro', 'geoNetwork_networkDomain',\n",
      "       'geoNetwork_networkLocation', 'geoNetwork_region',\n",
      "       'geoNetwork_subContinent', 'totals_bounces', 'totals_hits',\n",
      "       'totals_newVisits', 'totals_pageviews', 'totals_visits',\n",
      "       'trafficSource_adContent',\n",
      "       'trafficSource_adwordsClickInfo.adNetworkType',\n",
      "       'trafficSource_adwordsClickInfo.criteriaParameters',\n",
      "       'trafficSource_adwordsClickInfo.gclId',\n",
      "       'trafficSource_adwordsClickInfo.isVideoAd',\n",
      "       'trafficSource_adwordsClickInfo.page',\n",
      "       'trafficSource_adwordsClickInfo.slot', 'trafficSource_campaign',\n",
      "       'trafficSource_isTrueDirect', 'trafficSource_keyword',\n",
      "       'trafficSource_medium', 'trafficSource_source', 'month', 'day',\n",
      "       'weekday', 'weekofyear', 'month_unique_user_count',\n",
      "       'day_unique_user_count', 'weekday_unique_user_count',\n",
      "       'month_unique_s_count', 'day_unique_s_count', 'weekday_unique_s_count',\n",
      "       'browser_category', 'browser_operatingSystem', 'source_country',\n",
      "       'mean_hits_per_day', 'sum_hits_per_day', 'max_hits_per_day',\n",
      "       'min_hits_per_day', 'var_hits_per_day',\n",
      "       'sum_pageviews_per_network_domain',\n",
      "       'count_pageviews_per_network_domain',\n",
      "       'mean_pageviews_per_network_domain', 'sum_hits_per_network_domain',\n",
      "       'count_hits_per_network_domain', 'mean_hits_per_network_domain',\n",
      "       'campaign_medium', 'medium_hits_mean', 'medium_hits_max',\n",
      "       'medium_hits_min', 'medium_hits_sum'],\n",
      "      dtype='object')\n"
     ]
    }
   ],
   "source": [
    "print(df_train_X.columns)\n",
    "print(df_test_X.columns)"
   ]
  },
  {
   "cell_type": "markdown",
   "metadata": {},
   "source": [
    "### Label Encoding"
   ]
  },
  {
   "cell_type": "code",
   "execution_count": 7,
   "metadata": {
    "ExecuteTime": {
     "end_time": "2018-09-25T09:09:03.688332Z",
     "start_time": "2018-09-25T09:03:44.998268Z"
    },
    "scrolled": true
   },
   "outputs": [
    {
     "name": "stderr",
     "output_type": "stream",
     "text": [
      "/Users/hyundai/anaconda3/lib/python3.6/site-packages/pandas/core/frame.py:3787: SettingWithCopyWarning: \n",
      "A value is trying to be set on a copy of a slice from a DataFrame\n",
      "\n",
      "See the caveats in the documentation: http://pandas.pydata.org/pandas-docs/stable/indexing.html#indexing-view-versus-copy\n",
      "  downcast=downcast, **kwargs)\n"
     ]
    },
    {
     "name": "stdout",
     "output_type": "stream",
     "text": [
      "channelGrouping 5.7473039627075195\n",
      "socialEngagementType 6.505327224731445\n",
      "device_browser 8.67323088645935\n",
      "device_browserSize 7.347347974777222\n",
      "device_browserVersion 7.28446102142334\n",
      "device_deviceCategory 4.7660231590271\n",
      "device_flashVersion 7.129204988479614\n",
      "device_isMobile 4.677205801010132\n",
      "device_language 7.4205482006073\n",
      "device_mobileDeviceBranding 6.94952392578125\n",
      "device_mobileDeviceInfo 6.936619997024536\n",
      "device_mobileDeviceMarketingName 6.852864980697632\n",
      "device_mobileDeviceModel 6.842455863952637\n",
      "device_mobileInputSelector 6.7945051193237305\n",
      "device_operatingSystem 5.304574966430664\n",
      "device_operatingSystemVersion 6.934168815612793\n",
      "device_screenColors 6.535118103027344\n",
      "device_screenResolution 6.623642206192017\n",
      "geoNetwork_city 6.795789957046509\n",
      "geoNetwork_cityId 6.578384160995483\n",
      "geoNetwork_continent 4.6865410804748535\n",
      "geoNetwork_country 5.7132532596588135\n",
      "geoNetwork_latitude 6.340683937072754\n",
      "geoNetwork_longitude 6.231293201446533\n",
      "geoNetwork_metro 8.380459070205688\n",
      "geoNetwork_networkDomain 8.818394184112549\n",
      "geoNetwork_networkLocation 6.782792091369629\n",
      "geoNetwork_region 7.2265050411224365\n",
      "geoNetwork_subContinent 5.089016914367676\n",
      "trafficSource_adContent 6.185790061950684\n",
      "trafficSource_adwordsClickInfo.adNetworkType 3.9270689487457275\n",
      "trafficSource_adwordsClickInfo.criteriaParameters 6.42677903175354\n",
      "trafficSource_adwordsClickInfo.gclId 10.324767827987671\n",
      "trafficSource_adwordsClickInfo.isVideoAd 4.219540119171143\n",
      "trafficSource_adwordsClickInfo.slot 4.248586654663086\n",
      "trafficSource_campaign 8.606332778930664\n",
      "trafficSource_isTrueDirect 4.20136022567749\n",
      "trafficSource_keyword 19.28139615058899\n",
      "trafficSource_medium 3.7497711181640625\n",
      "trafficSource_source 8.076873064041138\n",
      "browser_category 8.172255992889404\n",
      "browser_operatingSystem 8.485220909118652\n",
      "source_country 9.8225998878479\n",
      "campaign_medium 8.889320850372314\n"
     ]
    }
   ],
   "source": [
    "categorical_feature = list(df_train_X.select_dtypes(exclude=np.number).columns)\n",
    "# print(categorical_feature)\n",
    "\n",
    "df_train_X[categorical_feature].fillna('NA_NULL', inplace=True)\n",
    "df_train_X.fillna(0, inplace=True)\n",
    "\n",
    "df_test_X[categorical_feature].fillna('NA_NULL', inplace=True)\n",
    "df_test_X.fillna(0, inplace=True)\n",
    "\n",
    "for c in categorical_feature:\n",
    "    st = time.time()\n",
    "    lbl = LabelEncoder()\n",
    "    lbl.fit(\n",
    "        list(df_train_X[c].values.astype('str')) +\n",
    "        list(df_test_X[c].values.astype('str')))\n",
    "    df_train_X[c] = lbl.transform(list(df_train_X[c].values.astype('str')))\n",
    "    df_test_X[c] = lbl.transform(list(df_test_X[c].values.astype('str')))\n",
    "    print(c, time.time() - st)"
   ]
  },
  {
   "cell_type": "markdown",
   "metadata": {},
   "source": [
    "### Training"
   ]
  },
  {
   "cell_type": "code",
   "execution_count": 8,
   "metadata": {
    "ExecuteTime": {
     "end_time": "2018-09-25T09:09:26.447343Z",
     "start_time": "2018-09-25T09:09:03.690867Z"
    }
   },
   "outputs": [
    {
     "name": "stderr",
     "output_type": "stream",
     "text": [
      "/Users/hyundai/anaconda3/lib/python3.6/site-packages/lightgbm/basic.py:1158: UserWarning: Using categorical_feature in Dataset.\n",
      "  warnings.warn('Using categorical_feature in Dataset.')\n",
      "/Users/hyundai/anaconda3/lib/python3.6/site-packages/lightgbm/basic.py:725: UserWarning: categorical_feature in param dict is overridden.\n",
      "  warnings.warn('categorical_feature in param dict is overridden.')\n"
     ]
    },
    {
     "name": "stdout",
     "output_type": "stream",
     "text": [
      "Training until validation scores don't improve for 100 rounds.\n",
      "[50]\ttrain's rmse: 1.78177\tvalid's rmse: 1.78177\n",
      "[100]\ttrain's rmse: 1.67541\tvalid's rmse: 1.67541\n",
      "[150]\ttrain's rmse: 1.61859\tvalid's rmse: 1.61859\n",
      "[200]\ttrain's rmse: 1.58507\tvalid's rmse: 1.58507\n",
      "[250]\ttrain's rmse: 1.56044\tvalid's rmse: 1.56044\n",
      "[300]\ttrain's rmse: 1.54128\tvalid's rmse: 1.54128\n",
      "Did not meet early stopping. Best iteration is:\n",
      "[300]\ttrain's rmse: 1.54128\tvalid's rmse: 1.54128\n"
     ]
    }
   ],
   "source": [
    "df_val_X = df_train_X\n",
    "df_val_y = df_train_y\n",
    "\n",
    "feature_name = list(df_train_X.columns)\n",
    "\n",
    "train = lgb.Dataset(\n",
    "    df_train_X.values,\n",
    "    label=df_train_y.values,\n",
    "    feature_name=feature_name,\n",
    "    categorical_feature=categorical_feature)\n",
    "\n",
    "valid = lgb.Dataset(\n",
    "    df_val_X.values,\n",
    "    label=df_val_y.values,\n",
    "    feature_name=feature_name,\n",
    "    categorical_feature=categorical_feature)\n",
    "\n",
    "params = {\n",
    "    \"objective\": \"regression\",\n",
    "    \"metric\": \"rmse\",\n",
    "    \"max_depth\": 8,\n",
    "    \"min_child_samples\": 20,\n",
    "    \"reg_alpha\": 1,\n",
    "    \"reg_lambda\": 1,\n",
    "    \"num_leaves\": 257,\n",
    "    \"learning_rate\": 0.01,\n",
    "    \"subsample\": 0.8,\n",
    "    \"colsample_bytree\": 0.8,\n",
    "    \"subsample_freq \": 5,\n",
    "}\n",
    "\n",
    "evals_result = {}\n",
    "train_params = {\n",
    "    'params': params,\n",
    "    'train_set': train,\n",
    "    'valid_sets': [train, valid],\n",
    "    'valid_names': ['train', 'valid'],\n",
    "    'evals_result': evals_result,\n",
    "    'early_stopping_rounds': 100,  #50\n",
    "    'num_boost_round': 300,  #500\n",
    "    'verbose_eval': 50,\n",
    "    'feval': None,\n",
    "    #     'categorical_feature': 'auto',\n",
    "}\n",
    "\n",
    "model = lgb.train(**train_params)\n",
    "\n",
    "n_estimators = model.best_iteration"
   ]
  },
  {
   "cell_type": "markdown",
   "metadata": {},
   "source": [
    "### Prediction"
   ]
  },
  {
   "cell_type": "code",
   "execution_count": 9,
   "metadata": {
    "ExecuteTime": {
     "end_time": "2018-09-25T09:09:41.156094Z",
     "start_time": "2018-09-25T09:09:26.449836Z"
    },
    "scrolled": true
   },
   "outputs": [],
   "source": [
    "y_pred_train = model.predict(df_train_X, num_iteration=model.best_iteration)\n",
    "y_pred = model.predict(df_test_X, num_iteration=model.best_iteration)"
   ]
  },
  {
   "cell_type": "markdown",
   "metadata": {},
   "source": [
    "### Report"
   ]
  },
  {
   "cell_type": "code",
   "execution_count": 10,
   "metadata": {
    "ExecuteTime": {
     "end_time": "2018-09-25T09:09:53.432762Z",
     "start_time": "2018-09-25T09:09:41.161905Z"
    }
   },
   "outputs": [
    {
     "name": "stderr",
     "output_type": "stream",
     "text": [
      "/Users/hyundai/anaconda3/lib/python3.6/site-packages/ipykernel_launcher.py:11: SettingWithCopyWarning: \n",
      "A value is trying to be set on a copy of a slice from a DataFrame.\n",
      "Try using .loc[row_indexer,col_indexer] = value instead\n",
      "\n",
      "See the caveats in the documentation: http://pandas.pydata.org/pandas-docs/stable/indexing.html#indexing-view-versus-copy\n",
      "  # This is added back by InteractiveShellApp.init_path()\n",
      "/Users/hyundai/anaconda3/lib/python3.6/site-packages/ipykernel_launcher.py:12: SettingWithCopyWarning: \n",
      "A value is trying to be set on a copy of a slice from a DataFrame.\n",
      "Try using .loc[row_indexer,col_indexer] = value instead\n",
      "\n",
      "See the caveats in the documentation: http://pandas.pydata.org/pandas-docs/stable/indexing.html#indexing-view-versus-copy\n",
      "  if sys.path[0] == '':\n"
     ]
    },
    {
     "name": "stdout",
     "output_type": "stream",
     "text": [
      "raw_train: results/2018-09-25T180941__T1.541_V1.541_K/reg_train_2018-09-25T180941.csv\n"
     ]
    },
    {
     "name": "stderr",
     "output_type": "stream",
     "text": [
      "/Users/hyundai/anaconda3/lib/python3.6/site-packages/ipykernel_launcher.py:19: SettingWithCopyWarning: \n",
      "A value is trying to be set on a copy of a slice from a DataFrame.\n",
      "Try using .loc[row_indexer,col_indexer] = value instead\n",
      "\n",
      "See the caveats in the documentation: http://pandas.pydata.org/pandas-docs/stable/indexing.html#indexing-view-versus-copy\n"
     ]
    },
    {
     "name": "stdout",
     "output_type": "stream",
     "text": [
      "raw_test: results/2018-09-25T180941__T1.541_V1.541_K/reg_test_2018-09-25T180941.csv\n"
     ]
    },
    {
     "name": "stderr",
     "output_type": "stream",
     "text": [
      "/Users/hyundai/anaconda3/lib/python3.6/site-packages/ipykernel_launcher.py:25: SettingWithCopyWarning: \n",
      "A value is trying to be set on a copy of a slice from a DataFrame.\n",
      "Try using .loc[row_indexer,col_indexer] = value instead\n",
      "\n",
      "See the caveats in the documentation: http://pandas.pydata.org/pandas-docs/stable/indexing.html#indexing-view-versus-copy\n",
      "/Users/hyundai/anaconda3/lib/python3.6/site-packages/ipykernel_launcher.py:26: SettingWithCopyWarning: \n",
      "A value is trying to be set on a copy of a slice from a DataFrame.\n",
      "Try using .loc[row_indexer,col_indexer] = value instead\n",
      "\n",
      "See the caveats in the documentation: http://pandas.pydata.org/pandas-docs/stable/indexing.html#indexing-view-versus-copy\n",
      "/Users/hyundai/anaconda3/lib/python3.6/site-packages/ipykernel_launcher.py:27: SettingWithCopyWarning: \n",
      "A value is trying to be set on a copy of a slice from a DataFrame.\n",
      "Try using .loc[row_indexer,col_indexer] = value instead\n",
      "\n",
      "See the caveats in the documentation: http://pandas.pydata.org/pandas-docs/stable/indexing.html#indexing-view-versus-copy\n",
      "/Users/hyundai/anaconda3/lib/python3.6/site-packages/ipykernel_launcher.py:28: SettingWithCopyWarning: \n",
      "A value is trying to be set on a copy of a slice from a DataFrame.\n",
      "Try using .loc[row_indexer,col_indexer] = value instead\n",
      "\n",
      "See the caveats in the documentation: http://pandas.pydata.org/pandas-docs/stable/indexing.html#indexing-view-versus-copy\n"
     ]
    },
    {
     "name": "stdout",
     "output_type": "stream",
     "text": [
      "submit: results/2018-09-25T180941__T1.541_V1.541_K/aiden_2018-09-25T180941.csv.tar.gz\n",
      "cp -f reg_lgbm.ipynb results/2018-09-25T180941__T1.541_V1.541_K/reg_lgbm.ipynb\n",
      "\n"
     ]
    },
    {
     "data": {
      "text/plain": [
       "0"
      ]
     },
     "execution_count": 10,
     "metadata": {},
     "output_type": "execute_result"
    }
   ],
   "source": [
    "# Init result configurations\n",
    "RESULT_PATH = 'results'\n",
    "\n",
    "time_tag = datetime.datetime.now().strftime('%Y-%m-%dT%H%M%S')\n",
    "rmse_tag = 'T{0:.3f}_V{0:.3f}_K'.format(model.best_score['train']['rmse'], model.best_score['valid']['rmse'])\n",
    "result_path = os.path.join(RESULT_PATH, '{}__{}'.format(time_tag, rmse_tag))\n",
    "\n",
    "os.makedirs(result_path, exist_ok=True)\n",
    "# Create train set raw result file\n",
    "df_res = df_train_idx\n",
    "df_res['y_true'] = df_train_y.values\n",
    "df_res['y_pred'] = y_pred_train\n",
    "file_name = 'reg_train_{}.csv'.format(time_tag)\n",
    "df_res.to_csv(os.path.join(result_path, file_name), index=False)\n",
    "print('raw_train:', os.path.join(result_path, file_name))\n",
    "\n",
    "# Create train set raw result file\n",
    "df_res = df_test_idx\n",
    "df_res['y_pred'] = y_pred\n",
    "file_name = 'reg_test_{}.csv'.format(time_tag)\n",
    "df_res.to_csv(os.path.join(result_path, file_name), index=False)\n",
    "print('raw_test:', os.path.join(result_path, file_name))\n",
    "\n",
    "# Create submit file\n",
    "df_test_idx['PredictedLogRevenue'] = 0\n",
    "df_test_idx['PredictedLogRevenue'] = y_pred\n",
    "df_test_idx[\"PredictedLogRevenue\"] = df_test_idx[\"PredictedLogRevenue\"].apply(lambda x : 0.0 if x < 0 else x)\n",
    "df_test_idx[\"PredictedLogRevenue\"] = df_test_idx[\"PredictedLogRevenue\"].fillna(0.0)\n",
    "df_submit = df_test_idx[['fullVisitorId', 'PredictedLogRevenue']].groupby('fullVisitorId').sum().reset_index()\n",
    "df_submit[\"PredictedLogRevenue\"] = np.log1p(df_submit[\"PredictedLogRevenue\"])\n",
    "\n",
    "file_name = 'aiden_{}.csv.tar.gz'.format(time_tag)\n",
    "df_submit.to_csv(os.path.join(result_path, file_name), index=False, compression='gzip')\n",
    "print('submit:', os.path.join(result_path, file_name))\n",
    "\n",
    "# Write MSG\n",
    "msg = []\n",
    "msg.append(str(df_train_X.columns))\n",
    "# del train_params['evals_result']\n",
    "# del train_params['valid_sets']\n",
    "msg.append(str(train_params))\n",
    "\n",
    "with open(os.path.join(result_path, 'result.log'), 'w') as f:\n",
    "    f.write('\\n'.join(msg))\n",
    "\n",
    "# Copy notebook to results for history\n",
    "cmd = \"\"\"cp -f {notebook_name} {result_path}/{notebook_name}\n",
    "\"\"\".format(**{'notebook_name': 'reg_lgbm.ipynb', 'result_path': result_path})\n",
    "print(cmd)\n",
    "subprocess.call(cmd, shell=True)\n"
   ]
  },
  {
   "cell_type": "code",
   "execution_count": 11,
   "metadata": {
    "ExecuteTime": {
     "end_time": "2018-09-25T09:09:53.453440Z",
     "start_time": "2018-09-25T09:09:53.435375Z"
    },
    "scrolled": true
   },
   "outputs": [
    {
     "data": {
      "text/html": [
       "<div>\n",
       "<style scoped>\n",
       "    .dataframe tbody tr th:only-of-type {\n",
       "        vertical-align: middle;\n",
       "    }\n",
       "\n",
       "    .dataframe tbody tr th {\n",
       "        vertical-align: top;\n",
       "    }\n",
       "\n",
       "    .dataframe thead th {\n",
       "        text-align: right;\n",
       "    }\n",
       "</style>\n",
       "<table border=\"1\" class=\"dataframe\">\n",
       "  <thead>\n",
       "    <tr style=\"text-align: right;\">\n",
       "      <th></th>\n",
       "      <th>fullVisitorId</th>\n",
       "      <th>PredictedLogRevenue</th>\n",
       "    </tr>\n",
       "  </thead>\n",
       "  <tbody>\n",
       "    <tr>\n",
       "      <th>0</th>\n",
       "      <td>0000000259678714014</td>\n",
       "      <td>0.287296</td>\n",
       "    </tr>\n",
       "    <tr>\n",
       "      <th>1</th>\n",
       "      <td>0000049363351866189</td>\n",
       "      <td>0.032244</td>\n",
       "    </tr>\n",
       "    <tr>\n",
       "      <th>2</th>\n",
       "      <td>0000053049821714864</td>\n",
       "      <td>0.010874</td>\n",
       "    </tr>\n",
       "    <tr>\n",
       "      <th>3</th>\n",
       "      <td>0000059488412965267</td>\n",
       "      <td>0.036499</td>\n",
       "    </tr>\n",
       "    <tr>\n",
       "      <th>4</th>\n",
       "      <td>0000085840370633780</td>\n",
       "      <td>0.016534</td>\n",
       "    </tr>\n",
       "    <tr>\n",
       "      <th>5</th>\n",
       "      <td>0000091131414287111</td>\n",
       "      <td>0.010725</td>\n",
       "    </tr>\n",
       "    <tr>\n",
       "      <th>6</th>\n",
       "      <td>0000117255350596610</td>\n",
       "      <td>1.896854</td>\n",
       "    </tr>\n",
       "    <tr>\n",
       "      <th>7</th>\n",
       "      <td>0000118334805178127</td>\n",
       "      <td>0.010742</td>\n",
       "    </tr>\n",
       "    <tr>\n",
       "      <th>8</th>\n",
       "      <td>0000130646294093000</td>\n",
       "      <td>0.010670</td>\n",
       "    </tr>\n",
       "    <tr>\n",
       "      <th>9</th>\n",
       "      <td>0000150005271820273</td>\n",
       "      <td>0.011229</td>\n",
       "    </tr>\n",
       "    <tr>\n",
       "      <th>10</th>\n",
       "      <td>0000166374699289385</td>\n",
       "      <td>0.027638</td>\n",
       "    </tr>\n",
       "    <tr>\n",
       "      <th>11</th>\n",
       "      <td>0000174453501096099</td>\n",
       "      <td>0.010725</td>\n",
       "    </tr>\n",
       "    <tr>\n",
       "      <th>12</th>\n",
       "      <td>000018122977590134</td>\n",
       "      <td>1.794081</td>\n",
       "    </tr>\n",
       "    <tr>\n",
       "      <th>13</th>\n",
       "      <td>000020731284570628</td>\n",
       "      <td>0.010725</td>\n",
       "    </tr>\n",
       "    <tr>\n",
       "      <th>14</th>\n",
       "      <td>0000232022622082281</td>\n",
       "      <td>0.010864</td>\n",
       "    </tr>\n",
       "    <tr>\n",
       "      <th>15</th>\n",
       "      <td>0000271086753662651</td>\n",
       "      <td>0.010725</td>\n",
       "    </tr>\n",
       "    <tr>\n",
       "      <th>16</th>\n",
       "      <td>0000282648818935742</td>\n",
       "      <td>0.010670</td>\n",
       "    </tr>\n",
       "    <tr>\n",
       "      <th>17</th>\n",
       "      <td>00003038793126460</td>\n",
       "      <td>0.029341</td>\n",
       "    </tr>\n",
       "    <tr>\n",
       "      <th>18</th>\n",
       "      <td>0000313524203455157</td>\n",
       "      <td>0.017196</td>\n",
       "    </tr>\n",
       "    <tr>\n",
       "      <th>19</th>\n",
       "      <td>0000324924635296742</td>\n",
       "      <td>0.019704</td>\n",
       "    </tr>\n",
       "    <tr>\n",
       "      <th>20</th>\n",
       "      <td>0000338548677636278</td>\n",
       "      <td>0.010670</td>\n",
       "    </tr>\n",
       "    <tr>\n",
       "      <th>21</th>\n",
       "      <td>0000354865008116989</td>\n",
       "      <td>0.010725</td>\n",
       "    </tr>\n",
       "    <tr>\n",
       "      <th>22</th>\n",
       "      <td>0000359974620542953</td>\n",
       "      <td>0.030323</td>\n",
       "    </tr>\n",
       "    <tr>\n",
       "      <th>23</th>\n",
       "      <td>0000384434116640351</td>\n",
       "      <td>1.523342</td>\n",
       "    </tr>\n",
       "    <tr>\n",
       "      <th>24</th>\n",
       "      <td>0000385653946068037</td>\n",
       "      <td>0.011101</td>\n",
       "    </tr>\n",
       "    <tr>\n",
       "      <th>25</th>\n",
       "      <td>0000397214032106948</td>\n",
       "      <td>0.010725</td>\n",
       "    </tr>\n",
       "    <tr>\n",
       "      <th>26</th>\n",
       "      <td>0000414003317636552</td>\n",
       "      <td>1.356994</td>\n",
       "    </tr>\n",
       "    <tr>\n",
       "      <th>27</th>\n",
       "      <td>0000421850492821864</td>\n",
       "      <td>0.010725</td>\n",
       "    </tr>\n",
       "    <tr>\n",
       "      <th>28</th>\n",
       "      <td>0000436683523507380</td>\n",
       "      <td>0.074949</td>\n",
       "    </tr>\n",
       "    <tr>\n",
       "      <th>29</th>\n",
       "      <td>0000443488189725694</td>\n",
       "      <td>0.010983</td>\n",
       "    </tr>\n",
       "    <tr>\n",
       "      <th>...</th>\n",
       "      <td>...</td>\n",
       "      <td>...</td>\n",
       "    </tr>\n",
       "    <tr>\n",
       "      <th>617212</th>\n",
       "      <td>9999496940471624606</td>\n",
       "      <td>0.049720</td>\n",
       "    </tr>\n",
       "    <tr>\n",
       "      <th>617213</th>\n",
       "      <td>9999518756481096457</td>\n",
       "      <td>0.160808</td>\n",
       "    </tr>\n",
       "    <tr>\n",
       "      <th>617214</th>\n",
       "      <td>999953571560215806</td>\n",
       "      <td>0.012855</td>\n",
       "    </tr>\n",
       "    <tr>\n",
       "      <th>617215</th>\n",
       "      <td>9999562285379264463</td>\n",
       "      <td>0.010742</td>\n",
       "    </tr>\n",
       "    <tr>\n",
       "      <th>617216</th>\n",
       "      <td>9999614340989943927</td>\n",
       "      <td>0.010725</td>\n",
       "    </tr>\n",
       "    <tr>\n",
       "      <th>617217</th>\n",
       "      <td>9999627287761032935</td>\n",
       "      <td>0.012890</td>\n",
       "    </tr>\n",
       "    <tr>\n",
       "      <th>617218</th>\n",
       "      <td>9999629963061245228</td>\n",
       "      <td>0.012883</td>\n",
       "    </tr>\n",
       "    <tr>\n",
       "      <th>617219</th>\n",
       "      <td>9999664171331798815</td>\n",
       "      <td>0.010725</td>\n",
       "    </tr>\n",
       "    <tr>\n",
       "      <th>617220</th>\n",
       "      <td>9999686314743907991</td>\n",
       "      <td>0.010713</td>\n",
       "    </tr>\n",
       "    <tr>\n",
       "      <th>617221</th>\n",
       "      <td>9999686339684184799</td>\n",
       "      <td>0.010725</td>\n",
       "    </tr>\n",
       "    <tr>\n",
       "      <th>617222</th>\n",
       "      <td>9999687906312811598</td>\n",
       "      <td>0.024148</td>\n",
       "    </tr>\n",
       "    <tr>\n",
       "      <th>617223</th>\n",
       "      <td>9999715835738672145</td>\n",
       "      <td>0.010725</td>\n",
       "    </tr>\n",
       "    <tr>\n",
       "      <th>617224</th>\n",
       "      <td>9999733949531374274</td>\n",
       "      <td>0.010725</td>\n",
       "    </tr>\n",
       "    <tr>\n",
       "      <th>617225</th>\n",
       "      <td>9999775084144044428</td>\n",
       "      <td>0.012831</td>\n",
       "    </tr>\n",
       "    <tr>\n",
       "      <th>617226</th>\n",
       "      <td>999977536649351076</td>\n",
       "      <td>0.027994</td>\n",
       "    </tr>\n",
       "    <tr>\n",
       "      <th>617227</th>\n",
       "      <td>9999786007255502100</td>\n",
       "      <td>0.012706</td>\n",
       "    </tr>\n",
       "    <tr>\n",
       "      <th>617228</th>\n",
       "      <td>9999789814107288877</td>\n",
       "      <td>0.010670</td>\n",
       "    </tr>\n",
       "    <tr>\n",
       "      <th>617229</th>\n",
       "      <td>9999803509476553670</td>\n",
       "      <td>0.010742</td>\n",
       "    </tr>\n",
       "    <tr>\n",
       "      <th>617230</th>\n",
       "      <td>9999818112872622034</td>\n",
       "      <td>0.429112</td>\n",
       "    </tr>\n",
       "    <tr>\n",
       "      <th>617231</th>\n",
       "      <td>9999819762744314978</td>\n",
       "      <td>0.062531</td>\n",
       "    </tr>\n",
       "    <tr>\n",
       "      <th>617232</th>\n",
       "      <td>9999824326944242344</td>\n",
       "      <td>1.439290</td>\n",
       "    </tr>\n",
       "    <tr>\n",
       "      <th>617233</th>\n",
       "      <td>9999834067265202923</td>\n",
       "      <td>0.010571</td>\n",
       "    </tr>\n",
       "    <tr>\n",
       "      <th>617234</th>\n",
       "      <td>9999841005270636052</td>\n",
       "      <td>0.012782</td>\n",
       "    </tr>\n",
       "    <tr>\n",
       "      <th>617235</th>\n",
       "      <td>9999860794386137754</td>\n",
       "      <td>0.028609</td>\n",
       "    </tr>\n",
       "    <tr>\n",
       "      <th>617236</th>\n",
       "      <td>9999882818693474736</td>\n",
       "      <td>2.177337</td>\n",
       "    </tr>\n",
       "    <tr>\n",
       "      <th>617237</th>\n",
       "      <td>9999905960465191827</td>\n",
       "      <td>0.033815</td>\n",
       "    </tr>\n",
       "    <tr>\n",
       "      <th>617238</th>\n",
       "      <td>9999941518946450908</td>\n",
       "      <td>0.010725</td>\n",
       "    </tr>\n",
       "    <tr>\n",
       "      <th>617239</th>\n",
       "      <td>9999969142283897422</td>\n",
       "      <td>0.017366</td>\n",
       "    </tr>\n",
       "    <tr>\n",
       "      <th>617240</th>\n",
       "      <td>9999985820452794361</td>\n",
       "      <td>0.042885</td>\n",
       "    </tr>\n",
       "    <tr>\n",
       "      <th>617241</th>\n",
       "      <td>9999997304197521748</td>\n",
       "      <td>0.010670</td>\n",
       "    </tr>\n",
       "  </tbody>\n",
       "</table>\n",
       "<p>617242 rows × 2 columns</p>\n",
       "</div>"
      ],
      "text/plain": [
       "              fullVisitorId  PredictedLogRevenue\n",
       "0       0000000259678714014             0.287296\n",
       "1       0000049363351866189             0.032244\n",
       "2       0000053049821714864             0.010874\n",
       "3       0000059488412965267             0.036499\n",
       "4       0000085840370633780             0.016534\n",
       "5       0000091131414287111             0.010725\n",
       "6       0000117255350596610             1.896854\n",
       "7       0000118334805178127             0.010742\n",
       "8       0000130646294093000             0.010670\n",
       "9       0000150005271820273             0.011229\n",
       "10      0000166374699289385             0.027638\n",
       "11      0000174453501096099             0.010725\n",
       "12       000018122977590134             1.794081\n",
       "13       000020731284570628             0.010725\n",
       "14      0000232022622082281             0.010864\n",
       "15      0000271086753662651             0.010725\n",
       "16      0000282648818935742             0.010670\n",
       "17        00003038793126460             0.029341\n",
       "18      0000313524203455157             0.017196\n",
       "19      0000324924635296742             0.019704\n",
       "20      0000338548677636278             0.010670\n",
       "21      0000354865008116989             0.010725\n",
       "22      0000359974620542953             0.030323\n",
       "23      0000384434116640351             1.523342\n",
       "24      0000385653946068037             0.011101\n",
       "25      0000397214032106948             0.010725\n",
       "26      0000414003317636552             1.356994\n",
       "27      0000421850492821864             0.010725\n",
       "28      0000436683523507380             0.074949\n",
       "29      0000443488189725694             0.010983\n",
       "...                     ...                  ...\n",
       "617212  9999496940471624606             0.049720\n",
       "617213  9999518756481096457             0.160808\n",
       "617214   999953571560215806             0.012855\n",
       "617215  9999562285379264463             0.010742\n",
       "617216  9999614340989943927             0.010725\n",
       "617217  9999627287761032935             0.012890\n",
       "617218  9999629963061245228             0.012883\n",
       "617219  9999664171331798815             0.010725\n",
       "617220  9999686314743907991             0.010713\n",
       "617221  9999686339684184799             0.010725\n",
       "617222  9999687906312811598             0.024148\n",
       "617223  9999715835738672145             0.010725\n",
       "617224  9999733949531374274             0.010725\n",
       "617225  9999775084144044428             0.012831\n",
       "617226   999977536649351076             0.027994\n",
       "617227  9999786007255502100             0.012706\n",
       "617228  9999789814107288877             0.010670\n",
       "617229  9999803509476553670             0.010742\n",
       "617230  9999818112872622034             0.429112\n",
       "617231  9999819762744314978             0.062531\n",
       "617232  9999824326944242344             1.439290\n",
       "617233  9999834067265202923             0.010571\n",
       "617234  9999841005270636052             0.012782\n",
       "617235  9999860794386137754             0.028609\n",
       "617236  9999882818693474736             2.177337\n",
       "617237  9999905960465191827             0.033815\n",
       "617238  9999941518946450908             0.010725\n",
       "617239  9999969142283897422             0.017366\n",
       "617240  9999985820452794361             0.042885\n",
       "617241  9999997304197521748             0.010670\n",
       "\n",
       "[617242 rows x 2 columns]"
      ]
     },
     "execution_count": 11,
     "metadata": {},
     "output_type": "execute_result"
    }
   ],
   "source": [
    "df_submit"
   ]
  },
  {
   "cell_type": "markdown",
   "metadata": {},
   "source": [
    "### Feature Importance"
   ]
  },
  {
   "cell_type": "code",
   "execution_count": 12,
   "metadata": {
    "ExecuteTime": {
     "end_time": "2018-09-25T09:09:54.178207Z",
     "start_time": "2018-09-25T09:09:53.455664Z"
    }
   },
   "outputs": [
    {
     "data": {
      "image/png": "[encoded data removed]",
      "text/plain": [
       "<Figure size 1080x1080 with 1 Axes>"
      ]
     },
     "metadata": {},
     "output_type": "display_data"
    }
   ],
   "source": [
    "fig, ax = plt.subplots(figsize=(15,15))\n",
    "lgb.plot_importance(model, ax=ax, max_num_features=30)  \n",
    "plt.savefig(os.path.join(result_path, 'feature_importance.jpg'))"
   ]
  },
  {
   "cell_type": "markdown",
   "metadata": {},
   "source": [
    "### to Kaggle with MSG"
   ]
  },
  {
   "cell_type": "code",
   "execution_count": 14,
   "metadata": {
    "ExecuteTime": {
     "end_time": "2018-09-25T09:11:21.767926Z",
     "start_time": "2018-09-25T09:11:08.134257Z"
    }
   },
   "outputs": [
    {
     "name": "stdout",
     "output_type": "stream",
     "text": [
      "kaggle competitions submit -c ga-customer-revenue-prediction -f results/2018-09-25T180941__T1.541_V1.541_K/aiden_2018-09-25T180941.csv.tar.gz -m \"Index(['channelGrouping', 'socialEngagementType', 'device_browser',\n",
      "       'device_browserSize', 'device_browserVersion', 'device_deviceCategory',\n",
      "       'device_flashVersion', 'device_isMobile', 'device_language',\n",
      "       'device_mobileDeviceBranding', 'device_mobileDeviceInfo',\n",
      "       'device_mobileDeviceMarketingName', 'device_mobileDeviceModel',\n",
      "       'device_mobileInputSelector', 'device_operatingSystem',\n",
      "       'device_operatingSystemVersion', 'device_screenColors',\n",
      "       'device_screenRe\"\n",
      "\n"
     ]
    },
    {
     "data": {
      "text/plain": [
       "0"
      ]
     },
     "execution_count": 14,
     "metadata": {},
     "output_type": "execute_result"
    }
   ],
   "source": [
    "cmd = \"\"\"kaggle competitions submit -c ga-customer-revenue-prediction -f {file_path} -m \"{msg}\"\n",
    "\"\"\".format(**{'file_path': os.path.join(result_path, file_name), 'msg': ','.join(msg)[:500]})\n",
    "print(cmd)\n",
    "subprocess.call(cmd, shell=True)"
   ]
  },
  {
   "cell_type": "code",
   "execution_count": null,
   "metadata": {},
   "outputs": [],
   "source": []
  }
 ],
 "metadata": {
  "kernelspec": {
   "display_name": "Python 3",
   "language": "python",
   "name": "python3"
  },
  "language_info": {
   "codemirror_mode": {
    "name": "ipython",
    "version": 3
   },
   "file_extension": ".py",
   "mimetype": "text/x-python",
   "name": "python",
   "nbconvert_exporter": "python",
   "pygments_lexer": "ipython3",
   "version": "3.6.5"
  }
 },
 "nbformat": 4,
 "nbformat_minor": 2
}
