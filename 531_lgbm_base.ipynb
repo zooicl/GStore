{
 "cells": [
  {
   "cell_type": "code",
   "execution_count": 41,
   "metadata": {
    "ExecuteTime": {
     "end_time": "2018-09-29T04:52:02.526095Z",
     "start_time": "2018-09-29T04:52:02.401532Z"
    }
   },
   "outputs": [
    {
     "name": "stdout",
     "output_type": "stream",
     "text": [
      "The autoreload extension is already loaded. To reload it, use:\n",
      "  %reload_ext autoreload\n"
     ]
    }
   ],
   "source": [
    "%matplotlib inline\n",
    "%load_ext autoreload\n",
    "%autoreload 2\n",
    "\n",
    "import lightgbm as lgb\n",
    "import pandas as pd\n",
    "import numpy as np\n",
    "import datetime\n",
    "from sklearn.preprocessing import LabelEncoder\n",
    "from multiprocessing import Pool\n",
    "import subprocess\n",
    "import matplotlib.pyplot as plt\n",
    "import os\n",
    "import time\n",
    "from sklearn.model_selection import TimeSeriesSplit, KFold, StratifiedKFold\n",
    "from sklearn.model_selection import GroupKFold\n",
    "from features import get_features\n",
    "from features import encode_label\n",
    "from features import encode_mean_k_fold\n",
    "from features import encode_frequency\n",
    "from features import encode_lda\n",
    "\n",
    "from report import report\n",
    "from report import get_feature_importance\n",
    "from report import submit_to_kaggle\n",
    "import operator\n",
    "from tqdm import tqdm\n",
    "import seaborn as sns\n",
    "import pprint as pp\n",
    "from itertools import combinations\n",
    "\n",
    "from tools import drop_cols\n",
    "from tools import print_corr\n",
    "from tools import compare_corr\n",
    "from tools import dict_to_sortedlist\n",
    "\n",
    "\n",
    "# def drop_cols(df, cols):\n",
    "#     drop_cols = [c for c in df.columns if c in cols]\n",
    "#     df.drop(drop_cols, axis=1, inplace=True)\n",
    "#     return df\n",
    "\n",
    "\n",
    "# def print_corr(df_corr, keyword=None):\n",
    "#     sns.heatmap(\n",
    "#         df_corr,\n",
    "#         annot=True,\n",
    "#         xticklabels=df_corr.columns.values,\n",
    "#         yticklabels=df_corr.columns.values)\n",
    "\n",
    "#     corr_dict = {}\n",
    "#     for c in list(combinations(df_corr.columns, 2)):\n",
    "#         corr_dict[c] = df_corr.loc[c[0], c[1]]\n",
    "\n",
    "#     corr_list = []\n",
    "#     for i, corr in enumerate(\n",
    "#             sorted(\n",
    "#                 corr_dict.items(), key=operator.itemgetter(1), reverse=True)):\n",
    "#         if keyword:\n",
    "#             if keyword in corr:\n",
    "#                 corr_list.append(\"{} {}\".format(i, corr))\n",
    "#             else:\n",
    "#                 pass\n",
    "#         else:\n",
    "#             corr_list.append(\"{} {}\".format(i, corr))\n",
    "#     pp.pprint(corr_list)\n",
    "#     return corr_list\n",
    "\n",
    "\n",
    "# def compare_corr(df_train, df_test):\n",
    "#     df_train_corr = df_train.corr()\n",
    "#     df_test_corr = df_test.corr()\n",
    "\n",
    "#     corr_dict_train = {}\n",
    "#     corr_dict_test = {}\n",
    "#     corr_dict = {}\n",
    "#     for c in list(combinations(df_train_corr.columns, 2)):\n",
    "#         corr_dict_train[c] = df_train_corr.loc[c[0], c[1]]\n",
    "#         corr_dict_test[c] = df_test_corr.loc[c[0], c[1]]\n",
    "#         corr_dict[c] = abs(corr_dict_train[c] - corr_dict_test[c])\n",
    "\n",
    "#     return corr_dict, corr_dict_train, corr_dict_test\n",
    "\n",
    "# def dict_to_sortedlist(d):\n",
    "#     l = []\n",
    "#     for i, row in enumerate(\n",
    "#             sorted(\n",
    "#                 d.items(), key=operator.itemgetter(1), reverse=True)):\n",
    "#         l.append(\"{} {}\".format(i, row))\n",
    "#     return l"
   ]
  },
  {
   "cell_type": "markdown",
   "metadata": {},
   "source": [
    "### Load pickle"
   ]
  },
  {
   "cell_type": "code",
   "execution_count": 2,
   "metadata": {
    "ExecuteTime": {
     "end_time": "2018-09-29T00:11:12.717022Z",
     "start_time": "2018-09-29T00:11:05.016263Z"
    }
   },
   "outputs": [
    {
     "name": "stdout",
     "output_type": "stream",
     "text": [
      "CPU times: user 7.19 s, sys: 1.68 s, total: 8.87 s\n",
      "Wall time: 7.62 s\n"
     ]
    }
   ],
   "source": [
    "%%time\n",
    "df_train = pd.read_pickle(\"input/train_lv01.pickle\")\n",
    "df_test = pd.read_pickle(\"input/test_lv01.pickle\")\n",
    "\n",
    "train_size = df_train.shape[0]\n",
    "target_col = 'totals_transactionRevenue'\n",
    "df_train[target_col].fillna(0.0, inplace=True)\n",
    "df_train[target_col] = df_train[target_col].astype(float)\n",
    "\n",
    "\n",
    "# Drop cols nunique < 2\n",
    "del_cols = ['totals_bounces', 'totals_newVisits', 'visitId']\n",
    "df_train = drop_cols(df_train, del_cols)\n",
    "df_test = drop_cols(df_test, del_cols)"
   ]
  },
  {
   "cell_type": "markdown",
   "metadata": {},
   "source": [
    "#### Corr df_train"
   ]
  },
  {
   "cell_type": "code",
   "execution_count": null,
   "metadata": {
    "ExecuteTime": {
     "end_time": "2018-09-28T15:16:27.827219Z",
     "start_time": "2018-09-28T15:16:27.405175Z"
    },
    "scrolled": true
   },
   "outputs": [],
   "source": [
    "_ = print_corr(df_train.corr())"
   ]
  },
  {
   "cell_type": "code",
   "execution_count": null,
   "metadata": {
    "ExecuteTime": {
     "end_time": "2018-09-28T15:16:52.282179Z",
     "start_time": "2018-09-28T15:16:51.911481Z"
    }
   },
   "outputs": [],
   "source": [
    "_ = print_corr(df_train[df_train[target_col] > 0].corr())"
   ]
  },
  {
   "cell_type": "code",
   "execution_count": null,
   "metadata": {
    "ExecuteTime": {
     "end_time": "2018-09-28T15:17:16.817003Z",
     "start_time": "2018-09-28T15:17:16.006189Z"
    }
   },
   "outputs": [],
   "source": [
    "_ = print_corr(df_train[df_train[target_col] == 0].corr())"
   ]
  },
  {
   "cell_type": "markdown",
   "metadata": {},
   "source": [
    "#### Corr df_test"
   ]
  },
  {
   "cell_type": "code",
   "execution_count": null,
   "metadata": {
    "ExecuteTime": {
     "end_time": "2018-09-28T13:39:00.878760Z",
     "start_time": "2018-09-28T13:39:00.599012Z"
    }
   },
   "outputs": [],
   "source": [
    "_ = print_corr(df_test.corr())"
   ]
  },
  {
   "cell_type": "markdown",
   "metadata": {},
   "source": [
    "### DEV"
   ]
  },
  {
   "cell_type": "markdown",
   "metadata": {
    "ExecuteTime": {
     "end_time": "2018-09-28T14:22:40.759864Z",
     "start_time": "2018-09-28T14:22:40.727677Z"
    }
   },
   "source": [
    "#### trafficSource_medium"
   ]
  },
  {
   "cell_type": "code",
   "execution_count": 3,
   "metadata": {
    "ExecuteTime": {
     "end_time": "2018-09-29T00:11:40.730362Z",
     "start_time": "2018-09-29T00:11:40.501357Z"
    }
   },
   "outputs": [
    {
     "data": {
      "text/html": [
       "<div>\n",
       "<style scoped>\n",
       "    .dataframe tbody tr th:only-of-type {\n",
       "        vertical-align: middle;\n",
       "    }\n",
       "\n",
       "    .dataframe tbody tr th {\n",
       "        vertical-align: top;\n",
       "    }\n",
       "\n",
       "    .dataframe thead th {\n",
       "        text-align: right;\n",
       "    }\n",
       "</style>\n",
       "<table border=\"1\" class=\"dataframe\">\n",
       "  <thead>\n",
       "    <tr style=\"text-align: right;\">\n",
       "      <th></th>\n",
       "      <th>trafficSource_medium</th>\n",
       "      <th>totals_hits</th>\n",
       "    </tr>\n",
       "  </thead>\n",
       "  <tbody>\n",
       "    <tr>\n",
       "      <th>0</th>\n",
       "      <td>(none)</td>\n",
       "      <td>4.928614</td>\n",
       "    </tr>\n",
       "    <tr>\n",
       "      <th>1</th>\n",
       "      <td>(not set)</td>\n",
       "      <td>4.400000</td>\n",
       "    </tr>\n",
       "    <tr>\n",
       "      <th>2</th>\n",
       "      <td>affiliate</td>\n",
       "      <td>3.405475</td>\n",
       "    </tr>\n",
       "    <tr>\n",
       "      <th>3</th>\n",
       "      <td>cpc</td>\n",
       "      <td>6.499961</td>\n",
       "    </tr>\n",
       "    <tr>\n",
       "      <th>4</th>\n",
       "      <td>cpm</td>\n",
       "      <td>6.667199</td>\n",
       "    </tr>\n",
       "    <tr>\n",
       "      <th>5</th>\n",
       "      <td>organic</td>\n",
       "      <td>4.928795</td>\n",
       "    </tr>\n",
       "    <tr>\n",
       "      <th>6</th>\n",
       "      <td>referral</td>\n",
       "      <td>3.944231</td>\n",
       "    </tr>\n",
       "  </tbody>\n",
       "</table>\n",
       "</div>"
      ],
      "text/plain": [
       "  trafficSource_medium  totals_hits\n",
       "0               (none)     4.928614\n",
       "1            (not set)     4.400000\n",
       "2            affiliate     3.405475\n",
       "3                  cpc     6.499961\n",
       "4                  cpm     6.667199\n",
       "5              organic     4.928795\n",
       "6             referral     3.944231"
      ]
     },
     "execution_count": 3,
     "metadata": {},
     "output_type": "execute_result"
    },
    {
     "data": {
      "image/png": "[encoded data removed]",
      "text/plain": [
       "<Figure size 432x288 with 1 Axes>"
      ]
     },
     "metadata": {},
     "output_type": "display_data"
    }
   ],
   "source": [
    "df_g = df_train.groupby(['trafficSource_medium'])['totals_hits'].mean().reset_index()\n",
    "df_g.plot(x='trafficSource_medium')\n",
    "df_g"
   ]
  },
  {
   "cell_type": "code",
   "execution_count": 4,
   "metadata": {
    "ExecuteTime": {
     "end_time": "2018-09-29T00:12:07.068307Z",
     "start_time": "2018-09-29T00:12:06.890529Z"
    }
   },
   "outputs": [
    {
     "data": {
      "text/html": [
       "<div>\n",
       "<style scoped>\n",
       "    .dataframe tbody tr th:only-of-type {\n",
       "        vertical-align: middle;\n",
       "    }\n",
       "\n",
       "    .dataframe tbody tr th {\n",
       "        vertical-align: top;\n",
       "    }\n",
       "\n",
       "    .dataframe thead th {\n",
       "        text-align: right;\n",
       "    }\n",
       "</style>\n",
       "<table border=\"1\" class=\"dataframe\">\n",
       "  <thead>\n",
       "    <tr style=\"text-align: right;\">\n",
       "      <th></th>\n",
       "      <th>trafficSource_medium</th>\n",
       "      <th>totals_hits</th>\n",
       "    </tr>\n",
       "  </thead>\n",
       "  <tbody>\n",
       "    <tr>\n",
       "      <th>0</th>\n",
       "      <td>(none)</td>\n",
       "      <td>4.071541</td>\n",
       "    </tr>\n",
       "    <tr>\n",
       "      <th>1</th>\n",
       "      <td>(not set)</td>\n",
       "      <td>1.764706</td>\n",
       "    </tr>\n",
       "    <tr>\n",
       "      <th>2</th>\n",
       "      <td>affiliate</td>\n",
       "      <td>3.477108</td>\n",
       "    </tr>\n",
       "    <tr>\n",
       "      <th>3</th>\n",
       "      <td>cpc</td>\n",
       "      <td>2.534803</td>\n",
       "    </tr>\n",
       "    <tr>\n",
       "      <th>4</th>\n",
       "      <td>cpm</td>\n",
       "      <td>5.960329</td>\n",
       "    </tr>\n",
       "    <tr>\n",
       "      <th>5</th>\n",
       "      <td>organic</td>\n",
       "      <td>4.505722</td>\n",
       "    </tr>\n",
       "    <tr>\n",
       "      <th>6</th>\n",
       "      <td>referral</td>\n",
       "      <td>4.423155</td>\n",
       "    </tr>\n",
       "  </tbody>\n",
       "</table>\n",
       "</div>"
      ],
      "text/plain": [
       "  trafficSource_medium  totals_hits\n",
       "0               (none)     4.071541\n",
       "1            (not set)     1.764706\n",
       "2            affiliate     3.477108\n",
       "3                  cpc     2.534803\n",
       "4                  cpm     5.960329\n",
       "5              organic     4.505722\n",
       "6             referral     4.423155"
      ]
     },
     "execution_count": 4,
     "metadata": {},
     "output_type": "execute_result"
    },
    {
     "data": {
      "image/png": "[encoded data removed]",
      "text/plain": [
       "<Figure size 432x288 with 1 Axes>"
      ]
     },
     "metadata": {},
     "output_type": "display_data"
    }
   ],
   "source": [
    "df_g = df_test.groupby(['trafficSource_medium'])['totals_hits'].mean().reset_index()\n",
    "df_g.plot(x='trafficSource_medium')\n",
    "df_g"
   ]
  },
  {
   "cell_type": "markdown",
   "metadata": {},
   "source": [
    "#### *_hits_per_day"
   ]
  },
  {
   "cell_type": "code",
   "execution_count": null,
   "metadata": {
    "ExecuteTime": {
     "end_time": "2018-09-28T14:26:34.643101Z",
     "start_time": "2018-09-28T14:26:34.447923Z"
    },
    "scrolled": true
   },
   "outputs": [],
   "source": [
    "df_g = df_train.groupby(['day'])['totals_hits'].sum().reset_index()\n",
    "df_g.plot()\n",
    "df_g"
   ]
  },
  {
   "cell_type": "code",
   "execution_count": null,
   "metadata": {
    "ExecuteTime": {
     "end_time": "2018-09-28T14:26:47.761876Z",
     "start_time": "2018-09-28T14:26:47.574882Z"
    },
    "scrolled": true
   },
   "outputs": [],
   "source": [
    "df_g = df_test.groupby(['day'])['totals_hits'].sum().reset_index()\n",
    "df_g.plot()\n",
    "df_g"
   ]
  },
  {
   "cell_type": "markdown",
   "metadata": {},
   "source": [
    "#### Freq"
   ]
  },
  {
   "cell_type": "code",
   "execution_count": null,
   "metadata": {
    "ExecuteTime": {
     "end_time": "2018-09-28T14:57:47.177422Z",
     "start_time": "2018-09-28T14:57:47.144056Z"
    }
   },
   "outputs": [],
   "source": [
    "corr_cols = [c for c in df_train_X if '_Fre' in c]\n",
    "corr_cols"
   ]
  },
  {
   "cell_type": "code",
   "execution_count": null,
   "metadata": {
    "ExecuteTime": {
     "end_time": "2018-09-28T14:58:24.126377Z",
     "start_time": "2018-09-28T14:58:23.933206Z"
    }
   },
   "outputs": [],
   "source": [
    "df_test['channelGrouping_Frequency'].plot()\n"
   ]
  },
  {
   "cell_type": "code",
   "execution_count": null,
   "metadata": {},
   "outputs": [],
   "source": []
  },
  {
   "cell_type": "markdown",
   "metadata": {},
   "source": [
    "#### Compare corr between train and test"
   ]
  },
  {
   "cell_type": "code",
   "execution_count": null,
   "metadata": {
    "ExecuteTime": {
     "end_time": "2018-09-28T14:54:53.967081Z",
     "start_time": "2018-09-28T14:54:51.994569Z"
    }
   },
   "outputs": [],
   "source": [
    "corr_cols = [c for c in df_train_X if '_Fre' in c]\n",
    "corr_dict, corr_train, corr_test = compare_corr(df_train[corr_cols], df_test[corr_cols])\n",
    "pp.pprint(corr_dict)\n",
    "pp.pprint(corr_train)\n",
    "pp.pprint(corr_test)"
   ]
  },
  {
   "cell_type": "code",
   "execution_count": null,
   "metadata": {
    "ExecuteTime": {
     "end_time": "2018-09-28T14:36:10.007039Z",
     "start_time": "2018-09-28T14:36:09.955455Z"
    }
   },
   "outputs": [],
   "source": [
    "dict_to_sortedlist(corr_dict)"
   ]
  },
  {
   "cell_type": "code",
   "execution_count": null,
   "metadata": {
    "ExecuteTime": {
     "end_time": "2018-09-28T14:34:33.966604Z",
     "start_time": "2018-09-28T14:34:33.919874Z"
    }
   },
   "outputs": [],
   "source": [
    "df_train['trafficSource_adwordsClickInfo.isVideoAd'].value_counts()"
   ]
  },
  {
   "cell_type": "markdown",
   "metadata": {},
   "source": [
    "### Feature Engineering"
   ]
  },
  {
   "cell_type": "code",
   "execution_count": 5,
   "metadata": {
    "ExecuteTime": {
     "end_time": "2018-09-29T00:13:17.430845Z",
     "start_time": "2018-09-29T00:12:33.184382Z"
    }
   },
   "outputs": [
    {
     "name": "stdout",
     "output_type": "stream",
     "text": [
      "'fea_date_time'  16447.63 ms\n",
      "'fea_format'  103.12 ms\n",
      "'fea_device'  2195.12 ms\n",
      "'fea_totals'  1930.79 ms\n",
      "'fea_geo_network'  392.59 ms\n",
      "'fea_traffic_source'  2568.23 ms\n",
      "'fea_date_time'  14172.53 ms\n",
      "'fea_format'  93.61 ms\n",
      "'fea_device'  1987.77 ms\n",
      "'fea_totals'  1709.75 ms\n",
      "'fea_geo_network'  341.45 ms\n",
      "'fea_traffic_source'  2256.90 ms\n",
      "CPU times: user 1min 5s, sys: 7.02 s, total: 1min 12s\n",
      "Wall time: 44.2 s\n"
     ]
    }
   ],
   "source": [
    "%%time\n",
    "df_train, fea_cols = get_features(df_train)\n",
    "df_test, fea_cols = get_features(df_test)\n",
    "df_train[target_col] = np.log1p(df_train[target_col])"
   ]
  },
  {
   "cell_type": "code",
   "execution_count": null,
   "metadata": {
    "ExecuteTime": {
     "end_time": "2018-09-28T15:18:38.838210Z",
     "start_time": "2018-09-28T15:18:38.805951Z"
    }
   },
   "outputs": [],
   "source": [
    "fea_cols"
   ]
  },
  {
   "cell_type": "markdown",
   "metadata": {
    "ExecuteTime": {
     "end_time": "2018-09-28T06:26:08.725835Z",
     "start_time": "2018-09-28T06:26:08.692298Z"
    }
   },
   "source": [
    "#### corr df_train and df_test"
   ]
  },
  {
   "cell_type": "code",
   "execution_count": null,
   "metadata": {
    "ExecuteTime": {
     "end_time": "2018-09-28T15:18:57.981619Z",
     "start_time": "2018-09-28T15:18:53.402273Z"
    },
    "scrolled": true
   },
   "outputs": [],
   "source": [
    "_ = print_corr(df_train.corr())"
   ]
  },
  {
   "cell_type": "code",
   "execution_count": null,
   "metadata": {
    "ExecuteTime": {
     "end_time": "2018-09-28T15:19:15.524320Z",
     "start_time": "2018-09-28T15:19:11.492633Z"
    },
    "scrolled": true
   },
   "outputs": [],
   "source": [
    "_ = print_corr(df_test.corr())"
   ]
  },
  {
   "cell_type": "markdown",
   "metadata": {},
   "source": [
    "#### ttest between df_train and df_test"
   ]
  },
  {
   "cell_type": "code",
   "execution_count": null,
   "metadata": {
    "ExecuteTime": {
     "start_time": "2018-09-28T11:39:58.055Z"
    }
   },
   "outputs": [],
   "source": [
    "# from scipy.stats import ttest_ind\n",
    "# c = 'browser_category'\n",
    "# print(c, ttest_ind(df_train[c], df_test[c], equal_var=False))\n",
    "\n",
    "# for c in fea_cols:\n",
    "#     print(c, ttest_ind(df_train[c], df_test[c], equal_var=False))"
   ]
  },
  {
   "cell_type": "markdown",
   "metadata": {},
   "source": [
    "### Encodings"
   ]
  },
  {
   "cell_type": "code",
   "execution_count": 6,
   "metadata": {
    "ExecuteTime": {
     "end_time": "2018-09-29T00:13:39.795906Z",
     "start_time": "2018-09-29T00:13:33.576559Z"
    }
   },
   "outputs": [
    {
     "name": "stderr",
     "output_type": "stream",
     "text": [
      "/Users/hyundai/anaconda3/lib/python3.6/site-packages/pandas/core/frame.py:3787: SettingWithCopyWarning: \n",
      "A value is trying to be set on a copy of a slice from a DataFrame\n",
      "\n",
      "See the caveats in the documentation: http://pandas.pydata.org/pandas-docs/stable/indexing.html#indexing-view-versus-copy\n",
      "  downcast=downcast, **kwargs)\n"
     ]
    },
    {
     "data": {
      "text/plain": [
       "28"
      ]
     },
     "execution_count": 6,
     "metadata": {},
     "output_type": "execute_result"
    }
   ],
   "source": [
    "not_used_cols = [\n",
    "    \"date\",\n",
    "    \"fullVisitorId\",\n",
    "    \"sessionId\",\n",
    "    \"visitId\",\n",
    "    'trafficSource_campaignCode',\n",
    "    target_col,\n",
    "    #     \"visitNumber\",\n",
    "    #     \"visitStartTime\",\n",
    "    #     'trafficSource_referralPath',\n",
    "]\n",
    "\n",
    "categorical_feature = df_train.select_dtypes(include='object').columns\n",
    "categorical_feature = [\n",
    "    c for c in categorical_feature if c not in not_used_cols\n",
    "]\n",
    "df_train[categorical_feature].fillna('NA_NULL', inplace=True)\n",
    "df_test[categorical_feature].fillna('NA_NULL', inplace=True)\n",
    "\n",
    "len(categorical_feature)"
   ]
  },
  {
   "cell_type": "markdown",
   "metadata": {},
   "source": [
    "#### Label Encoding"
   ]
  },
  {
   "cell_type": "code",
   "execution_count": 7,
   "metadata": {
    "ExecuteTime": {
     "end_time": "2018-09-29T00:14:39.906896Z",
     "start_time": "2018-09-29T00:13:54.342722Z"
    }
   },
   "outputs": [
    {
     "name": "stdout",
     "output_type": "stream",
     "text": [
      "['channelGrouping', 'device_browser', 'device_deviceCategory', 'device_isMobile', 'device_operatingSystem', 'geoNetwork_city', 'geoNetwork_continent', 'geoNetwork_country', 'geoNetwork_metro', 'geoNetwork_networkDomain', 'geoNetwork_region', 'geoNetwork_subContinent', 'trafficSource_adContent', 'trafficSource_adwordsClickInfo.adNetworkType', 'trafficSource_adwordsClickInfo.gclId', 'trafficSource_adwordsClickInfo.isVideoAd', 'trafficSource_adwordsClickInfo.page', 'trafficSource_adwordsClickInfo.slot', 'trafficSource_campaign', 'trafficSource_isTrueDirect', 'trafficSource_keyword', 'trafficSource_medium', 'trafficSource_referralPath', 'trafficSource_source', 'browser_category', 'browser_operatingSystem', 'source_country', 'campaign_medium']\n"
     ]
    },
    {
     "name": "stderr",
     "output_type": "stream",
     "text": [
      "100%|██████████| 28/28 [00:42<00:00,  1.15s/it]"
     ]
    },
    {
     "name": "stdout",
     "output_type": "stream",
     "text": [
      "'encode_label'  45530.40 ms\n"
     ]
    },
    {
     "name": "stderr",
     "output_type": "stream",
     "text": [
      "\n"
     ]
    }
   ],
   "source": [
    "df_train, df_test = encode_label(df_train, df_test, categorical_feature)"
   ]
  },
  {
   "cell_type": "markdown",
   "metadata": {},
   "source": [
    "#### Freq Encoding"
   ]
  },
  {
   "cell_type": "code",
   "execution_count": 8,
   "metadata": {
    "ExecuteTime": {
     "end_time": "2018-09-29T00:15:17.010535Z",
     "start_time": "2018-09-29T00:14:49.873844Z"
    }
   },
   "outputs": [
    {
     "name": "stderr",
     "output_type": "stream",
     "text": [
      "100%|██████████| 28/28 [00:26<00:00,  1.04it/s]"
     ]
    },
    {
     "name": "stdout",
     "output_type": "stream",
     "text": [
      "(903653, 87) (804684, 86)\n",
      "'encode_frequency'  27017.84 ms\n"
     ]
    },
    {
     "name": "stderr",
     "output_type": "stream",
     "text": [
      "\n"
     ]
    }
   ],
   "source": [
    "df_train, df_test = encode_frequency(df_train, df_test, categorical_feature)"
   ]
  },
  {
   "cell_type": "markdown",
   "metadata": {},
   "source": [
    "#### Mean Encoding"
   ]
  },
  {
   "cell_type": "code",
   "execution_count": 9,
   "metadata": {
    "ExecuteTime": {
     "end_time": "2018-09-29T00:16:57.563826Z",
     "start_time": "2018-09-29T00:15:28.644944Z"
    },
    "scrolled": true
   },
   "outputs": [
    {
     "name": "stderr",
     "output_type": "stream",
     "text": [
      "100%|██████████| 28/28 [01:28<00:00,  3.49s/it]"
     ]
    },
    {
     "name": "stdout",
     "output_type": "stream",
     "text": [
      "(903653, 115) (804684, 114)\n",
      "Index(['channelGrouping', 'date', 'fullVisitorId', 'sessionId', 'visitNumber',\n",
      "       'visitStartTime', 'device_browser', 'device_deviceCategory',\n",
      "       'device_isMobile', 'device_operatingSystem',\n",
      "       ...\n",
      "       'mean_k_fold_trafficSource_campaign',\n",
      "       'mean_k_fold_trafficSource_isTrueDirect',\n",
      "       'mean_k_fold_trafficSource_keyword', 'mean_k_fold_trafficSource_medium',\n",
      "       'mean_k_fold_trafficSource_referralPath',\n",
      "       'mean_k_fold_trafficSource_source', 'mean_k_fold_browser_category',\n",
      "       'mean_k_fold_browser_operatingSystem', 'mean_k_fold_source_country',\n",
      "       'mean_k_fold_campaign_medium'],\n",
      "      dtype='object', length=115)\n",
      "'encode_mean_k_fold'  88880.80 ms\n"
     ]
    },
    {
     "name": "stderr",
     "output_type": "stream",
     "text": [
      "\n"
     ]
    }
   ],
   "source": [
    "df_train, df_test = encode_mean_k_fold(df_train, df_test, categorical_feature, target_col)"
   ]
  },
  {
   "cell_type": "markdown",
   "metadata": {},
   "source": [
    "#### LDA (target_col) : 망함"
   ]
  },
  {
   "cell_type": "code",
   "execution_count": null,
   "metadata": {
    "ExecuteTime": {
     "end_time": "2018-09-28T15:41:04.981193Z",
     "start_time": "2018-09-28T15:41:02.170973Z"
    }
   },
   "outputs": [],
   "source": [
    "from sklearn.discriminant_analysis import LinearDiscriminantAnalysis\n",
    "\n",
    "# y_categorized = np.digitize(df_train[target_col], bins=np.arange(2,24,2))\n",
    "# clf = LinearDiscriminantAnalysis(n_components=10)\n",
    "# clf.fit(df_train[categorical_feature], y_categorized)"
   ]
  },
  {
   "cell_type": "code",
   "execution_count": null,
   "metadata": {
    "ExecuteTime": {
     "end_time": "2018-09-28T15:42:10.040277Z",
     "start_time": "2018-09-28T15:42:08.126129Z"
    }
   },
   "outputs": [],
   "source": [
    "# df_train_lda = pd.DataFrame(clf.transform(df_train[categorical_feature]))\n",
    "# df_test_lda = pd.DataFrame(clf.transform(df_test[categorical_feature]))\n",
    "\n",
    "# col_map={i:'lda_{}'.format(i) for i in range(10)}\n",
    "# df_train_lda.rename(columns=col_map, inplace=True)\n",
    "# df_test.rename(columns=col_map, inplace=True)\n",
    "\n",
    "# df_train = pd.concat([df_train, df_train_lda], axis=1)\n",
    "# df_test = pd.concat([df_test, df_test_lda], axis=1)                "
   ]
  },
  {
   "cell_type": "markdown",
   "metadata": {},
   "source": [
    "#### LDA (totals_hits) : good"
   ]
  },
  {
   "cell_type": "code",
   "execution_count": 44,
   "metadata": {
    "ExecuteTime": {
     "end_time": "2018-09-29T04:54:35.420020Z",
     "start_time": "2018-09-29T04:54:35.167207Z"
    }
   },
   "outputs": [
    {
     "data": {
      "image/png": "[encoded data removed]",
      "text/plain": [
       "<Figure size 432x288 with 1 Axes>"
      ]
     },
     "metadata": {},
     "output_type": "display_data"
    }
   ],
   "source": [
    "y_col = 'totals_hits'\n",
    "merged_y = pd.concat([df_train[y_col], df_test[y_col]])\n",
    "merged_y.hist()\n",
    "y_categorized = np.digitize(merged_y, bins=np.arange(0,6,1))"
   ]
  },
  {
   "cell_type": "code",
   "execution_count": 39,
   "metadata": {
    "ExecuteTime": {
     "end_time": "2018-09-29T04:48:29.818428Z",
     "start_time": "2018-09-29T04:48:18.551029Z"
    }
   },
   "outputs": [
    {
     "name": "stdout",
     "output_type": "stream",
     "text": [
      "lda_totals_hits_0to9\n",
      "(903653, 135) (804684, 134)\n",
      "'encode_lda'  9400.47 ms\n"
     ]
    }
   ],
   "source": [
    "df_train, df_test = encode_lda(df_train, df_test, categorical_feature, y_categorized, lda_name=y_col)"
   ]
  },
  {
   "cell_type": "markdown",
   "metadata": {},
   "source": [
    "#### LDA (hits / pageviews) : 망함"
   ]
  },
  {
   "cell_type": "code",
   "execution_count": 79,
   "metadata": {
    "ExecuteTime": {
     "end_time": "2018-09-29T05:17:54.320454Z",
     "start_time": "2018-09-29T05:17:54.015670Z"
    }
   },
   "outputs": [
    {
     "data": {
      "text/plain": [
       "<matplotlib.axes._subplots.AxesSubplot at 0x1ae0d07438>"
      ]
     },
     "execution_count": 79,
     "metadata": {},
     "output_type": "execute_result"
    },
    {
     "data": {
      "image/png": "[encoded data removed]",
      "text/plain": [
       "<Figure size 432x288 with 1 Axes>"
      ]
     },
     "metadata": {},
     "output_type": "display_data"
    }
   ],
   "source": [
    "y_col = 'hits_pageviews_rate'\n",
    "merged_y = pd.concat([\n",
    "    df_train['totals_hits'] / df_train['totals_pageviews'],\n",
    "    df_test['totals_hits'] / df_test['totals_pageviews']\n",
    "])\n",
    "merged_y[np.isinf(merged_y)] = 0\n",
    "merged_y = merged_y * 10\n",
    "merged_y.hist()"
   ]
  },
  {
   "cell_type": "code",
   "execution_count": 80,
   "metadata": {
    "ExecuteTime": {
     "end_time": "2018-09-29T05:18:19.030516Z",
     "start_time": "2018-09-29T05:18:18.947903Z"
    }
   },
   "outputs": [
    {
     "data": {
      "text/plain": [
       "(array([ 1,  2,  3,  4,  5,  6,  7,  8,  9, 10, 11, 12, 13, 14, 15, 16]),\n",
       " array([    239, 1516036,  108655,   57641,    3977,    7589,   11486,\n",
       "            590,     290,      61,      11,    1408,      12,      11,\n",
       "            120,     211]))"
      ]
     },
     "execution_count": 80,
     "metadata": {},
     "output_type": "execute_result"
    }
   ],
   "source": [
    "bins = np.arange(10,25,1)\n",
    "bins = np.insert(bins, 0, 0)\n",
    "y_categorized = np.digitize(merged_y, bins=bins)\n",
    "np.unique(y_categorized, return_counts=True)"
   ]
  },
  {
   "cell_type": "code",
   "execution_count": 81,
   "metadata": {
    "ExecuteTime": {
     "end_time": "2018-09-29T05:18:57.634893Z",
     "start_time": "2018-09-29T05:18:43.759418Z"
    }
   },
   "outputs": [
    {
     "name": "stdout",
     "output_type": "stream",
     "text": [
      "lda_hits_pageviews_rate_0to9\n"
     ]
    },
    {
     "name": "stderr",
     "output_type": "stream",
     "text": [
      "/Users/hyundai/anaconda3/lib/python3.6/site-packages/sklearn/discriminant_analysis.py:442: UserWarning: The priors do not sum to 1. Renormalizing\n",
      "  UserWarning)\n"
     ]
    },
    {
     "name": "stdout",
     "output_type": "stream",
     "text": [
      "(903653, 145) (804684, 139)\n",
      "'encode_lda'  13677.04 ms\n"
     ]
    }
   ],
   "source": [
    "df_train, df_test = encode_lda(df_train, df_test, categorical_feature, y_categorized, lda_name=y_col)"
   ]
  },
  {
   "cell_type": "markdown",
   "metadata": {},
   "source": [
    "### Split X and y, Remove not_used_cols"
   ]
  },
  {
   "cell_type": "code",
   "execution_count": 82,
   "metadata": {
    "ExecuteTime": {
     "end_time": "2018-09-29T05:21:50.258043Z",
     "start_time": "2018-09-29T05:21:45.828697Z"
    }
   },
   "outputs": [],
   "source": [
    "df_train_y = df_train[target_col].astype(float)\n",
    "\n",
    "df_train_idx = df_train[['fullVisitorId', target_col]]\n",
    "df_train_X = drop_cols(df_train.copy(), not_used_cols)\n",
    "\n",
    "df_test_idx = df_test[['fullVisitorId']]\n",
    "df_test_X = drop_cols(df_test.copy(), not_used_cols)"
   ]
  },
  {
   "cell_type": "markdown",
   "metadata": {},
   "source": [
    "### Training 531"
   ]
  },
  {
   "cell_type": "code",
   "execution_count": 83,
   "metadata": {
    "ExecuteTime": {
     "end_time": "2018-09-29T05:22:14.453124Z",
     "start_time": "2018-09-29T05:22:14.411051Z"
    }
   },
   "outputs": [
    {
     "name": "stdout",
     "output_type": "stream",
     "text": [
      "['channelGrouping', 'visitNumber', 'visitStartTime', 'device_browser', 'device_deviceCategory', 'device_isMobile', 'device_operatingSystem', 'geoNetwork_city', 'geoNetwork_continent', 'geoNetwork_country', 'geoNetwork_metro', 'geoNetwork_networkDomain', 'geoNetwork_region', 'geoNetwork_subContinent', 'totals_hits', 'totals_pageviews', 'trafficSource_adContent', 'trafficSource_adwordsClickInfo.adNetworkType', 'trafficSource_adwordsClickInfo.gclId', 'trafficSource_adwordsClickInfo.isVideoAd', 'trafficSource_adwordsClickInfo.page', 'trafficSource_adwordsClickInfo.slot', 'trafficSource_campaign', 'trafficSource_isTrueDirect', 'trafficSource_keyword', 'trafficSource_medium', 'trafficSource_referralPath', 'trafficSource_source', 'month', 'day', 'hour', 'weekday', 'month_unique_user_count', 'weekday_unique_user_count', 'hour_unique_user_count', 'user_hour_mean', 'user_hour_max', 'user_hour_min', 'browser_category', 'browser_operatingSystem', 'mean_hour_per_browser_operatingSystem', 'source_country', 'sum_hits_per_day', 'max_hits_per_day', 'var_hits_per_day', 'mean_hits_per_hour', 'sum_hits_per_hour', 'max_hits_per_hour', 'mean_pageviews_per_network_domain', 'sum_hits_per_network_domain', 'campaign_medium', 'medium_hits_mean', 'medium_hits_max', 'medium_hits_min', 'medium_hits_sum', 'channelGrouping_Frequency', 'device_browser_Frequency', 'device_deviceCategory_Frequency', 'device_isMobile_Frequency', 'device_operatingSystem_Frequency', 'geoNetwork_city_Frequency', 'geoNetwork_continent_Frequency', 'geoNetwork_country_Frequency', 'geoNetwork_metro_Frequency', 'geoNetwork_networkDomain_Frequency', 'geoNetwork_region_Frequency', 'geoNetwork_subContinent_Frequency', 'trafficSource_adContent_Frequency', 'trafficSource_adwordsClickInfo.adNetworkType_Frequency', 'trafficSource_adwordsClickInfo.gclId_Frequency', 'trafficSource_adwordsClickInfo.isVideoAd_Frequency', 'trafficSource_adwordsClickInfo.page_Frequency', 'trafficSource_adwordsClickInfo.slot_Frequency', 'trafficSource_campaign_Frequency', 'trafficSource_isTrueDirect_Frequency', 'trafficSource_keyword_Frequency', 'trafficSource_medium_Frequency', 'trafficSource_referralPath_Frequency', 'trafficSource_source_Frequency', 'browser_category_Frequency', 'browser_operatingSystem_Frequency', 'source_country_Frequency', 'campaign_medium_Frequency', 'mean_k_fold_channelGrouping', 'mean_k_fold_device_browser', 'mean_k_fold_device_deviceCategory', 'mean_k_fold_device_isMobile', 'mean_k_fold_device_operatingSystem', 'mean_k_fold_geoNetwork_city', 'mean_k_fold_geoNetwork_continent', 'mean_k_fold_geoNetwork_country', 'mean_k_fold_geoNetwork_metro', 'mean_k_fold_geoNetwork_networkDomain', 'mean_k_fold_geoNetwork_region', 'mean_k_fold_geoNetwork_subContinent', 'mean_k_fold_trafficSource_adContent', 'mean_k_fold_trafficSource_adwordsClickInfo.adNetworkType', 'mean_k_fold_trafficSource_adwordsClickInfo.gclId', 'mean_k_fold_trafficSource_adwordsClickInfo.isVideoAd', 'mean_k_fold_trafficSource_adwordsClickInfo.page', 'mean_k_fold_trafficSource_adwordsClickInfo.slot', 'mean_k_fold_trafficSource_campaign', 'mean_k_fold_trafficSource_isTrueDirect', 'mean_k_fold_trafficSource_keyword', 'mean_k_fold_trafficSource_medium', 'mean_k_fold_trafficSource_referralPath', 'mean_k_fold_trafficSource_source', 'mean_k_fold_browser_category', 'mean_k_fold_browser_operatingSystem', 'mean_k_fold_source_country', 'mean_k_fold_campaign_medium', 'lda_total_hits0', 'lda_total_hits1', 'lda_total_hits2', 'lda_total_hits3', 'lda_total_hits4', 'lda_totals_hits_0', 'lda_totals_hits_1', 'lda_totals_hits_2', 'lda_totals_hits_3', 'lda_totals_hits_4', 'lda_totals_hits_0', 'lda_totals_hits_1', 'lda_totals_hits_2', 'lda_totals_hits_3', 'lda_totals_hits_4', 'lda_totals_hits_0', 'lda_totals_hits_1', 'lda_totals_hits_2', 'lda_totals_hits_3', 'lda_totals_hits_4', 'lda_hits_pageviews_rate_0', 'lda_hits_pageviews_rate_1', 'lda_hits_pageviews_rate_2', 'lda_hits_pageviews_rate_3', 'lda_hits_pageviews_rate_4', 'lda_hits_pageviews_rate_5', 'lda_hits_pageviews_rate_6', 'lda_hits_pageviews_rate_7', 'lda_hits_pageviews_rate_8', 'lda_hits_pageviews_rate_9']\n"
     ]
    }
   ],
   "source": [
    "feature_name = list(df_train_X.columns)\n",
    "print(feature_name)\n",
    "prediction_train = np.zeros(df_train_X.shape[0])\n",
    "prediction = np.zeros(df_test_X.shape[0])"
   ]
  },
  {
   "cell_type": "code",
   "execution_count": 84,
   "metadata": {
    "ExecuteTime": {
     "end_time": "2018-09-29T05:22:38.914930Z",
     "start_time": "2018-09-29T05:22:38.868851Z"
    }
   },
   "outputs": [],
   "source": [
    "submit_file_path = ''\n",
    "\n",
    "\n",
    "def modeling(fold_col, X_train, X_valid, y_train, y_valid):\n",
    "    print('X_train:', X_train.shape, 'X_valid:', X_valid.shape, 'Rate:',\n",
    "          X_valid.shape[0] / X_train.shape[0])\n",
    "    if X_valid.shape[0] / X_train.shape[0] > 1.0:\n",
    "        print('No Execution')\n",
    "        return\n",
    "\n",
    "    train = lgb.Dataset(\n",
    "        X_train.values,\n",
    "        label=y_train.values,\n",
    "        feature_name=feature_name,\n",
    "        #         categorical_feature=categorical_feature\n",
    "    )\n",
    "\n",
    "    valid = lgb.Dataset(\n",
    "        X_valid.values,\n",
    "        label=y_valid.values,\n",
    "        feature_name=feature_name,\n",
    "        #         categorical_feature=categorical_feature\n",
    "    )\n",
    "\n",
    "    #     params = {\n",
    "    #         \"objective\": \"regression\",\n",
    "    #         \"metric\": \"rmse\",\n",
    "    #         \"max_depth\": 8,\n",
    "    #         \"min_child_samples\": 20,\n",
    "    #         \"reg_alpha\": 1,\n",
    "    #         \"reg_lambda\": 1,\n",
    "    #         \"num_leaves\": 257,\n",
    "    #         \"learning_rate\": 0.01,\n",
    "    #         \"subsample\": 0.8,\n",
    "    #         \"colsample_bytree\": 0.8,\n",
    "    #         \"subsample_freq \": 5,\n",
    "    #     }\n",
    "    #     params = {\n",
    "    #     \"objective\": \"regression\",\n",
    "    #     \"metric\": \"rmse\",\n",
    "    #     \"num_leaves\": 30,\n",
    "    #     \"min_child_samples\": 100,\n",
    "    #     \"learning_rate\": 0.1,\n",
    "    #     \"bagging_fraction\": 0.7,\n",
    "    #     \"feature_fraction\": 0.5,\n",
    "    #     \"bagging_frequency\": 5,\n",
    "    #     \"bagging_seed\": 2018,\n",
    "    #     \"verbosity\": -1\n",
    "    # }\n",
    "\n",
    "    # param = {\n",
    "    #     \"objective\": \"regression\",\n",
    "    #     \"metric\": \"rmse\",\n",
    "    #     \"max_depth\": 8,\n",
    "    #     \"min_child_samples\": 21,\n",
    "    #     \"reg_alpha\": 1,\n",
    "    #     \"reg_lambda\": 1,\n",
    "    #     \"num_leaves\": 257,\n",
    "    #     \"learning_rate\": 0.01,\n",
    "    #     \"subsample\": 0.82,\n",
    "    #     \"colsample_bytree\": 0.84,\n",
    "    #     \"verbosity\": -1\n",
    "    # }\n",
    "\n",
    "    params = {\n",
    "        \"objective\": \"regression\",\n",
    "        \"metric\": \"rmse\",\n",
    "        \"num_leaves\": 30,\n",
    "        \"min_child_samples\": 100,\n",
    "        \"learning_rate\": 0.1,\n",
    "        \"bagging_fraction\": 0.7,\n",
    "        \"feature_fraction\": 0.5,\n",
    "        \"bagging_frequency\": 5,\n",
    "        \"bagging_seed\": 1989,\n",
    "        \"verbosity\": -1,\n",
    "        'seed': 1989\n",
    "    }\n",
    "\n",
    "    evals_result = {}\n",
    "    train_params = {\n",
    "        'params': params,\n",
    "        'train_set': train,\n",
    "        'valid_sets': [train, valid],\n",
    "        'valid_names': ['train', 'valid'],\n",
    "        'early_stopping_rounds': 300,  #50\n",
    "        'num_boost_round': 10000,  #500\n",
    "        'verbose_eval': 25,\n",
    "        'feval': None,\n",
    "        'evals_result': evals_result,\n",
    "        #     'categorical_feature': 'auto',\n",
    "    }\n",
    "\n",
    "    model = lgb.train(**train_params)\n",
    "\n",
    "    global prediction_train, prediction\n",
    "    print('predict train set')\n",
    "    pred_train = model.predict(\n",
    "        df_train_X.values, num_iteration=model.best_iteration)\n",
    "    prediction_train += pred_train\n",
    "    df_fold_train = df_train_idx.copy()\n",
    "    df_fold_train[fold_col] = pred_train\n",
    "\n",
    "    print('predict test set')\n",
    "    pred = model.predict(df_test_X.values, num_iteration=model.best_iteration)\n",
    "    prediction += pred\n",
    "    df_fold_test = df_test_idx.copy()\n",
    "    df_fold_test[fold_col] = pred\n",
    "\n",
    "    # report\n",
    "    global submit_file_path\n",
    "    submit_file_path = ''\n",
    "    msg = [fold_col, str(df_train_X.columns), str(train_params)]\n",
    "    submit_file_path = report(df_fold_train, df_fold_test, pred_train, pred,\n",
    "                              msg, model)\n",
    "    print(submit_file_path)\n",
    "\n",
    "    return model"
   ]
  },
  {
   "cell_type": "code",
   "execution_count": 85,
   "metadata": {
    "ExecuteTime": {
     "end_time": "2018-09-29T05:24:00.344338Z",
     "start_time": "2018-09-29T05:23:05.117808Z"
    },
    "scrolled": false
   },
   "outputs": [
    {
     "name": "stdout",
     "output_type": "stream",
     "text": [
      "X_train: (765707, 141) X_valid: (137946, 141) Rate: 0.18015507237102443\n",
      "Training until validation scores don't improve for 300 rounds.\n",
      "[25]\ttrain's rmse: 1.63148\tvalid's rmse: 1.74104\n",
      "[50]\ttrain's rmse: 1.58466\tvalid's rmse: 1.70151\n",
      "[75]\ttrain's rmse: 1.56259\tvalid's rmse: 1.69333\n",
      "[100]\ttrain's rmse: 1.54504\tvalid's rmse: 1.69044\n",
      "[125]\ttrain's rmse: 1.52836\tvalid's rmse: 1.68798\n",
      "[150]\ttrain's rmse: 1.51355\tvalid's rmse: 1.68627\n",
      "[175]\ttrain's rmse: 1.50234\tvalid's rmse: 1.68528\n",
      "[200]\ttrain's rmse: 1.49009\tvalid's rmse: 1.68498\n",
      "[225]\ttrain's rmse: 1.47951\tvalid's rmse: 1.68431\n",
      "[250]\ttrain's rmse: 1.47014\tvalid's rmse: 1.68426\n",
      "[275]\ttrain's rmse: 1.46064\tvalid's rmse: 1.68386\n",
      "[300]\ttrain's rmse: 1.45035\tvalid's rmse: 1.68366\n",
      "[325]\ttrain's rmse: 1.442\tvalid's rmse: 1.68406\n",
      "[350]\ttrain's rmse: 1.4343\tvalid's rmse: 1.68448\n",
      "[375]\ttrain's rmse: 1.42495\tvalid's rmse: 1.68451\n",
      "[400]\ttrain's rmse: 1.41697\tvalid's rmse: 1.68425\n",
      "[425]\ttrain's rmse: 1.40819\tvalid's rmse: 1.68476\n",
      "[450]\ttrain's rmse: 1.40114\tvalid's rmse: 1.68623\n",
      "[475]\ttrain's rmse: 1.3929\tvalid's rmse: 1.68659\n",
      "[500]\ttrain's rmse: 1.38609\tvalid's rmse: 1.68724\n",
      "[525]\ttrain's rmse: 1.37931\tvalid's rmse: 1.68755\n",
      "[550]\ttrain's rmse: 1.3726\tvalid's rmse: 1.68854\n",
      "[575]\ttrain's rmse: 1.36706\tvalid's rmse: 1.68888\n",
      "Early stopping, best iteration is:\n",
      "[292]\ttrain's rmse: 1.45323\tvalid's rmse: 1.68343\n",
      "predict train set\n",
      "predict test set\n",
      "<feature_importance:>\n",
      "0 ('totals_hits', 769)\n",
      "1 ('totals_pageviews', 732)\n",
      "2 ('visitStartTime', 389)\n",
      "3 ('visitNumber', 258)\n",
      "4 ('user_hour_mean', 247)\n",
      "5 ('mean_k_fold_source_country', 187)\n",
      "6 ('user_hour_max', 178)\n",
      "7 ('mean_k_fold_geoNetwork_networkDomain', 176)\n",
      "8 ('mean_k_fold_geoNetwork_city', 168)\n",
      "9 ('user_hour_min', 167)\n",
      "10 ('sum_hits_per_day', 158)\n",
      "11 ('var_hits_per_day', 155)\n",
      "12 ('mean_k_fold_geoNetwork_metro', 155)\n",
      "13 ('lda_total_hits2', 142)\n",
      "14 ('lda_total_hits0', 139)\n",
      "15 ('lda_hits_pageviews_rate_9', 139)\n",
      "16 ('day', 128)\n",
      "17 ('month', 124)\n",
      "18 ('mean_pageviews_per_network_domain', 121)\n",
      "19 ('hour_unique_user_count', 118)\n",
      "20 ('max_hits_per_day', 114)\n",
      "21 ('lda_hits_pageviews_rate_4', 111)\n",
      "22 ('hour', 108)\n",
      "23 ('lda_total_hits4', 108)\n",
      "24 ('lda_hits_pageviews_rate_3', 108)\n",
      "25 ('mean_k_fold_geoNetwork_region', 107)\n",
      "26 ('lda_hits_pageviews_rate_5', 105)\n",
      "27 ('lda_total_hits1', 103)\n",
      "28 ('lda_hits_pageviews_rate_1', 102)\n",
      "29 ('lda_hits_pageviews_rate_2', 102)\n",
      "30 ('lda_hits_pageviews_rate_7', 101)\n",
      "31 ('mean_hits_per_hour', 98)\n",
      "32 ('sum_hits_per_hour', 97)\n",
      "33 ('lda_hits_pageviews_rate_8', 95)\n",
      "34 ('month_unique_user_count', 92)\n",
      "35 ('lda_hits_pageviews_rate_6', 87)\n",
      "36 ('max_hits_per_hour', 76)\n",
      "37 ('mean_k_fold_device_operatingSystem', 75)\n",
      "38 ('mean_k_fold_browser_operatingSystem', 75)\n",
      "39 ('geoNetwork_city', 74)\n",
      "40 ('lda_hits_pageviews_rate_0', 73)\n",
      "41 ('mean_k_fold_trafficSource_referralPath', 71)\n",
      "42 ('mean_k_fold_trafficSource_source', 71)\n",
      "43 ('weekday', 70)\n",
      "44 ('lda_total_hits3', 63)\n",
      "45 ('weekday_unique_user_count', 61)\n",
      "46 ('sum_hits_per_network_domain', 59)\n",
      "47 ('geoNetwork_networkDomain', 53)\n",
      "48 ('source_country_Frequency', 46)\n",
      "49 ('mean_k_fold_trafficSource_isTrueDirect', 46)\n",
      "50 ('mean_k_fold_geoNetwork_country', 44)\n",
      "51 ('geoNetwork_networkDomain_Frequency', 43)\n",
      "52 ('geoNetwork_metro', 42)\n",
      "53 ('mean_k_fold_channelGrouping', 40)\n",
      "54 ('geoNetwork_city_Frequency', 35)\n",
      "55 ('mean_k_fold_trafficSource_keyword', 34)\n",
      "56 ('mean_k_fold_geoNetwork_subContinent', 32)\n",
      "57 ('geoNetwork_metro_Frequency', 31)\n",
      "58 ('mean_k_fold_trafficSource_medium', 31)\n",
      "59 ('geoNetwork_region', 30)\n",
      "60 ('geoNetwork_country_Frequency', 28)\n",
      "61 ('mean_k_fold_geoNetwork_continent', 26)\n",
      "62 ('mean_k_fold_device_browser', 25)\n",
      "63 ('mean_k_fold_browser_category', 25)\n",
      "64 ('mean_hour_per_browser_operatingSystem', 24)\n",
      "65 ('mean_k_fold_device_deviceCategory', 24)\n",
      "66 ('mean_k_fold_campaign_medium', 24)\n",
      "67 ('mean_k_fold_trafficSource_adwordsClickInfo.gclId', 23)\n",
      "68 ('source_country', 17)\n",
      "69 ('browser_operatingSystem_Frequency', 17)\n",
      "70 ('lda_totals_hits_1', 17)\n",
      "71 ('geoNetwork_region_Frequency', 16)\n",
      "72 ('lda_totals_hits_2', 16)\n",
      "73 ('trafficSource_adwordsClickInfo.gclId', 15)\n",
      "74 ('mean_k_fold_trafficSource_adwordsClickInfo.adNetworkType', 15)\n",
      "75 ('lda_totals_hits_3', 14)\n",
      "76 ('mean_k_fold_trafficSource_adContent', 13)\n",
      "77 ('trafficSource_referralPath', 12)\n",
      "78 ('trafficSource_source', 12)\n",
      "79 ('lda_totals_hits_0', 12)\n",
      "80 ('device_operatingSystem', 11)\n",
      "81 ('trafficSource_source_Frequency', 10)\n",
      "82 ('mean_k_fold_device_isMobile', 10)\n",
      "83 ('browser_operatingSystem', 9)\n",
      "84 ('mean_k_fold_trafficSource_adwordsClickInfo.isVideoAd', 9)\n",
      "85 ('lda_totals_hits_4', 9)\n",
      "86 ('browser_category', 8)\n",
      "87 ('trafficSource_referralPath_Frequency', 8)\n",
      "88 ('device_operatingSystem_Frequency', 7)\n",
      "89 ('trafficSource_isTrueDirect', 6)\n",
      "90 ('campaign_medium', 5)\n",
      "91 ('browser_category_Frequency', 5)\n",
      "92 ('geoNetwork_subContinent_Frequency', 4)\n",
      "93 ('mean_k_fold_trafficSource_campaign', 4)\n",
      "94 ('channelGrouping', 3)\n",
      "95 ('device_isMobile', 3)\n",
      "96 ('geoNetwork_country', 3)\n",
      "97 ('trafficSource_medium', 3)\n",
      "98 ('trafficSource_adwordsClickInfo.gclId_Frequency', 3)\n",
      "99 ('trafficSource_keyword_Frequency', 3)\n",
      "100 ('mean_k_fold_trafficSource_adwordsClickInfo.slot', 3)\n",
      "101 ('device_browser_Frequency', 2)\n",
      "102 ('trafficSource_isTrueDirect_Frequency', 2)\n",
      "103 ('mean_k_fold_trafficSource_adwordsClickInfo.page', 2)\n",
      "104 ('trafficSource_adContent', 1)\n",
      "105 ('trafficSource_campaign', 1)\n",
      "106 ('trafficSource_keyword', 1)\n",
      "107 ('medium_hits_mean', 1)\n",
      "108 ('medium_hits_sum', 1)\n",
      "109 ('channelGrouping_Frequency', 1)\n",
      "110 ('device_deviceCategory_Frequency', 1)\n",
      "111 ('device_isMobile_Frequency', 1)\n",
      "112 ('trafficSource_campaign_Frequency', 1)\n",
      "113 ('campaign_medium_Frequency', 1)\n",
      "114 ('device_browser', 0)\n",
      "115 ('device_deviceCategory', 0)\n",
      "116 ('geoNetwork_continent', 0)\n",
      "117 ('geoNetwork_subContinent', 0)\n",
      "118 ('trafficSource_adwordsClickInfo.adNetworkType', 0)\n",
      "119 ('trafficSource_adwordsClickInfo.isVideoAd', 0)\n",
      "120 ('trafficSource_adwordsClickInfo.page', 0)\n",
      "121 ('trafficSource_adwordsClickInfo.slot', 0)\n",
      "122 ('medium_hits_max', 0)\n",
      "123 ('medium_hits_min', 0)\n",
      "124 ('geoNetwork_continent_Frequency', 0)\n",
      "125 ('trafficSource_adContent_Frequency', 0)\n",
      "126 ('trafficSource_adwordsClickInfo.adNetworkType_Frequency', 0)\n",
      "127 ('trafficSource_adwordsClickInfo.isVideoAd_Frequency', 0)\n",
      "128 ('trafficSource_adwordsClickInfo.page_Frequency', 0)\n",
      "129 ('trafficSource_adwordsClickInfo.slot_Frequency', 0)\n",
      "130 ('trafficSource_medium_Frequency', 0)\n",
      "<feature_importance:>\n",
      "0 ('totals_pageviews', 2163941.40051651)\n",
      "1 ('totals_hits', 1256057.4127583504)\n",
      "2 ('mean_k_fold_source_country', 564114.3122262955)\n",
      "3 ('mean_k_fold_geoNetwork_country', 299853.7599000931)\n",
      "4 ('visitNumber', 254864.64392089844)\n",
      "5 ('visitStartTime', 240223.69749879837)\n",
      "6 ('lda_total_hits0', 126763.7481842041)\n",
      "7 ('mean_k_fold_geoNetwork_city', 123588.28503608704)\n",
      "8 ('mean_k_fold_trafficSource_source', 117109.56615829468)\n",
      "9 ('lda_hits_pageviews_rate_1', 103336.99448108673)\n",
      "10 ('lda_total_hits2', 91851.9655752182)\n",
      "11 ('lda_total_hits1', 76094.73493766785)\n",
      "12 ('user_hour_mean', 74731.57136535645)\n",
      "13 ('month', 73865.04943466187)\n",
      "14 ('user_hour_min', 53478.639892578125)\n",
      "15 ('mean_k_fold_geoNetwork_metro', 52355.085538864136)\n",
      "16 ('hour_unique_user_count', 47866.03495883942)\n",
      "17 ('mean_k_fold_geoNetwork_region', 44993.55768203735)\n",
      "18 ('mean_k_fold_geoNetwork_networkDomain', 44920.749484062195)\n",
      "19 ('user_hour_max', 44601.4385509491)\n",
      "20 ('lda_hits_pageviews_rate_9', 43769.90153694153)\n",
      "21 ('lda_hits_pageviews_rate_8', 43329.1427192688)\n",
      "22 ('source_country_Frequency', 40935.408893585205)\n",
      "23 ('month_unique_user_count', 40260.85719490051)\n",
      "24 ('var_hits_per_day', 39115.64117145538)\n",
      "25 ('lda_hits_pageviews_rate_4', 38690.788356781006)\n",
      "26 ('geoNetwork_city', 37219.943866729736)\n",
      "27 ('lda_hits_pageviews_rate_3', 36585.1990480423)\n",
      "28 ('sum_hits_per_hour', 35715.9487991333)\n",
      "29 ('lda_total_hits4', 34435.98060417175)\n",
      "30 ('geoNetwork_country_Frequency', 33780.03606796265)\n",
      "31 ('sum_hits_per_day', 33638.34944343567)\n",
      "32 ('lda_hits_pageviews_rate_7', 33286.01071500778)\n",
      "33 ('mean_k_fold_device_operatingSystem', 32784.39498138428)\n",
      "34 ('hour', 31593.63805961609)\n",
      "35 ('lda_hits_pageviews_rate_5', 31006.212657928467)\n",
      "36 ('lda_hits_pageviews_rate_2', 28187.701162338257)\n",
      "37 ('mean_pageviews_per_network_domain', 27989.664952278137)\n",
      "38 ('lda_hits_pageviews_rate_6', 27208.477054595947)\n",
      "39 ('browser_operatingSystem', 27078.009796142578)\n",
      "40 ('day', 26437.88414001465)\n",
      "41 ('trafficSource_source', 25481.18852996826)\n",
      "42 ('max_hits_per_day', 25453.014039993286)\n",
      "43 ('geoNetwork_metro', 24854.389996528625)\n",
      "44 ('mean_hits_per_hour', 23327.56736087799)\n",
      "45 ('lda_hits_pageviews_rate_0', 23116.289162635803)\n",
      "46 ('mean_k_fold_browser_operatingSystem', 22503.125720977783)\n",
      "47 ('lda_total_hits3', 22356.01607131958)\n",
      "48 ('mean_k_fold_geoNetwork_subContinent', 20744.242706298828)\n",
      "49 ('geoNetwork_metro_Frequency', 19992.285976409912)\n",
      "50 ('lda_totals_hits_1', 18110.208435058594)\n",
      "51 ('max_hits_per_hour', 17695.095920562744)\n",
      "52 ('weekday', 17034.31692314148)\n",
      "53 ('mean_k_fold_trafficSource_referralPath', 16257.227279663086)\n",
      "54 ('geoNetwork_region', 15218.35216140747)\n",
      "55 ('sum_hits_per_network_domain', 14794.109521865845)\n",
      "56 ('weekday_unique_user_count', 13812.460952758789)\n",
      "57 ('geoNetwork_networkDomain', 13472.28367137909)\n",
      "58 ('lda_totals_hits_4', 12723.855995178223)\n",
      "59 ('mean_k_fold_trafficSource_isTrueDirect', 11924.604103088379)\n",
      "60 ('geoNetwork_networkDomain_Frequency', 11857.239957809448)\n",
      "61 ('geoNetwork_city_Frequency', 10923.612995147705)\n",
      "62 ('browser_category_Frequency', 10824.263061523438)\n",
      "63 ('mean_hour_per_browser_operatingSystem', 9914.016670703888)\n",
      "64 ('mean_k_fold_channelGrouping', 9584.755311012268)\n",
      "65 ('device_isMobile', 8352.440063476562)\n",
      "66 ('mean_k_fold_device_deviceCategory', 8314.831018447876)\n",
      "67 ('mean_k_fold_device_isMobile', 8163.057392120361)\n",
      "68 ('mean_k_fold_campaign_medium', 7618.685178756714)\n",
      "69 ('source_country', 7130.9758949279785)\n",
      "70 ('mean_k_fold_browser_category', 6991.2414808273315)\n",
      "71 ('browser_operatingSystem_Frequency', 6789.20715045929)\n",
      "72 ('mean_k_fold_trafficSource_medium', 6711.940269470215)\n",
      "73 ('device_deviceCategory_Frequency', 6216.97998046875)\n",
      "74 ('device_operatingSystem', 6120.283887863159)\n",
      "75 ('mean_k_fold_device_browser', 5983.005029678345)\n",
      "76 ('mean_k_fold_geoNetwork_continent', 5636.280519485474)\n",
      "77 ('geoNetwork_region_Frequency', 5592.342338562012)\n",
      "78 ('lda_totals_hits_0', 5171.883033752441)\n",
      "79 ('trafficSource_source_Frequency', 5060.498838424683)\n",
      "80 ('lda_totals_hits_2', 4549.82436466217)\n",
      "81 ('mean_k_fold_trafficSource_keyword', 4424.503308296204)\n",
      "82 ('browser_category', 3818.3534240722656)\n",
      "83 ('mean_k_fold_trafficSource_adwordsClickInfo.adNetworkType', 3247.7743759155273)\n",
      "84 ('trafficSource_referralPath', 3198.4349975585938)\n",
      "85 ('lda_totals_hits_3', 3111.740074157715)\n",
      "86 ('trafficSource_isTrueDirect', 2778.750961303711)\n",
      "87 ('trafficSource_adwordsClickInfo.gclId', 2621.449429988861)\n",
      "88 ('mean_k_fold_trafficSource_adContent', 2309.4638442993164)\n",
      "89 ('device_operatingSystem_Frequency', 2223.5859985351562)\n",
      "90 ('trafficSource_referralPath_Frequency', 1991.0969848632812)\n",
      "91 ('geoNetwork_subContinent_Frequency', 1834.2159576416016)\n",
      "92 ('mean_k_fold_trafficSource_adwordsClickInfo.gclId', 1825.9992175102234)\n",
      "93 ('mean_k_fold_trafficSource_adwordsClickInfo.isVideoAd', 1477.2032985687256)\n",
      "94 ('mean_k_fold_trafficSource_adwordsClickInfo.slot', 973.0007057189941)\n",
      "95 ('trafficSource_medium', 967.8960266113281)\n",
      "96 ('trafficSource_keyword_Frequency', 856.1290702819824)\n",
      "97 ('mean_k_fold_trafficSource_adwordsClickInfo.page', 748.1730041503906)\n",
      "98 ('channelGrouping', 743.8058013916016)\n",
      "99 ('campaign_medium', 711.8673067092896)\n",
      "100 ('geoNetwork_country', 553.9709854125977)\n",
      "101 ('trafficSource_isTrueDirect_Frequency', 516.1679840087891)\n",
      "102 ('trafficSource_adwordsClickInfo.gclId_Frequency', 516.0615844726562)\n",
      "103 ('mean_k_fold_trafficSource_campaign', 455.8041000366211)\n",
      "104 ('device_browser_Frequency', 422.3269958496094)\n",
      "105 ('trafficSource_campaign', 179.3070068359375)\n",
      "106 ('channelGrouping_Frequency', 141.94400024414062)\n",
      "107 ('medium_hits_sum', 135.44700622558594)\n",
      "108 ('device_isMobile_Frequency', 95.58830261230469)\n",
      "109 ('medium_hits_mean', 31.347400665283203)\n",
      "110 ('trafficSource_campaign_Frequency', 29.822999954223633)\n",
      "111 ('trafficSource_keyword', 21.36090087890625)\n",
      "112 ('campaign_medium_Frequency', 16.656600952148438)\n",
      "113 ('trafficSource_adContent', 10.078900337219238)\n",
      "114 ('device_browser', 0.0)\n",
      "115 ('device_deviceCategory', 0.0)\n",
      "116 ('geoNetwork_continent', 0.0)\n",
      "117 ('geoNetwork_subContinent', 0.0)\n",
      "118 ('trafficSource_adwordsClickInfo.adNetworkType', 0.0)\n",
      "119 ('trafficSource_adwordsClickInfo.isVideoAd', 0.0)\n",
      "120 ('trafficSource_adwordsClickInfo.page', 0.0)\n",
      "121 ('trafficSource_adwordsClickInfo.slot', 0.0)\n",
      "122 ('medium_hits_max', 0.0)\n",
      "123 ('medium_hits_min', 0.0)\n",
      "124 ('geoNetwork_continent_Frequency', 0.0)\n",
      "125 ('trafficSource_adContent_Frequency', 0.0)\n",
      "126 ('trafficSource_adwordsClickInfo.adNetworkType_Frequency', 0.0)\n",
      "127 ('trafficSource_adwordsClickInfo.isVideoAd_Frequency', 0.0)\n",
      "128 ('trafficSource_adwordsClickInfo.page_Frequency', 0.0)\n",
      "129 ('trafficSource_adwordsClickInfo.slot_Frequency', 0.0)\n",
      "130 ('trafficSource_medium_Frequency', 0.0)\n"
     ]
    },
    {
     "name": "stdout",
     "output_type": "stream",
     "text": [
      "raw_train: results/2018-09-29T142344__T1.453_V1.683_R1.158_K/reg_train_2018-09-29T142344.csv\n",
      "raw_test: results/2018-09-29T142344__T1.453_V1.683_R1.158_K/reg_test_2018-09-29T142344.csv\n",
      "submit: results/2018-09-29T142344__T1.453_V1.683_R1.158_K/aiden_2018-09-29T142344.csv.tar.gz\n",
      "cp -f *.ipynb results/2018-09-29T142344__T1.453_V1.683_R1.158_K\n",
      "    \n",
      "results/2018-09-29T142344__T1.453_V1.683_R1.158_K/aiden_2018-09-29T142344.csv.tar.gz\n"
     ]
    }
   ],
   "source": [
    "cond = df_train['date'] <= 20170531\n",
    "X_train, X_valid = df_train_X[cond], df_train_X[~cond]\n",
    "y_train, y_valid = df_train_y[cond], df_train_y[~cond]\n",
    "\n",
    "model = modeling('once', X_train, X_valid, y_train, y_valid)"
   ]
  },
  {
   "cell_type": "markdown",
   "metadata": {},
   "source": [
    "### Submit"
   ]
  },
  {
   "cell_type": "code",
   "execution_count": 86,
   "metadata": {
    "ExecuteTime": {
     "end_time": "2018-09-29T05:25:19.605783Z",
     "start_time": "2018-09-29T05:25:09.678685Z"
    }
   },
   "outputs": [
    {
     "name": "stdout",
     "output_type": "stream",
     "text": [
      "results/2018-09-29T142344__T1.453_V1.683_R1.158_K/aiden_2018-09-29T142344.csv.tar.gz\n",
      "kaggle competitions submit -c ga-customer-revenue-prediction -f results/2018-09-29T142344__T1.453_V1.683_R1.158_K/aiden_2018-09-29T142344.csv.tar.gz -m \"label / freq / mean / lda hits encode, add fea, remove high corr fea, 531\"\n",
      "    \n"
     ]
    }
   ],
   "source": [
    "print(submit_file_path)\n",
    "msg = \"\"\"label / freq / mean / lda hits / lda hit-page rate encode, add fea, remove high corr fea, 531\"\"\"\n",
    "submit_to_kaggle(submit_file_path, msg)"
   ]
  },
  {
   "cell_type": "markdown",
   "metadata": {},
   "source": [
    "### ETC"
   ]
  },
  {
   "cell_type": "code",
   "execution_count": null,
   "metadata": {
    "ExecuteTime": {
     "end_time": "2018-09-28T14:36:10.007039Z",
     "start_time": "2018-09-28T14:36:09.955455Z"
    }
   },
   "outputs": [],
   "source": [
    "dict_to_sortedlist(corr_dict)"
   ]
  },
  {
   "cell_type": "code",
   "execution_count": null,
   "metadata": {
    "ExecuteTime": {
     "end_time": "2018-09-28T05:52:35.437683Z",
     "start_time": "2018-09-28T05:52:35.060058Z"
    }
   },
   "outputs": [],
   "source": [
    "df_corr = df_train_X[df_train_y > 0].corr()"
   ]
  },
  {
   "cell_type": "code",
   "execution_count": null,
   "metadata": {
    "ExecuteTime": {
     "end_time": "2018-09-28T05:52:38.644416Z",
     "start_time": "2018-09-28T05:52:38.081567Z"
    }
   },
   "outputs": [],
   "source": [
    "df_info = df_corr[(df_corr > 0.8) & (df_corr != 1.0)]\n",
    "\n",
    "\n",
    "def _print(row, c):\n",
    "    x = row[c]\n",
    "    if not np.isnan(x):\n",
    "        print(c, ':', row.name, x)\n",
    "\n",
    "\n",
    "#         print(row.name)\n",
    "\n",
    "for c in df_info.columns:\n",
    "    df_info.apply(lambda row: _print(row, c), axis=1)"
   ]
  },
  {
   "cell_type": "code",
   "execution_count": null,
   "metadata": {
    "ExecuteTime": {
     "end_time": "2018-09-28T05:30:47.758819Z",
     "start_time": "2018-09-28T05:30:47.582979Z"
    }
   },
   "outputs": [],
   "source": [
    "import matplotlib.pyplot as plt\n",
    "\n",
    "plt.matshow(df_corr)"
   ]
  },
  {
   "cell_type": "code",
   "execution_count": null,
   "metadata": {
    "ExecuteTime": {
     "end_time": "2018-09-28T05:31:43.262562Z",
     "start_time": "2018-09-28T05:31:37.451195Z"
    }
   },
   "outputs": [],
   "source": [
    "import seaborn as sns\n",
    "sns.heatmap(df_corr, \n",
    "            xticklabels=df_corr.columns.values,\n",
    "            yticklabels=df_corr.columns.values)"
   ]
  },
  {
   "cell_type": "code",
   "execution_count": null,
   "metadata": {
    "ExecuteTime": {
     "end_time": "2018-09-28T05:32:31.987156Z",
     "start_time": "2018-09-28T05:32:31.953029Z"
    }
   },
   "outputs": [],
   "source": [
    "def plot_corr(df,size=10):\n",
    "    '''Function plots a graphical correlation matrix for each pair of columns in the dataframe.\n",
    "\n",
    "    Input:\n",
    "        df: pandas DataFrame\n",
    "        size: vertical and horizontal size of the plot'''\n",
    "\n",
    "    corr = df.corr()\n",
    "    fig, ax = plt.subplots(figsize=(size, size))\n",
    "    ax.matshow(corr)\n",
    "    plt.xticks(range(len(corr.columns)), corr.columns);\n",
    "    plt.yticks(range(len(corr.columns)), corr.columns);"
   ]
  },
  {
   "cell_type": "code",
   "execution_count": null,
   "metadata": {
    "ExecuteTime": {
     "end_time": "2018-09-28T05:33:17.258359Z",
     "start_time": "2018-09-28T05:32:46.056585Z"
    }
   },
   "outputs": [],
   "source": [
    "plot_corr(df_train_X)"
   ]
  },
  {
   "cell_type": "code",
   "execution_count": null,
   "metadata": {
    "ExecuteTime": {
     "end_time": "2018-09-28T14:41:48.525350Z",
     "start_time": "2018-09-28T14:41:48.329020Z"
    }
   },
   "outputs": [],
   "source": [
    "df_train[target_col].hist()"
   ]
  },
  {
   "cell_type": "code",
   "execution_count": null,
   "metadata": {
    "ExecuteTime": {
     "end_time": "2018-09-28T14:55:42.937627Z",
     "start_time": "2018-09-28T14:55:42.903727Z"
    }
   },
   "outputs": [],
   "source": [
    "corr_cols = [c for c in df_train_X if '_Fre' in c]\n",
    "corr_cols"
   ]
  },
  {
   "cell_type": "code",
   "execution_count": null,
   "metadata": {
    "ExecuteTime": {
     "end_time": "2018-09-28T14:56:11.683930Z",
     "start_time": "2018-09-28T14:56:11.632344Z"
    }
   },
   "outputs": [],
   "source": [
    "df_train_X['channelGrouping_Frequency'].value_counts()"
   ]
  },
  {
   "cell_type": "code",
   "execution_count": null,
   "metadata": {
    "ExecuteTime": {
     "end_time": "2018-09-28T15:24:27.007528Z",
     "start_time": "2018-09-28T15:24:26.962077Z"
    }
   },
   "outputs": [],
   "source": [
    "df_test['channelGrouping_Frequency'].value_counts()"
   ]
  },
  {
   "cell_type": "code",
   "execution_count": null,
   "metadata": {
    "ExecuteTime": {
     "end_time": "2018-09-29T00:05:22.451448Z",
     "start_time": "2018-09-29T00:05:07.841026Z"
    }
   },
   "outputs": [],
   "source": [
    "corr_cols = [c for c in df_train_X if 'mean_k_fold_' in c]\n",
    "corr_cols"
   ]
  },
  {
   "cell_type": "code",
   "execution_count": null,
   "metadata": {
    "ExecuteTime": {
     "end_time": "2018-09-28T15:32:00.789508Z",
     "start_time": "2018-09-28T15:32:00.745725Z"
    }
   },
   "outputs": [],
   "source": [
    "df_train_X['mean_k_fold_channelGrouping'].value_counts()"
   ]
  },
  {
   "cell_type": "code",
   "execution_count": null,
   "metadata": {
    "ExecuteTime": {
     "end_time": "2018-09-28T15:31:43.799732Z",
     "start_time": "2018-09-28T15:31:43.749484Z"
    }
   },
   "outputs": [],
   "source": [
    "df_test['mean_k_fold_channelGrouping'].value_counts()"
   ]
  },
  {
   "cell_type": "code",
   "execution_count": null,
   "metadata": {},
   "outputs": [],
   "source": []
  }
 ],
 "metadata": {
  "kernelspec": {
   "display_name": "Python 3",
   "language": "python",
   "name": "python3"
  },
  "language_info": {
   "codemirror_mode": {
    "name": "ipython",
    "version": 3
   },
   "file_extension": ".py",
   "mimetype": "text/x-python",
   "name": "python",
   "nbconvert_exporter": "python",
   "pygments_lexer": "ipython3",
   "version": "3.6.5"
  },
  "toc": {
   "base_numbering": 1,
   "nav_menu": {},
   "number_sections": true,
   "sideBar": true,
   "skip_h1_title": false,
   "title_cell": "Table of Contents",
   "title_sidebar": "Contents",
   "toc_cell": false,
   "toc_position": {
    "height": "calc(100% - 180px)",
    "left": "10px",
    "top": "150px",
    "width": "288px"
   },
   "toc_section_display": true,
   "toc_window_display": true
  },
  "varInspector": {
   "cols": {
    "lenName": 16,
    "lenType": 16,
    "lenVar": 40
   },
   "kernels_config": {
    "python": {
     "delete_cmd_postfix": "",
     "delete_cmd_prefix": "del ",
     "library": "var_list.py",
     "varRefreshCmd": "print(var_dic_list())"
    },
    "r": {
     "delete_cmd_postfix": ") ",
     "delete_cmd_prefix": "rm(",
     "library": "var_list.r",
     "varRefreshCmd": "cat(var_dic_list()) "
    }
   },
   "types_to_exclude": [
    "module",
    "function",
    "builtin_function_or_method",
    "instance",
    "_Feature"
   ],
   "window_display": false
  }
 },
 "nbformat": 4,
 "nbformat_minor": 2
}
