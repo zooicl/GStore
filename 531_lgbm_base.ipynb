{
 "cells": [
  {
   "cell_type": "code",
   "execution_count": 1,
   "metadata": {
    "ExecuteTime": {
     "end_time": "2018-09-29T00:11:04.294090Z",
     "start_time": "2018-09-29T00:11:03.299412Z"
    }
   },
   "outputs": [
    {
     "name": "stderr",
     "output_type": "stream",
     "text": [
      "/Users/hyundai/anaconda3/lib/python3.6/site-packages/lightgbm/__init__.py:45: FutureWarning: Starting from version 2.2.1, the library file in distribution wheels for macOS will be built by the Apple Clang compiler.\n",
      "This means that in case of installing LightGBM from PyPI via the ``pip install lightgbm`` command, you won't need to install the gcc compiler anymore.\n",
      "Instead of that, you'll need to install the OpenMP library, which is required for running LightGBM on the system with the Apple Clang compiler.\n",
      "You can install the OpenMP library by the following command: ``brew install libomp``.\n",
      "  \"You can install the OpenMP library by the following command: ``brew install libomp``.\", FutureWarning)\n"
     ]
    }
   ],
   "source": [
    "%matplotlib inline\n",
    "%load_ext autoreload\n",
    "%autoreload 2\n",
    "\n",
    "import lightgbm as lgb\n",
    "import pandas as pd\n",
    "import numpy as np\n",
    "import datetime\n",
    "from sklearn.preprocessing import LabelEncoder\n",
    "from multiprocessing import Pool\n",
    "import subprocess\n",
    "import matplotlib.pyplot as plt\n",
    "import os\n",
    "import time\n",
    "from sklearn.model_selection import TimeSeriesSplit, KFold, StratifiedKFold\n",
    "from sklearn.model_selection import GroupKFold\n",
    "from features import get_features\n",
    "from features import encode_label\n",
    "from features import encode_mean_k_fold\n",
    "from features import encode_frequency\n",
    "\n",
    "from report import report\n",
    "from report import get_feature_importance\n",
    "from report import submit_to_kaggle\n",
    "import operator\n",
    "from tqdm import tqdm\n",
    "import seaborn as sns\n",
    "import pprint as pp\n",
    "from itertools import combinations\n",
    "\n",
    "\n",
    "def drop_cols(df, cols):\n",
    "    drop_cols = [c for c in df.columns if c in cols]\n",
    "    df.drop(drop_cols, axis=1, inplace=True)\n",
    "    return df\n",
    "\n",
    "\n",
    "def print_corr(df_corr, keyword=None):\n",
    "    sns.heatmap(\n",
    "        df_corr,\n",
    "        annot=True,\n",
    "        xticklabels=df_corr.columns.values,\n",
    "        yticklabels=df_corr.columns.values)\n",
    "\n",
    "    corr_dict = {}\n",
    "    for c in list(combinations(df_corr.columns, 2)):\n",
    "        corr_dict[c] = df_corr.loc[c[0], c[1]]\n",
    "\n",
    "    corr_list = []\n",
    "    for i, corr in enumerate(\n",
    "            sorted(\n",
    "                corr_dict.items(), key=operator.itemgetter(1), reverse=True)):\n",
    "        if keyword:\n",
    "            if keyword in corr:\n",
    "                corr_list.append(\"{} {}\".format(i, corr))\n",
    "            else:\n",
    "                pass\n",
    "        else:\n",
    "            corr_list.append(\"{} {}\".format(i, corr))\n",
    "    pp.pprint(corr_list)\n",
    "    return corr_list\n",
    "\n",
    "\n",
    "def compare_corr(df_train, df_test):\n",
    "    df_train_corr = df_train.corr()\n",
    "    df_test_corr = df_test.corr()\n",
    "\n",
    "    corr_dict_train = {}\n",
    "    corr_dict_test = {}\n",
    "    corr_dict = {}\n",
    "    for c in list(combinations(df_train_corr.columns, 2)):\n",
    "        corr_dict_train[c] = df_train_corr.loc[c[0], c[1]]\n",
    "        corr_dict_test[c] = df_test_corr.loc[c[0], c[1]]\n",
    "        corr_dict[c] = abs(corr_dict_train[c] - corr_dict_test[c])\n",
    "\n",
    "    return corr_dict, corr_dict_train, corr_dict_test\n",
    "\n",
    "def dict_to_sortedlist(d):\n",
    "    l = []\n",
    "    for i, row in enumerate(\n",
    "            sorted(\n",
    "                d.items(), key=operator.itemgetter(1), reverse=True)):\n",
    "        l.append(\"{} {}\".format(i, row))\n",
    "    return l"
   ]
  },
  {
   "cell_type": "markdown",
   "metadata": {},
   "source": [
    "### Load pickle"
   ]
  },
  {
   "cell_type": "code",
   "execution_count": 2,
   "metadata": {
    "ExecuteTime": {
     "end_time": "2018-09-29T00:11:12.717022Z",
     "start_time": "2018-09-29T00:11:05.016263Z"
    }
   },
   "outputs": [
    {
     "name": "stdout",
     "output_type": "stream",
     "text": [
      "CPU times: user 7.19 s, sys: 1.68 s, total: 8.87 s\n",
      "Wall time: 7.62 s\n"
     ]
    }
   ],
   "source": [
    "%%time\n",
    "df_train = pd.read_pickle(\"input/train_lv01.pickle\")\n",
    "df_test = pd.read_pickle(\"input/test_lv01.pickle\")\n",
    "\n",
    "train_size = df_train.shape[0]\n",
    "target_col = 'totals_transactionRevenue'\n",
    "df_train[target_col].fillna(0.0, inplace=True)\n",
    "df_train[target_col] = df_train[target_col].astype(float)\n",
    "\n",
    "\n",
    "# Drop cols nunique < 2\n",
    "del_cols = ['totals_bounces', 'totals_newVisits', 'visitId']\n",
    "df_train = drop_cols(df_train, del_cols)\n",
    "df_test = drop_cols(df_test, del_cols)"
   ]
  },
  {
   "cell_type": "markdown",
   "metadata": {},
   "source": [
    "#### Corr df_train"
   ]
  },
  {
   "cell_type": "code",
   "execution_count": null,
   "metadata": {
    "ExecuteTime": {
     "end_time": "2018-09-28T15:16:27.827219Z",
     "start_time": "2018-09-28T15:16:27.405175Z"
    },
    "scrolled": true
   },
   "outputs": [],
   "source": [
    "_ = print_corr(df_train.corr())"
   ]
  },
  {
   "cell_type": "code",
   "execution_count": null,
   "metadata": {
    "ExecuteTime": {
     "end_time": "2018-09-28T15:16:52.282179Z",
     "start_time": "2018-09-28T15:16:51.911481Z"
    }
   },
   "outputs": [],
   "source": [
    "_ = print_corr(df_train[df_train[target_col] > 0].corr())"
   ]
  },
  {
   "cell_type": "code",
   "execution_count": null,
   "metadata": {
    "ExecuteTime": {
     "end_time": "2018-09-28T15:17:16.817003Z",
     "start_time": "2018-09-28T15:17:16.006189Z"
    }
   },
   "outputs": [],
   "source": [
    "_ = print_corr(df_train[df_train[target_col] == 0].corr())"
   ]
  },
  {
   "cell_type": "markdown",
   "metadata": {},
   "source": [
    "#### Corr df_test"
   ]
  },
  {
   "cell_type": "code",
   "execution_count": null,
   "metadata": {
    "ExecuteTime": {
     "end_time": "2018-09-28T13:39:00.878760Z",
     "start_time": "2018-09-28T13:39:00.599012Z"
    }
   },
   "outputs": [],
   "source": [
    "_ = print_corr(df_test.corr())"
   ]
  },
  {
   "cell_type": "markdown",
   "metadata": {},
   "source": [
    "### DEV"
   ]
  },
  {
   "cell_type": "markdown",
   "metadata": {
    "ExecuteTime": {
     "end_time": "2018-09-28T14:22:40.759864Z",
     "start_time": "2018-09-28T14:22:40.727677Z"
    }
   },
   "source": [
    "#### trafficSource_medium"
   ]
  },
  {
   "cell_type": "code",
   "execution_count": 3,
   "metadata": {
    "ExecuteTime": {
     "end_time": "2018-09-29T00:11:40.730362Z",
     "start_time": "2018-09-29T00:11:40.501357Z"
    }
   },
   "outputs": [
    {
     "data": {
      "text/html": [
       "<div>\n",
       "<style scoped>\n",
       "    .dataframe tbody tr th:only-of-type {\n",
       "        vertical-align: middle;\n",
       "    }\n",
       "\n",
       "    .dataframe tbody tr th {\n",
       "        vertical-align: top;\n",
       "    }\n",
       "\n",
       "    .dataframe thead th {\n",
       "        text-align: right;\n",
       "    }\n",
       "</style>\n",
       "<table border=\"1\" class=\"dataframe\">\n",
       "  <thead>\n",
       "    <tr style=\"text-align: right;\">\n",
       "      <th></th>\n",
       "      <th>trafficSource_medium</th>\n",
       "      <th>totals_hits</th>\n",
       "    </tr>\n",
       "  </thead>\n",
       "  <tbody>\n",
       "    <tr>\n",
       "      <th>0</th>\n",
       "      <td>(none)</td>\n",
       "      <td>4.928614</td>\n",
       "    </tr>\n",
       "    <tr>\n",
       "      <th>1</th>\n",
       "      <td>(not set)</td>\n",
       "      <td>4.400000</td>\n",
       "    </tr>\n",
       "    <tr>\n",
       "      <th>2</th>\n",
       "      <td>affiliate</td>\n",
       "      <td>3.405475</td>\n",
       "    </tr>\n",
       "    <tr>\n",
       "      <th>3</th>\n",
       "      <td>cpc</td>\n",
       "      <td>6.499961</td>\n",
       "    </tr>\n",
       "    <tr>\n",
       "      <th>4</th>\n",
       "      <td>cpm</td>\n",
       "      <td>6.667199</td>\n",
       "    </tr>\n",
       "    <tr>\n",
       "      <th>5</th>\n",
       "      <td>organic</td>\n",
       "      <td>4.928795</td>\n",
       "    </tr>\n",
       "    <tr>\n",
       "      <th>6</th>\n",
       "      <td>referral</td>\n",
       "      <td>3.944231</td>\n",
       "    </tr>\n",
       "  </tbody>\n",
       "</table>\n",
       "</div>"
      ],
      "text/plain": [
       "  trafficSource_medium  totals_hits\n",
       "0               (none)     4.928614\n",
       "1            (not set)     4.400000\n",
       "2            affiliate     3.405475\n",
       "3                  cpc     6.499961\n",
       "4                  cpm     6.667199\n",
       "5              organic     4.928795\n",
       "6             referral     3.944231"
      ]
     },
     "execution_count": 3,
     "metadata": {},
     "output_type": "execute_result"
    },
    {
     "data": {
      "image/png": "[encoded data removed]",
      "text/plain": [
       "<Figure size 432x288 with 1 Axes>"
      ]
     },
     "metadata": {},
     "output_type": "display_data"
    }
   ],
   "source": [
    "df_g = df_train.groupby(['trafficSource_medium'])['totals_hits'].mean().reset_index()\n",
    "df_g.plot(x='trafficSource_medium')\n",
    "df_g"
   ]
  },
  {
   "cell_type": "code",
   "execution_count": 4,
   "metadata": {
    "ExecuteTime": {
     "end_time": "2018-09-29T00:12:07.068307Z",
     "start_time": "2018-09-29T00:12:06.890529Z"
    }
   },
   "outputs": [
    {
     "data": {
      "text/html": [
       "<div>\n",
       "<style scoped>\n",
       "    .dataframe tbody tr th:only-of-type {\n",
       "        vertical-align: middle;\n",
       "    }\n",
       "\n",
       "    .dataframe tbody tr th {\n",
       "        vertical-align: top;\n",
       "    }\n",
       "\n",
       "    .dataframe thead th {\n",
       "        text-align: right;\n",
       "    }\n",
       "</style>\n",
       "<table border=\"1\" class=\"dataframe\">\n",
       "  <thead>\n",
       "    <tr style=\"text-align: right;\">\n",
       "      <th></th>\n",
       "      <th>trafficSource_medium</th>\n",
       "      <th>totals_hits</th>\n",
       "    </tr>\n",
       "  </thead>\n",
       "  <tbody>\n",
       "    <tr>\n",
       "      <th>0</th>\n",
       "      <td>(none)</td>\n",
       "      <td>4.071541</td>\n",
       "    </tr>\n",
       "    <tr>\n",
       "      <th>1</th>\n",
       "      <td>(not set)</td>\n",
       "      <td>1.764706</td>\n",
       "    </tr>\n",
       "    <tr>\n",
       "      <th>2</th>\n",
       "      <td>affiliate</td>\n",
       "      <td>3.477108</td>\n",
       "    </tr>\n",
       "    <tr>\n",
       "      <th>3</th>\n",
       "      <td>cpc</td>\n",
       "      <td>2.534803</td>\n",
       "    </tr>\n",
       "    <tr>\n",
       "      <th>4</th>\n",
       "      <td>cpm</td>\n",
       "      <td>5.960329</td>\n",
       "    </tr>\n",
       "    <tr>\n",
       "      <th>5</th>\n",
       "      <td>organic</td>\n",
       "      <td>4.505722</td>\n",
       "    </tr>\n",
       "    <tr>\n",
       "      <th>6</th>\n",
       "      <td>referral</td>\n",
       "      <td>4.423155</td>\n",
       "    </tr>\n",
       "  </tbody>\n",
       "</table>\n",
       "</div>"
      ],
      "text/plain": [
       "  trafficSource_medium  totals_hits\n",
       "0               (none)     4.071541\n",
       "1            (not set)     1.764706\n",
       "2            affiliate     3.477108\n",
       "3                  cpc     2.534803\n",
       "4                  cpm     5.960329\n",
       "5              organic     4.505722\n",
       "6             referral     4.423155"
      ]
     },
     "execution_count": 4,
     "metadata": {},
     "output_type": "execute_result"
    },
    {
     "data": {
      "image/png": "[encoded data removed]",
      "text/plain": [
       "<Figure size 432x288 with 1 Axes>"
      ]
     },
     "metadata": {},
     "output_type": "display_data"
    }
   ],
   "source": [
    "df_g = df_test.groupby(['trafficSource_medium'])['totals_hits'].mean().reset_index()\n",
    "df_g.plot(x='trafficSource_medium')\n",
    "df_g"
   ]
  },
  {
   "cell_type": "markdown",
   "metadata": {},
   "source": [
    "#### *_hits_per_day"
   ]
  },
  {
   "cell_type": "code",
   "execution_count": null,
   "metadata": {
    "ExecuteTime": {
     "end_time": "2018-09-28T14:26:34.643101Z",
     "start_time": "2018-09-28T14:26:34.447923Z"
    },
    "scrolled": true
   },
   "outputs": [],
   "source": [
    "df_g = df_train.groupby(['day'])['totals_hits'].sum().reset_index()\n",
    "df_g.plot()\n",
    "df_g"
   ]
  },
  {
   "cell_type": "code",
   "execution_count": null,
   "metadata": {
    "ExecuteTime": {
     "end_time": "2018-09-28T14:26:47.761876Z",
     "start_time": "2018-09-28T14:26:47.574882Z"
    },
    "scrolled": true
   },
   "outputs": [],
   "source": [
    "df_g = df_test.groupby(['day'])['totals_hits'].sum().reset_index()\n",
    "df_g.plot()\n",
    "df_g"
   ]
  },
  {
   "cell_type": "markdown",
   "metadata": {},
   "source": [
    "#### Freq"
   ]
  },
  {
   "cell_type": "code",
   "execution_count": null,
   "metadata": {
    "ExecuteTime": {
     "end_time": "2018-09-28T14:57:47.177422Z",
     "start_time": "2018-09-28T14:57:47.144056Z"
    }
   },
   "outputs": [],
   "source": [
    "corr_cols = [c for c in df_train_X if '_Fre' in c]\n",
    "corr_cols"
   ]
  },
  {
   "cell_type": "code",
   "execution_count": null,
   "metadata": {
    "ExecuteTime": {
     "end_time": "2018-09-28T14:58:24.126377Z",
     "start_time": "2018-09-28T14:58:23.933206Z"
    }
   },
   "outputs": [],
   "source": [
    "df_test['channelGrouping_Frequency'].plot()\n"
   ]
  },
  {
   "cell_type": "code",
   "execution_count": null,
   "metadata": {},
   "outputs": [],
   "source": []
  },
  {
   "cell_type": "markdown",
   "metadata": {},
   "source": [
    "#### Compare corr between train and test"
   ]
  },
  {
   "cell_type": "code",
   "execution_count": null,
   "metadata": {
    "ExecuteTime": {
     "end_time": "2018-09-28T14:54:53.967081Z",
     "start_time": "2018-09-28T14:54:51.994569Z"
    }
   },
   "outputs": [],
   "source": [
    "corr_cols = [c for c in df_train_X if '_Fre' in c]\n",
    "corr_dict, corr_train, corr_test = compare_corr(df_train[corr_cols], df_test[corr_cols])\n",
    "pp.pprint(corr_dict)\n",
    "pp.pprint(corr_train)\n",
    "pp.pprint(corr_test)"
   ]
  },
  {
   "cell_type": "code",
   "execution_count": null,
   "metadata": {
    "ExecuteTime": {
     "end_time": "2018-09-28T14:36:10.007039Z",
     "start_time": "2018-09-28T14:36:09.955455Z"
    }
   },
   "outputs": [],
   "source": [
    "dict_to_sortedlist(corr_dict)"
   ]
  },
  {
   "cell_type": "code",
   "execution_count": null,
   "metadata": {
    "ExecuteTime": {
     "end_time": "2018-09-28T14:34:33.966604Z",
     "start_time": "2018-09-28T14:34:33.919874Z"
    }
   },
   "outputs": [],
   "source": [
    "df_train['trafficSource_adwordsClickInfo.isVideoAd'].value_counts()"
   ]
  },
  {
   "cell_type": "markdown",
   "metadata": {},
   "source": [
    "### Feature Engineering"
   ]
  },
  {
   "cell_type": "code",
   "execution_count": 5,
   "metadata": {
    "ExecuteTime": {
     "end_time": "2018-09-29T00:13:17.430845Z",
     "start_time": "2018-09-29T00:12:33.184382Z"
    }
   },
   "outputs": [
    {
     "name": "stdout",
     "output_type": "stream",
     "text": [
      "'fea_date_time'  16447.63 ms\n",
      "'fea_format'  103.12 ms\n",
      "'fea_device'  2195.12 ms\n",
      "'fea_totals'  1930.79 ms\n",
      "'fea_geo_network'  392.59 ms\n",
      "'fea_traffic_source'  2568.23 ms\n",
      "'fea_date_time'  14172.53 ms\n",
      "'fea_format'  93.61 ms\n",
      "'fea_device'  1987.77 ms\n",
      "'fea_totals'  1709.75 ms\n",
      "'fea_geo_network'  341.45 ms\n",
      "'fea_traffic_source'  2256.90 ms\n",
      "CPU times: user 1min 5s, sys: 7.02 s, total: 1min 12s\n",
      "Wall time: 44.2 s\n"
     ]
    }
   ],
   "source": [
    "%%time\n",
    "df_train, fea_cols = get_features(df_train)\n",
    "df_test, fea_cols = get_features(df_test)\n",
    "df_train[target_col] = np.log1p(df_train[target_col])"
   ]
  },
  {
   "cell_type": "code",
   "execution_count": null,
   "metadata": {
    "ExecuteTime": {
     "end_time": "2018-09-28T15:18:38.838210Z",
     "start_time": "2018-09-28T15:18:38.805951Z"
    }
   },
   "outputs": [],
   "source": [
    "fea_cols"
   ]
  },
  {
   "cell_type": "markdown",
   "metadata": {
    "ExecuteTime": {
     "end_time": "2018-09-28T06:26:08.725835Z",
     "start_time": "2018-09-28T06:26:08.692298Z"
    }
   },
   "source": [
    "#### corr df_train and df_test"
   ]
  },
  {
   "cell_type": "code",
   "execution_count": null,
   "metadata": {
    "ExecuteTime": {
     "end_time": "2018-09-28T15:18:57.981619Z",
     "start_time": "2018-09-28T15:18:53.402273Z"
    },
    "scrolled": true
   },
   "outputs": [],
   "source": [
    "_ = print_corr(df_train.corr())"
   ]
  },
  {
   "cell_type": "code",
   "execution_count": null,
   "metadata": {
    "ExecuteTime": {
     "end_time": "2018-09-28T15:19:15.524320Z",
     "start_time": "2018-09-28T15:19:11.492633Z"
    },
    "scrolled": true
   },
   "outputs": [],
   "source": [
    "_ = print_corr(df_test.corr())"
   ]
  },
  {
   "cell_type": "markdown",
   "metadata": {},
   "source": [
    "#### ttest between df_train and df_test"
   ]
  },
  {
   "cell_type": "code",
   "execution_count": null,
   "metadata": {
    "ExecuteTime": {
     "start_time": "2018-09-28T11:39:58.055Z"
    }
   },
   "outputs": [],
   "source": [
    "# from scipy.stats import ttest_ind\n",
    "# c = 'browser_category'\n",
    "# print(c, ttest_ind(df_train[c], df_test[c], equal_var=False))\n",
    "\n",
    "# for c in fea_cols:\n",
    "#     print(c, ttest_ind(df_train[c], df_test[c], equal_var=False))"
   ]
  },
  {
   "cell_type": "markdown",
   "metadata": {},
   "source": [
    "### Encodings"
   ]
  },
  {
   "cell_type": "code",
   "execution_count": 6,
   "metadata": {
    "ExecuteTime": {
     "end_time": "2018-09-29T00:13:39.795906Z",
     "start_time": "2018-09-29T00:13:33.576559Z"
    }
   },
   "outputs": [
    {
     "name": "stderr",
     "output_type": "stream",
     "text": [
      "/Users/hyundai/anaconda3/lib/python3.6/site-packages/pandas/core/frame.py:3787: SettingWithCopyWarning: \n",
      "A value is trying to be set on a copy of a slice from a DataFrame\n",
      "\n",
      "See the caveats in the documentation: http://pandas.pydata.org/pandas-docs/stable/indexing.html#indexing-view-versus-copy\n",
      "  downcast=downcast, **kwargs)\n"
     ]
    },
    {
     "data": {
      "text/plain": [
       "28"
      ]
     },
     "execution_count": 6,
     "metadata": {},
     "output_type": "execute_result"
    }
   ],
   "source": [
    "not_used_cols = [\n",
    "    \"date\",\n",
    "    \"fullVisitorId\",\n",
    "    \"sessionId\",\n",
    "    \"visitId\",\n",
    "    'trafficSource_campaignCode',\n",
    "    target_col,\n",
    "    #     \"visitNumber\",\n",
    "    #     \"visitStartTime\",\n",
    "    #     'trafficSource_referralPath',\n",
    "]\n",
    "\n",
    "categorical_feature = df_train.select_dtypes(include='object').columns\n",
    "categorical_feature = [\n",
    "    c for c in categorical_feature if c not in not_used_cols\n",
    "]\n",
    "df_train[categorical_feature].fillna('NA_NULL', inplace=True)\n",
    "df_test[categorical_feature].fillna('NA_NULL', inplace=True)\n",
    "\n",
    "len(categorical_feature)"
   ]
  },
  {
   "cell_type": "markdown",
   "metadata": {},
   "source": [
    "#### Label Encoding"
   ]
  },
  {
   "cell_type": "code",
   "execution_count": 7,
   "metadata": {
    "ExecuteTime": {
     "end_time": "2018-09-29T00:14:39.906896Z",
     "start_time": "2018-09-29T00:13:54.342722Z"
    }
   },
   "outputs": [
    {
     "name": "stdout",
     "output_type": "stream",
     "text": [
      "['channelGrouping', 'device_browser', 'device_deviceCategory', 'device_isMobile', 'device_operatingSystem', 'geoNetwork_city', 'geoNetwork_continent', 'geoNetwork_country', 'geoNetwork_metro', 'geoNetwork_networkDomain', 'geoNetwork_region', 'geoNetwork_subContinent', 'trafficSource_adContent', 'trafficSource_adwordsClickInfo.adNetworkType', 'trafficSource_adwordsClickInfo.gclId', 'trafficSource_adwordsClickInfo.isVideoAd', 'trafficSource_adwordsClickInfo.page', 'trafficSource_adwordsClickInfo.slot', 'trafficSource_campaign', 'trafficSource_isTrueDirect', 'trafficSource_keyword', 'trafficSource_medium', 'trafficSource_referralPath', 'trafficSource_source', 'browser_category', 'browser_operatingSystem', 'source_country', 'campaign_medium']\n"
     ]
    },
    {
     "name": "stderr",
     "output_type": "stream",
     "text": [
      "100%|██████████| 28/28 [00:42<00:00,  1.15s/it]"
     ]
    },
    {
     "name": "stdout",
     "output_type": "stream",
     "text": [
      "'encode_label'  45530.40 ms\n"
     ]
    },
    {
     "name": "stderr",
     "output_type": "stream",
     "text": [
      "\n"
     ]
    }
   ],
   "source": [
    "df_train, df_test = encode_label(df_train, df_test, categorical_feature)"
   ]
  },
  {
   "cell_type": "markdown",
   "metadata": {},
   "source": [
    "#### Freq Encoding"
   ]
  },
  {
   "cell_type": "code",
   "execution_count": 8,
   "metadata": {
    "ExecuteTime": {
     "end_time": "2018-09-29T00:15:17.010535Z",
     "start_time": "2018-09-29T00:14:49.873844Z"
    }
   },
   "outputs": [
    {
     "name": "stderr",
     "output_type": "stream",
     "text": [
      "100%|██████████| 28/28 [00:26<00:00,  1.04it/s]"
     ]
    },
    {
     "name": "stdout",
     "output_type": "stream",
     "text": [
      "(903653, 87) (804684, 86)\n",
      "'encode_frequency'  27017.84 ms\n"
     ]
    },
    {
     "name": "stderr",
     "output_type": "stream",
     "text": [
      "\n"
     ]
    }
   ],
   "source": [
    "df_train, df_test = encode_frequency(df_train, df_test, categorical_feature)"
   ]
  },
  {
   "cell_type": "markdown",
   "metadata": {},
   "source": [
    "#### Mean Encoding"
   ]
  },
  {
   "cell_type": "code",
   "execution_count": 9,
   "metadata": {
    "ExecuteTime": {
     "end_time": "2018-09-29T00:16:57.563826Z",
     "start_time": "2018-09-29T00:15:28.644944Z"
    },
    "scrolled": true
   },
   "outputs": [
    {
     "name": "stderr",
     "output_type": "stream",
     "text": [
      "100%|██████████| 28/28 [01:28<00:00,  3.49s/it]"
     ]
    },
    {
     "name": "stdout",
     "output_type": "stream",
     "text": [
      "(903653, 115) (804684, 114)\n",
      "Index(['channelGrouping', 'date', 'fullVisitorId', 'sessionId', 'visitNumber',\n",
      "       'visitStartTime', 'device_browser', 'device_deviceCategory',\n",
      "       'device_isMobile', 'device_operatingSystem',\n",
      "       ...\n",
      "       'mean_k_fold_trafficSource_campaign',\n",
      "       'mean_k_fold_trafficSource_isTrueDirect',\n",
      "       'mean_k_fold_trafficSource_keyword', 'mean_k_fold_trafficSource_medium',\n",
      "       'mean_k_fold_trafficSource_referralPath',\n",
      "       'mean_k_fold_trafficSource_source', 'mean_k_fold_browser_category',\n",
      "       'mean_k_fold_browser_operatingSystem', 'mean_k_fold_source_country',\n",
      "       'mean_k_fold_campaign_medium'],\n",
      "      dtype='object', length=115)\n",
      "'encode_mean_k_fold'  88880.80 ms\n"
     ]
    },
    {
     "name": "stderr",
     "output_type": "stream",
     "text": [
      "\n"
     ]
    }
   ],
   "source": [
    "df_train, df_test = encode_mean_k_fold(df_train, df_test, categorical_feature, target_col)"
   ]
  },
  {
   "cell_type": "markdown",
   "metadata": {},
   "source": [
    "#### LDA"
   ]
  },
  {
   "cell_type": "code",
   "execution_count": null,
   "metadata": {
    "ExecuteTime": {
     "end_time": "2018-09-28T15:41:04.981193Z",
     "start_time": "2018-09-28T15:41:02.170973Z"
    }
   },
   "outputs": [],
   "source": [
    "from sklearn.discriminant_analysis import LinearDiscriminantAnalysis\n",
    "\n",
    "# y_categorized = np.digitize(df_train[target_col], bins=np.arange(2,24,2))\n",
    "# clf = LinearDiscriminantAnalysis(n_components=10)\n",
    "# clf.fit(df_train[categorical_feature], y_categorized)"
   ]
  },
  {
   "cell_type": "code",
   "execution_count": null,
   "metadata": {
    "ExecuteTime": {
     "end_time": "2018-09-28T15:42:10.040277Z",
     "start_time": "2018-09-28T15:42:08.126129Z"
    }
   },
   "outputs": [],
   "source": [
    "# df_train_lda = pd.DataFrame(clf.transform(df_train[categorical_feature]))\n",
    "# df_test_lda = pd.DataFrame(clf.transform(df_test[categorical_feature]))\n",
    "\n",
    "# col_map={i:'lda_{}'.format(i) for i in range(10)}\n",
    "# df_train_lda.rename(columns=col_map, inplace=True)\n",
    "# df_test.rename(columns=col_map, inplace=True)\n",
    "\n",
    "# df_train = pd.concat([df_train, df_train_lda], axis=1)\n",
    "# df_test = pd.concat([df_test, df_test_lda], axis=1)                "
   ]
  },
  {
   "cell_type": "markdown",
   "metadata": {},
   "source": [
    "#### LDA with Total_hit"
   ]
  },
  {
   "cell_type": "code",
   "execution_count": null,
   "metadata": {
    "ExecuteTime": {
     "end_time": "2018-09-28T04:43:03.694933Z",
     "start_time": "2018-09-28T04:43:03.513735Z"
    }
   },
   "outputs": [],
   "source": [
    "df_train['totals_hits'].hist()"
   ]
  },
  {
   "cell_type": "code",
   "execution_count": 10,
   "metadata": {
    "ExecuteTime": {
     "end_time": "2018-09-29T00:17:16.116661Z",
     "start_time": "2018-09-29T00:17:08.622362Z"
    }
   },
   "outputs": [
    {
     "data": {
      "text/plain": [
       "LinearDiscriminantAnalysis(n_components=10, priors=None, shrinkage=None,\n",
       "              solver='svd', store_covariance=False, tol=0.0001)"
      ]
     },
     "execution_count": 10,
     "metadata": {},
     "output_type": "execute_result"
    }
   ],
   "source": [
    "from sklearn.discriminant_analysis import LinearDiscriminantAnalysis\n",
    "\n",
    "\n",
    "\n",
    "clf = LinearDiscriminantAnalysis(n_components=10)\n",
    "df_merge = pd.concat([df_train[categorical_feature + ['totals_hits']], \n",
    "                      df_test[categorical_feature + ['totals_hits']]])\n",
    "\n",
    "y_categorized = np.digitize(df_merge['totals_hits'], bins=np.arange(0,6,1))\n",
    "\n",
    "clf.fit(df_merge[categorical_feature], y_categorized)"
   ]
  },
  {
   "cell_type": "code",
   "execution_count": 11,
   "metadata": {
    "ExecuteTime": {
     "end_time": "2018-09-29T00:17:31.504974Z",
     "start_time": "2018-09-29T00:17:29.698089Z"
    }
   },
   "outputs": [],
   "source": [
    "df_train_lda = pd.DataFrame(clf.transform(df_train[categorical_feature]))\n",
    "df_test_lda = pd.DataFrame(clf.transform(df_test[categorical_feature]))\n",
    "\n",
    "col_map={i:'lda_total_hits{}'.format(i) for i in range(10)}\n",
    "df_train_lda.rename(columns=col_map, inplace=True)\n",
    "df_test.rename(columns=col_map, inplace=True)\n",
    "\n",
    "df_train = pd.concat([df_train, df_train_lda], axis=1)\n",
    "df_test = pd.concat([df_test, df_test_lda], axis=1)                "
   ]
  },
  {
   "cell_type": "markdown",
   "metadata": {},
   "source": [
    "### Split X and y, Remove not_used_cols"
   ]
  },
  {
   "cell_type": "code",
   "execution_count": 12,
   "metadata": {
    "ExecuteTime": {
     "end_time": "2018-09-29T00:17:50.346627Z",
     "start_time": "2018-09-29T00:17:47.344645Z"
    }
   },
   "outputs": [],
   "source": [
    "df_train_y = df_train[target_col].astype(float)\n",
    "\n",
    "df_train_idx = df_train[['fullVisitorId', target_col]]\n",
    "df_train_X = drop_cols(df_train.copy(), not_used_cols)\n",
    "\n",
    "df_test_idx = df_test[['fullVisitorId']]\n",
    "df_test_X = drop_cols(df_test.copy(), not_used_cols)"
   ]
  },
  {
   "cell_type": "markdown",
   "metadata": {},
   "source": [
    "### Training 531"
   ]
  },
  {
   "cell_type": "code",
   "execution_count": 13,
   "metadata": {
    "ExecuteTime": {
     "end_time": "2018-09-29T00:18:09.892289Z",
     "start_time": "2018-09-29T00:18:09.849820Z"
    }
   },
   "outputs": [
    {
     "name": "stdout",
     "output_type": "stream",
     "text": [
      "['channelGrouping', 'visitNumber', 'visitStartTime', 'device_browser', 'device_deviceCategory', 'device_isMobile', 'device_operatingSystem', 'geoNetwork_city', 'geoNetwork_continent', 'geoNetwork_country', 'geoNetwork_metro', 'geoNetwork_networkDomain', 'geoNetwork_region', 'geoNetwork_subContinent', 'totals_hits', 'totals_pageviews', 'trafficSource_adContent', 'trafficSource_adwordsClickInfo.adNetworkType', 'trafficSource_adwordsClickInfo.gclId', 'trafficSource_adwordsClickInfo.isVideoAd', 'trafficSource_adwordsClickInfo.page', 'trafficSource_adwordsClickInfo.slot', 'trafficSource_campaign', 'trafficSource_isTrueDirect', 'trafficSource_keyword', 'trafficSource_medium', 'trafficSource_referralPath', 'trafficSource_source', 'month', 'day', 'hour', 'weekday', 'month_unique_user_count', 'weekday_unique_user_count', 'hour_unique_user_count', 'user_hour_mean', 'user_hour_max', 'user_hour_min', 'browser_category', 'browser_operatingSystem', 'mean_hour_per_browser_operatingSystem', 'source_country', 'sum_hits_per_day', 'max_hits_per_day', 'var_hits_per_day', 'mean_hits_per_hour', 'sum_hits_per_hour', 'max_hits_per_hour', 'mean_pageviews_per_network_domain', 'sum_hits_per_network_domain', 'campaign_medium', 'medium_hits_mean', 'medium_hits_max', 'medium_hits_min', 'medium_hits_sum', 'channelGrouping_Frequency', 'device_browser_Frequency', 'device_deviceCategory_Frequency', 'device_isMobile_Frequency', 'device_operatingSystem_Frequency', 'geoNetwork_city_Frequency', 'geoNetwork_continent_Frequency', 'geoNetwork_country_Frequency', 'geoNetwork_metro_Frequency', 'geoNetwork_networkDomain_Frequency', 'geoNetwork_region_Frequency', 'geoNetwork_subContinent_Frequency', 'trafficSource_adContent_Frequency', 'trafficSource_adwordsClickInfo.adNetworkType_Frequency', 'trafficSource_adwordsClickInfo.gclId_Frequency', 'trafficSource_adwordsClickInfo.isVideoAd_Frequency', 'trafficSource_adwordsClickInfo.page_Frequency', 'trafficSource_adwordsClickInfo.slot_Frequency', 'trafficSource_campaign_Frequency', 'trafficSource_isTrueDirect_Frequency', 'trafficSource_keyword_Frequency', 'trafficSource_medium_Frequency', 'trafficSource_referralPath_Frequency', 'trafficSource_source_Frequency', 'browser_category_Frequency', 'browser_operatingSystem_Frequency', 'source_country_Frequency', 'campaign_medium_Frequency', 'mean_k_fold_channelGrouping', 'mean_k_fold_device_browser', 'mean_k_fold_device_deviceCategory', 'mean_k_fold_device_isMobile', 'mean_k_fold_device_operatingSystem', 'mean_k_fold_geoNetwork_city', 'mean_k_fold_geoNetwork_continent', 'mean_k_fold_geoNetwork_country', 'mean_k_fold_geoNetwork_metro', 'mean_k_fold_geoNetwork_networkDomain', 'mean_k_fold_geoNetwork_region', 'mean_k_fold_geoNetwork_subContinent', 'mean_k_fold_trafficSource_adContent', 'mean_k_fold_trafficSource_adwordsClickInfo.adNetworkType', 'mean_k_fold_trafficSource_adwordsClickInfo.gclId', 'mean_k_fold_trafficSource_adwordsClickInfo.isVideoAd', 'mean_k_fold_trafficSource_adwordsClickInfo.page', 'mean_k_fold_trafficSource_adwordsClickInfo.slot', 'mean_k_fold_trafficSource_campaign', 'mean_k_fold_trafficSource_isTrueDirect', 'mean_k_fold_trafficSource_keyword', 'mean_k_fold_trafficSource_medium', 'mean_k_fold_trafficSource_referralPath', 'mean_k_fold_trafficSource_source', 'mean_k_fold_browser_category', 'mean_k_fold_browser_operatingSystem', 'mean_k_fold_source_country', 'mean_k_fold_campaign_medium', 'lda_total_hits0', 'lda_total_hits1', 'lda_total_hits2', 'lda_total_hits3', 'lda_total_hits4']\n"
     ]
    }
   ],
   "source": [
    "feature_name = list(df_train_X.columns)\n",
    "print(feature_name)\n",
    "prediction_train = np.zeros(df_train_X.shape[0])\n",
    "prediction = np.zeros(df_test_X.shape[0])"
   ]
  },
  {
   "cell_type": "code",
   "execution_count": 14,
   "metadata": {
    "ExecuteTime": {
     "end_time": "2018-09-29T00:18:29.099243Z",
     "start_time": "2018-09-29T00:18:29.057114Z"
    }
   },
   "outputs": [],
   "source": [
    "def modeling(fold_col, X_train, X_valid, y_train, y_valid):\n",
    "    print('X_train:', X_train.shape, 'X_valid:', X_valid.shape, 'Rate:',\n",
    "          X_valid.shape[0] / X_train.shape[0])\n",
    "    if X_valid.shape[0] / X_train.shape[0] > 1.0:\n",
    "        print('No Execution')\n",
    "        return\n",
    "\n",
    "    train = lgb.Dataset(\n",
    "        X_train.values,\n",
    "        label=y_train.values,\n",
    "        feature_name=feature_name,\n",
    "        #         categorical_feature=categorical_feature\n",
    "    )\n",
    "\n",
    "    valid = lgb.Dataset(\n",
    "        X_valid.values,\n",
    "        label=y_valid.values,\n",
    "        feature_name=feature_name,\n",
    "        #         categorical_feature=categorical_feature\n",
    "    )\n",
    "\n",
    "    #     params = {\n",
    "    #         \"objective\": \"regression\",\n",
    "    #         \"metric\": \"rmse\",\n",
    "    #         \"max_depth\": 8,\n",
    "    #         \"min_child_samples\": 20,\n",
    "    #         \"reg_alpha\": 1,\n",
    "    #         \"reg_lambda\": 1,\n",
    "    #         \"num_leaves\": 257,\n",
    "    #         \"learning_rate\": 0.01,\n",
    "    #         \"subsample\": 0.8,\n",
    "    #         \"colsample_bytree\": 0.8,\n",
    "    #         \"subsample_freq \": 5,\n",
    "    #     }\n",
    "    #     params = {\n",
    "    #     \"objective\": \"regression\",\n",
    "    #     \"metric\": \"rmse\",\n",
    "    #     \"num_leaves\": 30,\n",
    "    #     \"min_child_samples\": 100,\n",
    "    #     \"learning_rate\": 0.1,\n",
    "    #     \"bagging_fraction\": 0.7,\n",
    "    #     \"feature_fraction\": 0.5,\n",
    "    #     \"bagging_frequency\": 5,\n",
    "    #     \"bagging_seed\": 2018,\n",
    "    #     \"verbosity\": -1\n",
    "    # }\n",
    "\n",
    "    # param = {\n",
    "    #     \"objective\": \"regression\",\n",
    "    #     \"metric\": \"rmse\",\n",
    "    #     \"max_depth\": 8,\n",
    "    #     \"min_child_samples\": 21,\n",
    "    #     \"reg_alpha\": 1,\n",
    "    #     \"reg_lambda\": 1,\n",
    "    #     \"num_leaves\": 257,\n",
    "    #     \"learning_rate\": 0.01,\n",
    "    #     \"subsample\": 0.82,\n",
    "    #     \"colsample_bytree\": 0.84,\n",
    "    #     \"verbosity\": -1\n",
    "    # }\n",
    "\n",
    "    params = {\n",
    "        \"objective\": \"regression\",\n",
    "        \"metric\": \"rmse\",\n",
    "        \"num_leaves\": 30,\n",
    "        \"min_child_samples\": 100,\n",
    "        \"learning_rate\": 0.1,\n",
    "        \"bagging_fraction\": 0.7,\n",
    "        \"feature_fraction\": 0.5,\n",
    "        \"bagging_frequency\": 5,\n",
    "        \"bagging_seed\": 1989,\n",
    "        \"verbosity\": -1,\n",
    "        'seed': 1989\n",
    "    }\n",
    "\n",
    "    evals_result = {}\n",
    "    train_params = {\n",
    "        'params': params,\n",
    "        'train_set': train,\n",
    "        'valid_sets': [train, valid],\n",
    "        'valid_names': ['train', 'valid'],\n",
    "        'early_stopping_rounds': 300,  #50\n",
    "        'num_boost_round': 10000,  #500\n",
    "        'verbose_eval': 25,\n",
    "        'feval': None,\n",
    "        'evals_result': evals_result,\n",
    "        #     'categorical_feature': 'auto',\n",
    "    }\n",
    "\n",
    "    model = lgb.train(**train_params)\n",
    "\n",
    "    global prediction_train, prediction\n",
    "    print('predict train set')\n",
    "    pred_train = model.predict(\n",
    "        df_train_X.values, num_iteration=model.best_iteration)\n",
    "    prediction_train += pred_train\n",
    "    df_fold_train = df_train_idx.copy()\n",
    "    df_fold_train[fold_col] = pred_train\n",
    "\n",
    "    print('predict test set')\n",
    "    pred = model.predict(df_test_X.values, num_iteration=model.best_iteration)\n",
    "    prediction += pred\n",
    "    df_fold_test = df_test_idx.copy()\n",
    "    df_fold_test[fold_col] = pred\n",
    "\n",
    "    # report\n",
    "    msg = [fold_col, str(df_train_X.columns), str(train_params)]\n",
    "    submit_file_path = report(df_fold_train, df_fold_test, pred_train, pred,\n",
    "                              msg, model)\n",
    "    print(submit_file_path)\n",
    "\n",
    "    return model"
   ]
  },
  {
   "cell_type": "code",
   "execution_count": 15,
   "metadata": {
    "ExecuteTime": {
     "end_time": "2018-09-29T00:19:27.670372Z",
     "start_time": "2018-09-29T00:18:47.062216Z"
    },
    "scrolled": false
   },
   "outputs": [
    {
     "name": "stdout",
     "output_type": "stream",
     "text": [
      "X_train: (765707, 116) X_valid: (137946, 116) Rate: 0.18015507237102443\n",
      "Training until validation scores don't improve for 300 rounds.\n",
      "[25]\ttrain's rmse: 1.63362\tvalid's rmse: 1.74135\n",
      "[50]\ttrain's rmse: 1.58545\tvalid's rmse: 1.70064\n",
      "[75]\ttrain's rmse: 1.56308\tvalid's rmse: 1.69365\n",
      "[100]\ttrain's rmse: 1.54668\tvalid's rmse: 1.68979\n",
      "[125]\ttrain's rmse: 1.53197\tvalid's rmse: 1.68866\n",
      "[150]\ttrain's rmse: 1.5181\tvalid's rmse: 1.68656\n",
      "[175]\ttrain's rmse: 1.50592\tvalid's rmse: 1.68622\n",
      "[200]\ttrain's rmse: 1.49393\tvalid's rmse: 1.68429\n",
      "[225]\ttrain's rmse: 1.48202\tvalid's rmse: 1.68261\n",
      "[250]\ttrain's rmse: 1.47345\tvalid's rmse: 1.6836\n",
      "[275]\ttrain's rmse: 1.46538\tvalid's rmse: 1.68385\n",
      "[300]\ttrain's rmse: 1.45739\tvalid's rmse: 1.684\n",
      "[325]\ttrain's rmse: 1.45041\tvalid's rmse: 1.68437\n",
      "[350]\ttrain's rmse: 1.44171\tvalid's rmse: 1.68437\n",
      "[375]\ttrain's rmse: 1.43402\tvalid's rmse: 1.68439\n",
      "[400]\ttrain's rmse: 1.42664\tvalid's rmse: 1.68385\n",
      "[425]\ttrain's rmse: 1.41862\tvalid's rmse: 1.6836\n",
      "[450]\ttrain's rmse: 1.41223\tvalid's rmse: 1.68427\n",
      "[475]\ttrain's rmse: 1.40487\tvalid's rmse: 1.68427\n",
      "[500]\ttrain's rmse: 1.39771\tvalid's rmse: 1.68461\n",
      "[525]\ttrain's rmse: 1.39054\tvalid's rmse: 1.68417\n",
      "Early stopping, best iteration is:\n",
      "[225]\ttrain's rmse: 1.48202\tvalid's rmse: 1.68261\n",
      "predict train set\n",
      "predict test set\n",
      "<feature_importance>\n",
      "0 ('totals_pageviews', 713)\n",
      "1 ('totals_hits', 579)\n",
      "2 ('visitStartTime', 335)\n",
      "3 ('visitNumber', 258)\n",
      "4 ('mean_k_fold_source_country', 228)\n",
      "5 ('user_hour_mean', 214)\n",
      "6 ('mean_k_fold_geoNetwork_city', 182)\n",
      "7 ('lda_total_hits0', 178)\n",
      "8 ('lda_total_hits1', 175)\n",
      "9 ('lda_total_hits2', 164)\n",
      "10 ('user_hour_max', 136)\n",
      "11 ('mean_k_fold_geoNetwork_networkDomain', 135)\n",
      "12 ('day', 131)\n",
      "13 ('lda_total_hits3', 131)\n",
      "14 ('mean_k_fold_geoNetwork_metro', 128)\n",
      "15 ('lda_total_hits4', 127)\n",
      "16 ('sum_hits_per_day', 126)\n",
      "17 ('user_hour_min', 118)\n",
      "18 ('var_hits_per_day', 115)\n",
      "19 ('hour', 102)\n",
      "20 ('mean_pageviews_per_network_domain', 98)\n",
      "21 ('mean_k_fold_geoNetwork_region', 98)\n",
      "22 ('month_unique_user_count', 94)\n",
      "23 ('hour_unique_user_count', 92)\n",
      "24 ('max_hits_per_day', 91)\n",
      "25 ('mean_k_fold_browser_operatingSystem', 89)\n",
      "26 ('sum_hits_per_hour', 83)\n",
      "27 ('month', 82)\n",
      "28 ('mean_hits_per_hour', 78)\n",
      "29 ('geoNetwork_city', 74)\n",
      "30 ('mean_k_fold_device_operatingSystem', 73)\n",
      "31 ('max_hits_per_hour', 68)\n",
      "32 ('weekday_unique_user_count', 62)\n",
      "33 ('weekday', 59)\n",
      "34 ('mean_k_fold_trafficSource_source', 53)\n",
      "35 ('sum_hits_per_network_domain', 50)\n",
      "36 ('mean_k_fold_geoNetwork_country', 50)\n",
      "37 ('geoNetwork_networkDomain', 47)\n",
      "38 ('mean_k_fold_trafficSource_referralPath', 46)\n",
      "39 ('geoNetwork_region', 45)\n",
      "40 ('geoNetwork_city_Frequency', 44)\n",
      "41 ('source_country_Frequency', 43)\n",
      "42 ('mean_k_fold_trafficSource_isTrueDirect', 37)\n",
      "43 ('geoNetwork_metro_Frequency', 32)\n",
      "44 ('geoNetwork_networkDomain_Frequency', 32)\n",
      "45 ('mean_k_fold_channelGrouping', 32)\n",
      "46 ('mean_k_fold_geoNetwork_subContinent', 30)\n",
      "47 ('mean_k_fold_browser_category', 30)\n",
      "48 ('geoNetwork_metro', 29)\n",
      "49 ('mean_k_fold_trafficSource_keyword', 29)\n",
      "50 ('mean_k_fold_trafficSource_adwordsClickInfo.gclId', 28)\n",
      "51 ('browser_operatingSystem_Frequency', 27)\n",
      "52 ('mean_k_fold_geoNetwork_continent', 27)\n",
      "53 ('browser_operatingSystem', 26)\n",
      "54 ('geoNetwork_country_Frequency', 26)\n",
      "55 ('device_operatingSystem', 24)\n",
      "56 ('mean_k_fold_trafficSource_medium', 23)\n",
      "57 ('geoNetwork_region_Frequency', 22)\n",
      "58 ('mean_k_fold_device_deviceCategory', 21)\n",
      "59 ('mean_k_fold_campaign_medium', 21)\n",
      "60 ('mean_hour_per_browser_operatingSystem', 20)\n",
      "61 ('trafficSource_adwordsClickInfo.gclId', 16)\n",
      "62 ('mean_k_fold_device_browser', 16)\n",
      "63 ('mean_k_fold_device_isMobile', 13)\n",
      "64 ('mean_k_fold_trafficSource_adwordsClickInfo.adNetworkType', 13)\n",
      "65 ('trafficSource_referralPath', 12)\n",
      "66 ('channelGrouping', 11)\n",
      "67 ('trafficSource_source', 10)\n",
      "68 ('source_country', 10)\n",
      "69 ('device_operatingSystem_Frequency', 10)\n",
      "70 ('trafficSource_source_Frequency', 10)\n",
      "71 ('mean_k_fold_trafficSource_adContent', 9)\n",
      "72 ('trafficSource_medium', 8)\n",
      "73 ('campaign_medium', 7)\n",
      "74 ('trafficSource_keyword_Frequency', 7)\n",
      "75 ('browser_category_Frequency', 7)\n",
      "76 ('trafficSource_isTrueDirect_Frequency', 6)\n",
      "77 ('trafficSource_isTrueDirect', 5)\n",
      "78 ('trafficSource_referralPath_Frequency', 5)\n",
      "79 ('trafficSource_adContent', 4)\n",
      "80 ('geoNetwork_subContinent_Frequency', 4)\n",
      "81 ('mean_k_fold_trafficSource_adwordsClickInfo.slot', 4)\n",
      "82 ('mean_k_fold_trafficSource_campaign', 4)\n",
      "83 ('device_deviceCategory', 3)\n",
      "84 ('channelGrouping_Frequency', 3)\n",
      "85 ('device_isMobile', 2)\n",
      "86 ('geoNetwork_country', 2)\n",
      "87 ('browser_category', 2)\n",
      "88 ('device_deviceCategory_Frequency', 2)\n",
      "89 ('mean_k_fold_trafficSource_adwordsClickInfo.isVideoAd', 2)\n",
      "90 ('mean_k_fold_trafficSource_adwordsClickInfo.page', 2)\n",
      "91 ('device_browser', 1)\n",
      "92 ('trafficSource_keyword', 1)\n",
      "93 ('medium_hits_mean', 1)\n",
      "94 ('device_browser_Frequency', 1)\n",
      "95 ('device_isMobile_Frequency', 1)\n",
      "96 ('trafficSource_adwordsClickInfo.gclId_Frequency', 1)\n",
      "97 ('geoNetwork_continent', 0)\n",
      "98 ('geoNetwork_subContinent', 0)\n",
      "99 ('trafficSource_adwordsClickInfo.adNetworkType', 0)\n",
      "100 ('trafficSource_adwordsClickInfo.isVideoAd', 0)\n",
      "101 ('trafficSource_adwordsClickInfo.page', 0)\n",
      "102 ('trafficSource_adwordsClickInfo.slot', 0)\n",
      "103 ('trafficSource_campaign', 0)\n",
      "104 ('medium_hits_max', 0)\n",
      "105 ('medium_hits_min', 0)\n",
      "106 ('medium_hits_sum', 0)\n",
      "107 ('geoNetwork_continent_Frequency', 0)\n",
      "108 ('trafficSource_adContent_Frequency', 0)\n",
      "109 ('trafficSource_adwordsClickInfo.adNetworkType_Frequency', 0)\n",
      "110 ('trafficSource_adwordsClickInfo.isVideoAd_Frequency', 0)\n",
      "111 ('trafficSource_adwordsClickInfo.page_Frequency', 0)\n",
      "112 ('trafficSource_adwordsClickInfo.slot_Frequency', 0)\n",
      "113 ('trafficSource_campaign_Frequency', 0)\n",
      "114 ('trafficSource_medium_Frequency', 0)\n",
      "115 ('campaign_medium_Frequency', 0)\n",
      "raw_train: results/2018-09-29T091912__T1.482_V1.683_R1.683_K/reg_train_2018-09-29T091912.csv\n",
      "raw_test: results/2018-09-29T091912__T1.482_V1.683_R1.683_K/reg_test_2018-09-29T091912.csv\n",
      "submit: results/2018-09-29T091912__T1.482_V1.683_R1.683_K/aiden_2018-09-29T091912.csv.tar.gz\n",
      "cp -f *.ipynb results/2018-09-29T091912__T1.482_V1.683_R1.683_K\n",
      "    \n",
      "results/2018-09-29T091912__T1.482_V1.683_R1.683_K/aiden_2018-09-29T091912.csv.tar.gz\n"
     ]
    }
   ],
   "source": [
    "X_train, X_valid = df_train_X[df_train['date'] <= 20170531], df_train_X[df_train['date'] > 20170531]\n",
    "y_train, y_valid = df_train_y[df_train['date'] <= 20170531], df_train_y[df_train['date'] > 20170531]\n",
    "\n",
    "model = modeling('once', X_train, X_valid, y_train, y_valid)"
   ]
  },
  {
   "cell_type": "markdown",
   "metadata": {},
   "source": [
    "### Submit"
   ]
  },
  {
   "cell_type": "code",
   "execution_count": 16,
   "metadata": {
    "ExecuteTime": {
     "end_time": "2018-09-29T00:20:02.526252Z",
     "start_time": "2018-09-29T00:19:52.097038Z"
    }
   },
   "outputs": [
    {
     "name": "stdout",
     "output_type": "stream",
     "text": [
      "kaggle competitions submit -c ga-customer-revenue-prediction -f results/2018-09-29T091912__T1.482_V1.683_R1.683_K/aiden_2018-09-29T091912.csv.tar.gz -m \"label / freq / mean / lda hits encode, add fea, remove high corr fea, 531\"\n",
      "    \n"
     ]
    }
   ],
   "source": [
    "msg = \"\"\"label / freq / mean / lda hits encode, add fea, remove high corr fea, 531\"\"\"\n",
    "submit_file = 'results/2018-09-29T091912__T1.482_V1.683_R1.683_K/aiden_2018-09-29T091912.csv.tar.gz'\n",
    "submit_to_kaggle(submit_file, msg)"
   ]
  },
  {
   "cell_type": "markdown",
   "metadata": {},
   "source": [
    "### ETC"
   ]
  },
  {
   "cell_type": "code",
   "execution_count": null,
   "metadata": {
    "ExecuteTime": {
     "end_time": "2018-09-28T14:36:10.007039Z",
     "start_time": "2018-09-28T14:36:09.955455Z"
    }
   },
   "outputs": [],
   "source": [
    "dict_to_sortedlist(corr_dict)"
   ]
  },
  {
   "cell_type": "code",
   "execution_count": null,
   "metadata": {
    "ExecuteTime": {
     "end_time": "2018-09-28T05:52:35.437683Z",
     "start_time": "2018-09-28T05:52:35.060058Z"
    }
   },
   "outputs": [],
   "source": [
    "df_corr = df_train_X[df_train_y > 0].corr()"
   ]
  },
  {
   "cell_type": "code",
   "execution_count": null,
   "metadata": {
    "ExecuteTime": {
     "end_time": "2018-09-28T05:52:38.644416Z",
     "start_time": "2018-09-28T05:52:38.081567Z"
    }
   },
   "outputs": [],
   "source": [
    "df_info = df_corr[(df_corr > 0.8) & (df_corr != 1.0)]\n",
    "\n",
    "\n",
    "def _print(row, c):\n",
    "    x = row[c]\n",
    "    if not np.isnan(x):\n",
    "        print(c, ':', row.name, x)\n",
    "\n",
    "\n",
    "#         print(row.name)\n",
    "\n",
    "for c in df_info.columns:\n",
    "    df_info.apply(lambda row: _print(row, c), axis=1)"
   ]
  },
  {
   "cell_type": "code",
   "execution_count": null,
   "metadata": {
    "ExecuteTime": {
     "end_time": "2018-09-28T05:30:47.758819Z",
     "start_time": "2018-09-28T05:30:47.582979Z"
    }
   },
   "outputs": [],
   "source": [
    "import matplotlib.pyplot as plt\n",
    "\n",
    "plt.matshow(df_corr)"
   ]
  },
  {
   "cell_type": "code",
   "execution_count": null,
   "metadata": {
    "ExecuteTime": {
     "end_time": "2018-09-28T05:31:43.262562Z",
     "start_time": "2018-09-28T05:31:37.451195Z"
    }
   },
   "outputs": [],
   "source": [
    "import seaborn as sns\n",
    "sns.heatmap(df_corr, \n",
    "            xticklabels=df_corr.columns.values,\n",
    "            yticklabels=df_corr.columns.values)"
   ]
  },
  {
   "cell_type": "code",
   "execution_count": null,
   "metadata": {
    "ExecuteTime": {
     "end_time": "2018-09-28T05:32:31.987156Z",
     "start_time": "2018-09-28T05:32:31.953029Z"
    }
   },
   "outputs": [],
   "source": [
    "def plot_corr(df,size=10):\n",
    "    '''Function plots a graphical correlation matrix for each pair of columns in the dataframe.\n",
    "\n",
    "    Input:\n",
    "        df: pandas DataFrame\n",
    "        size: vertical and horizontal size of the plot'''\n",
    "\n",
    "    corr = df.corr()\n",
    "    fig, ax = plt.subplots(figsize=(size, size))\n",
    "    ax.matshow(corr)\n",
    "    plt.xticks(range(len(corr.columns)), corr.columns);\n",
    "    plt.yticks(range(len(corr.columns)), corr.columns);"
   ]
  },
  {
   "cell_type": "code",
   "execution_count": null,
   "metadata": {
    "ExecuteTime": {
     "end_time": "2018-09-28T05:33:17.258359Z",
     "start_time": "2018-09-28T05:32:46.056585Z"
    }
   },
   "outputs": [],
   "source": [
    "plot_corr(df_train_X)"
   ]
  },
  {
   "cell_type": "code",
   "execution_count": null,
   "metadata": {
    "ExecuteTime": {
     "end_time": "2018-09-28T14:41:48.525350Z",
     "start_time": "2018-09-28T14:41:48.329020Z"
    }
   },
   "outputs": [],
   "source": [
    "df_train[target_col].hist()"
   ]
  },
  {
   "cell_type": "code",
   "execution_count": null,
   "metadata": {
    "ExecuteTime": {
     "end_time": "2018-09-28T14:55:42.937627Z",
     "start_time": "2018-09-28T14:55:42.903727Z"
    }
   },
   "outputs": [],
   "source": [
    "corr_cols = [c for c in df_train_X if '_Fre' in c]\n",
    "corr_cols"
   ]
  },
  {
   "cell_type": "code",
   "execution_count": null,
   "metadata": {
    "ExecuteTime": {
     "end_time": "2018-09-28T14:56:11.683930Z",
     "start_time": "2018-09-28T14:56:11.632344Z"
    }
   },
   "outputs": [],
   "source": [
    "df_train_X['channelGrouping_Frequency'].value_counts()"
   ]
  },
  {
   "cell_type": "code",
   "execution_count": null,
   "metadata": {
    "ExecuteTime": {
     "end_time": "2018-09-28T15:24:27.007528Z",
     "start_time": "2018-09-28T15:24:26.962077Z"
    }
   },
   "outputs": [],
   "source": [
    "df_test['channelGrouping_Frequency'].value_counts()"
   ]
  },
  {
   "cell_type": "code",
   "execution_count": null,
   "metadata": {
    "ExecuteTime": {
     "end_time": "2018-09-29T00:05:22.451448Z",
     "start_time": "2018-09-29T00:05:07.841026Z"
    }
   },
   "outputs": [],
   "source": [
    "corr_cols = [c for c in df_train_X if 'mean_k_fold_' in c]\n",
    "corr_cols"
   ]
  },
  {
   "cell_type": "code",
   "execution_count": null,
   "metadata": {
    "ExecuteTime": {
     "end_time": "2018-09-28T15:32:00.789508Z",
     "start_time": "2018-09-28T15:32:00.745725Z"
    }
   },
   "outputs": [],
   "source": [
    "df_train_X['mean_k_fold_channelGrouping'].value_counts()"
   ]
  },
  {
   "cell_type": "code",
   "execution_count": null,
   "metadata": {
    "ExecuteTime": {
     "end_time": "2018-09-28T15:31:43.799732Z",
     "start_time": "2018-09-28T15:31:43.749484Z"
    }
   },
   "outputs": [],
   "source": [
    "df_test['mean_k_fold_channelGrouping'].value_counts()"
   ]
  },
  {
   "cell_type": "code",
   "execution_count": null,
   "metadata": {},
   "outputs": [],
   "source": []
  }
 ],
 "metadata": {
  "kernelspec": {
   "display_name": "Python 3",
   "language": "python",
   "name": "python3"
  },
  "language_info": {
   "codemirror_mode": {
    "name": "ipython",
    "version": 3
   },
   "file_extension": ".py",
   "mimetype": "text/x-python",
   "name": "python",
   "nbconvert_exporter": "python",
   "pygments_lexer": "ipython3",
   "version": "3.6.5"
  },
  "toc": {
   "base_numbering": 1,
   "nav_menu": {},
   "number_sections": true,
   "sideBar": true,
   "skip_h1_title": false,
   "title_cell": "Table of Contents",
   "title_sidebar": "Contents",
   "toc_cell": false,
   "toc_position": {
    "height": "calc(100% - 180px)",
    "left": "10px",
    "top": "150px",
    "width": "288px"
   },
   "toc_section_display": true,
   "toc_window_display": true
  },
  "varInspector": {
   "cols": {
    "lenName": 16,
    "lenType": 16,
    "lenVar": 40
   },
   "kernels_config": {
    "python": {
     "delete_cmd_postfix": "",
     "delete_cmd_prefix": "del ",
     "library": "var_list.py",
     "varRefreshCmd": "print(var_dic_list())"
    },
    "r": {
     "delete_cmd_postfix": ") ",
     "delete_cmd_prefix": "rm(",
     "library": "var_list.r",
     "varRefreshCmd": "cat(var_dic_list()) "
    }
   },
   "types_to_exclude": [
    "module",
    "function",
    "builtin_function_or_method",
    "instance",
    "_Feature"
   ],
   "window_display": false
  }
 },
 "nbformat": 4,
 "nbformat_minor": 2
}
