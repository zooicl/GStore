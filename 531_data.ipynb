{
 "cells": [
  {
   "cell_type": "code",
   "execution_count": 1,
   "metadata": {
    "ExecuteTime": {
     "end_time": "2018-09-28T04:33:14.291201Z",
     "start_time": "2018-09-28T04:33:13.280084Z"
    }
   },
   "outputs": [
    {
     "name": "stderr",
     "output_type": "stream",
     "text": [
      "/Users/hyundai/anaconda3/lib/python3.6/site-packages/lightgbm/__init__.py:45: FutureWarning: Starting from version 2.2.1, the library file in distribution wheels for macOS will be built by the Apple Clang compiler.\n",
      "This means that in case of installing LightGBM from PyPI via the ``pip install lightgbm`` command, you won't need to install the gcc compiler anymore.\n",
      "Instead of that, you'll need to install the OpenMP library, which is required for running LightGBM on the system with the Apple Clang compiler.\n",
      "You can install the OpenMP library by the following command: ``brew install libomp``.\n",
      "  \"You can install the OpenMP library by the following command: ``brew install libomp``.\", FutureWarning)\n"
     ]
    }
   ],
   "source": [
    "%matplotlib inline\n",
    "%load_ext autoreload\n",
    "%autoreload 2\n",
    "\n",
    "import lightgbm as lgb\n",
    "import pandas as pd\n",
    "import numpy as np\n",
    "import datetime\n",
    "from sklearn.preprocessing import LabelEncoder\n",
    "from multiprocessing import Pool\n",
    "import subprocess\n",
    "import matplotlib.pyplot as plt\n",
    "import os\n",
    "import time\n",
    "from sklearn.model_selection import TimeSeriesSplit, KFold, StratifiedKFold\n",
    "from sklearn.model_selection import GroupKFold\n",
    "from features import get_features\n",
    "from features import encode_label\n",
    "from features import encode_mean_k_fold\n",
    "from features import encode_frequency\n",
    "\n",
    "from report import report\n",
    "from report import get_feature_importance\n",
    "from report import submit_to_kaggle\n",
    "import operator\n",
    "from tqdm import tqdm\n",
    "\n",
    "\n",
    "def drop_cols(df, cols):\n",
    "    drop_cols = [c for c in df.columns if c in cols]\n",
    "    df.drop(drop_cols, axis=1, inplace=True)\n",
    "    return df"
   ]
  },
  {
   "cell_type": "markdown",
   "metadata": {},
   "source": [
    "### Load Data"
   ]
  },
  {
   "cell_type": "code",
   "execution_count": 2,
   "metadata": {
    "ExecuteTime": {
     "end_time": "2018-09-28T04:33:27.053772Z",
     "start_time": "2018-09-28T04:33:14.293061Z"
    }
   },
   "outputs": [
    {
     "name": "stdout",
     "output_type": "stream",
     "text": [
      "CPU times: user 8.79 s, sys: 3.67 s, total: 12.5 s\n",
      "Wall time: 12.7 s\n"
     ]
    }
   ],
   "source": [
    "%%time\n",
    "df_train = pd.read_pickle(\"input/train.pickle\")\n",
    "df_test = pd.read_pickle(\"input/test.pickle\")"
   ]
  },
  {
   "cell_type": "markdown",
   "metadata": {},
   "source": [
    "#### Const Cols"
   ]
  },
  {
   "cell_type": "code",
   "execution_count": 3,
   "metadata": {
    "ExecuteTime": {
     "end_time": "2018-09-28T04:33:35.795363Z",
     "start_time": "2018-09-28T04:33:27.055670Z"
    }
   },
   "outputs": [],
   "source": [
    "const_cols = [\n",
    "    'socialEngagementType', 'device_browserSize', 'device_browserVersion',\n",
    "    'device_flashVersion', 'device_language', 'device_mobileDeviceBranding',\n",
    "    'device_mobileDeviceInfo', 'device_mobileDeviceMarketingName',\n",
    "    'device_mobileDeviceModel', 'device_mobileInputSelector',\n",
    "    'device_operatingSystemVersion', 'device_screenColors',\n",
    "    'device_screenResolution', 'geoNetwork_cityId', 'geoNetwork_latitude',\n",
    "    'geoNetwork_longitude', 'geoNetwork_networkLocation', 'totals_visits',\n",
    "    'trafficSource_adwordsClickInfo.criteriaParameters',\n",
    "    'trafficSource_campaignCode'\n",
    "]\n",
    "\n",
    "df_train = drop_cols(df_train, const_cols)\n",
    "df_test = drop_cols(df_test, const_cols)"
   ]
  },
  {
   "cell_type": "markdown",
   "metadata": {},
   "source": [
    "#### Cat Cols"
   ]
  },
  {
   "cell_type": "code",
   "execution_count": 4,
   "metadata": {
    "ExecuteTime": {
     "end_time": "2018-09-28T04:33:49.606447Z",
     "start_time": "2018-09-28T04:33:35.797628Z"
    }
   },
   "outputs": [
    {
     "name": "stderr",
     "output_type": "stream",
     "text": [
      "/Users/hyundai/anaconda3/lib/python3.6/site-packages/pandas/core/frame.py:3787: SettingWithCopyWarning: \n",
      "A value is trying to be set on a copy of a slice from a DataFrame\n",
      "\n",
      "See the caveats in the documentation: http://pandas.pydata.org/pandas-docs/stable/indexing.html#indexing-view-versus-copy\n",
      "  downcast=downcast, **kwargs)\n"
     ]
    }
   ],
   "source": [
    "categorical_feature = [\n",
    "    'trafficSource_adwordsClickInfo.isVideoAd',\n",
    "    'device_isMobile',\n",
    "    \"channelGrouping\",\n",
    "    \"device_browser\",\n",
    "    \"device_deviceCategory\",\n",
    "    \"device_operatingSystem\",\n",
    "    \"geoNetwork_city\",\n",
    "    \"geoNetwork_continent\",\n",
    "    \"geoNetwork_country\",\n",
    "    \"geoNetwork_metro\",\n",
    "    \"geoNetwork_networkDomain\",\n",
    "    \"geoNetwork_region\",\n",
    "    \"geoNetwork_subContinent\",\n",
    "    \"trafficSource_adContent\",\n",
    "    \"trafficSource_adwordsClickInfo.adNetworkType\",\n",
    "    \"trafficSource_adwordsClickInfo.gclId\",\n",
    "    \"trafficSource_adwordsClickInfo.page\",\n",
    "    \"trafficSource_adwordsClickInfo.slot\",\n",
    "    \"trafficSource_campaign\",\n",
    "    \"trafficSource_keyword\",\n",
    "    \"trafficSource_medium\",\n",
    "    \"trafficSource_referralPath\",\n",
    "    \"trafficSource_source\",\n",
    "    'trafficSource_isTrueDirect',\n",
    "]\n",
    "\n",
    "for col in categorical_feature:\n",
    "    df_train[col] = df_train[col].astype(str)\n",
    "    df_test[col] = df_test[col].astype(str)\n",
    "\n",
    "df_train[categorical_feature].fillna('NA_NULL', inplace=True)\n",
    "df_test[categorical_feature].fillna('NA_NULL', inplace=True)"
   ]
  },
  {
   "cell_type": "markdown",
   "metadata": {},
   "source": [
    "#### Num Cols"
   ]
  },
  {
   "cell_type": "code",
   "execution_count": 5,
   "metadata": {
    "ExecuteTime": {
     "end_time": "2018-09-28T04:33:56.324364Z",
     "start_time": "2018-09-28T04:33:49.608485Z"
    }
   },
   "outputs": [],
   "source": [
    "num_cols = [\n",
    "    \"totals_hits\", \"totals_pageviews\", \"visitNumber\", \"visitStartTime\",\n",
    "    'totals_bounces', 'totals_newVisits'\n",
    "]\n",
    "\n",
    "for col in num_cols:\n",
    "    df_train[col] = df_train[col].astype(float)\n",
    "    df_test[col] = df_test[col].astype(float)\n",
    "\n",
    "df_train[\"totals_transactionRevenue\"] = df_train[\n",
    "    \"totals_transactionRevenue\"].astype('float')"
   ]
  },
  {
   "cell_type": "code",
   "execution_count": 6,
   "metadata": {
    "ExecuteTime": {
     "end_time": "2018-09-28T04:33:57.739487Z",
     "start_time": "2018-09-28T04:33:56.326339Z"
    }
   },
   "outputs": [
    {
     "name": "stdout",
     "output_type": "stream",
     "text": [
      "df_train.shape: (903653, 35)\n",
      "df_test.shape: (804684, 34)\n",
      "<class 'pandas.core.frame.DataFrame'>\n",
      "RangeIndex: 903653 entries, 0 to 903652\n",
      "Data columns (total 35 columns):\n",
      "channelGrouping                                 903653 non-null object\n",
      "date                                            903653 non-null int64\n",
      "fullVisitorId                                   903653 non-null object\n",
      "sessionId                                       903653 non-null object\n",
      "visitId                                         903653 non-null int64\n",
      "visitNumber                                     903653 non-null float64\n",
      "visitStartTime                                  903653 non-null float64\n",
      "device_browser                                  903653 non-null object\n",
      "device_deviceCategory                           903653 non-null object\n",
      "device_isMobile                                 903653 non-null object\n",
      "device_operatingSystem                          903653 non-null object\n",
      "geoNetwork_city                                 903653 non-null object\n",
      "geoNetwork_continent                            903653 non-null object\n",
      "geoNetwork_country                              903653 non-null object\n",
      "geoNetwork_metro                                903653 non-null object\n",
      "geoNetwork_networkDomain                        903653 non-null object\n",
      "geoNetwork_region                               903653 non-null object\n",
      "geoNetwork_subContinent                         903653 non-null object\n",
      "totals_bounces                                  450630 non-null float64\n",
      "totals_hits                                     903653 non-null float64\n",
      "totals_newVisits                                703060 non-null float64\n",
      "totals_pageviews                                903553 non-null float64\n",
      "totals_transactionRevenue                       11515 non-null float64\n",
      "trafficSource_adContent                         903653 non-null object\n",
      "trafficSource_adwordsClickInfo.adNetworkType    903653 non-null object\n",
      "trafficSource_adwordsClickInfo.gclId            903653 non-null object\n",
      "trafficSource_adwordsClickInfo.isVideoAd        903653 non-null object\n",
      "trafficSource_adwordsClickInfo.page             903653 non-null object\n",
      "trafficSource_adwordsClickInfo.slot             903653 non-null object\n",
      "trafficSource_campaign                          903653 non-null object\n",
      "trafficSource_isTrueDirect                      903653 non-null object\n",
      "trafficSource_keyword                           903653 non-null object\n",
      "trafficSource_medium                            903653 non-null object\n",
      "trafficSource_referralPath                      903653 non-null object\n",
      "trafficSource_source                            903653 non-null object\n",
      "dtypes: float64(7), int64(2), object(26)\n",
      "memory usage: 241.3+ MB\n"
     ]
    }
   ],
   "source": [
    "print('df_train.shape:', df_train.shape)\n",
    "print('df_test.shape:', df_test.shape)\n",
    "df_train.info()"
   ]
  },
  {
   "cell_type": "code",
   "execution_count": 7,
   "metadata": {
    "ExecuteTime": {
     "end_time": "2018-09-28T04:34:11.240880Z",
     "start_time": "2018-09-28T04:33:57.741787Z"
    }
   },
   "outputs": [
    {
     "name": "stdout",
     "output_type": "stream",
     "text": [
      "CPU times: user 11.6 s, sys: 1.71 s, total: 13.3 s\n",
      "Wall time: 13.5 s\n"
     ]
    }
   ],
   "source": [
    "%%time\n",
    "df_train.to_pickle(\"input/train_lv01.pickle\")\n",
    "df_test.to_pickle(\"input/test_lv01.pickle\")"
   ]
  }
 ],
 "metadata": {
  "kernelspec": {
   "display_name": "Python 3",
   "language": "python",
   "name": "python3"
  },
  "language_info": {
   "codemirror_mode": {
    "name": "ipython",
    "version": 3
   },
   "file_extension": ".py",
   "mimetype": "text/x-python",
   "name": "python",
   "nbconvert_exporter": "python",
   "pygments_lexer": "ipython3",
   "version": "3.6.5"
  },
  "toc": {
   "base_numbering": 1,
   "nav_menu": {},
   "number_sections": true,
   "sideBar": true,
   "skip_h1_title": false,
   "title_cell": "Table of Contents",
   "title_sidebar": "Contents",
   "toc_cell": false,
   "toc_position": {},
   "toc_section_display": true,
   "toc_window_display": false
  },
  "varInspector": {
   "cols": {
    "lenName": 16,
    "lenType": 16,
    "lenVar": 40
   },
   "kernels_config": {
    "python": {
     "delete_cmd_postfix": "",
     "delete_cmd_prefix": "del ",
     "library": "var_list.py",
     "varRefreshCmd": "print(var_dic_list())"
    },
    "r": {
     "delete_cmd_postfix": ") ",
     "delete_cmd_prefix": "rm(",
     "library": "var_list.r",
     "varRefreshCmd": "cat(var_dic_list()) "
    }
   },
   "types_to_exclude": [
    "module",
    "function",
    "builtin_function_or_method",
    "instance",
    "_Feature"
   ],
   "window_display": false
  }
 },
 "nbformat": 4,
 "nbformat_minor": 2
}
