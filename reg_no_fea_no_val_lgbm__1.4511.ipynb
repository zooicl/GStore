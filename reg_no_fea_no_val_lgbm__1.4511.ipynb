{
 "cells": [
  {
   "cell_type": "code",
   "execution_count": 1,
   "metadata": {
    "ExecuteTime": {
     "end_time": "2018-09-25T13:03:22.661254Z",
     "start_time": "2018-09-25T13:03:21.752577Z"
    }
   },
   "outputs": [
    {
     "name": "stderr",
     "output_type": "stream",
     "text": [
      "/Users/hyundai/anaconda3/lib/python3.6/site-packages/lightgbm/__init__.py:45: FutureWarning: Starting from version 2.2.1, the library file in distribution wheels for macOS will be built by the Apple Clang compiler.\n",
      "This means that in case of installing LightGBM from PyPI via the ``pip install lightgbm`` command, you won't need to install the gcc compiler anymore.\n",
      "Instead of that, you'll need to install the OpenMP library, which is required for running LightGBM on the system with the Apple Clang compiler.\n",
      "You can install the OpenMP library by the following command: ``brew install libomp``.\n",
      "  \"You can install the OpenMP library by the following command: ``brew install libomp``.\", FutureWarning)\n"
     ]
    }
   ],
   "source": [
    "%matplotlib inline\n",
    "import lightgbm as lgb\n",
    "import pandas as pd\n",
    "import numpy as np\n",
    "import datetime\n",
    "from sklearn.preprocessing import LabelEncoder\n",
    "from multiprocessing import Pool\n",
    "import subprocess\n",
    "import matplotlib.pyplot as plt\n",
    "import os\n",
    "import time\n",
    "from sklearn.model_selection import TimeSeriesSplit, KFold, StratifiedKFold\n",
    "from features import get_features"
   ]
  },
  {
   "cell_type": "markdown",
   "metadata": {},
   "source": [
    "### Load Data"
   ]
  },
  {
   "cell_type": "code",
   "execution_count": 2,
   "metadata": {
    "ExecuteTime": {
     "end_time": "2018-09-25T13:03:44.329197Z",
     "start_time": "2018-09-25T13:03:22.663454Z"
    }
   },
   "outputs": [
    {
     "name": "stderr",
     "output_type": "stream",
     "text": [
      "/Users/hyundai/anaconda3/lib/python3.6/site-packages/IPython/core/interactiveshell.py:2785: DtypeWarning: Columns (49) have mixed types. Specify dtype option on import or set low_memory=False.\n",
      "  interactivity=interactivity, compiler=compiler, result=result)\n"
     ]
    }
   ],
   "source": [
    "df_train = pd.read_csv(\"input/parsed_train.csv\", dtype={'fullVisitorId': 'str'})\n",
    "df_test = pd.read_csv(\"input/parsed_test.csv\", dtype={'fullVisitorId': 'str'})"
   ]
  },
  {
   "cell_type": "markdown",
   "metadata": {},
   "source": [
    "### Split X and y, Remove not_used_cols"
   ]
  },
  {
   "cell_type": "code",
   "execution_count": 3,
   "metadata": {
    "ExecuteTime": {
     "end_time": "2018-09-25T13:03:44.348484Z",
     "start_time": "2018-09-25T13:03:44.331061Z"
    }
   },
   "outputs": [],
   "source": [
    "target_col = 'totals_transactionRevenue'\n",
    "df_train_y = df_train[target_col].astype(float)\n",
    "df_train_y.fillna(0, inplace=True)\n",
    "df_train_y = np.log1p(df_train_y)"
   ]
  },
  {
   "cell_type": "code",
   "execution_count": 4,
   "metadata": {
    "ExecuteTime": {
     "end_time": "2018-09-25T13:03:44.961082Z",
     "start_time": "2018-09-25T13:03:44.350979Z"
    }
   },
   "outputs": [],
   "source": [
    "not_used_cols = [\n",
    "    \"visitNumber\", \"date\", \"fullVisitorId\", \"sessionId\", \"visitId\",\n",
    "    \"visitStartTime\", 'trafficSource_referralPath',\n",
    "    'trafficSource_campaignCode', target_col,\n",
    "]\n",
    "df_train_idx = df_train[['fullVisitorId']]\n",
    "df_train_X = df_train.drop(not_used_cols, axis=1)\n",
    "\n",
    "df_test_idx = df_test[['fullVisitorId']]\n",
    "del_cols = list(set(df_test.columns) & set(not_used_cols))\n",
    "df_test_X = df_test.drop(del_cols, axis=1)"
   ]
  },
  {
   "cell_type": "markdown",
   "metadata": {},
   "source": [
    "### Label Encoding"
   ]
  },
  {
   "cell_type": "code",
   "execution_count": 5,
   "metadata": {
    "ExecuteTime": {
     "end_time": "2018-09-25T13:08:17.756276Z",
     "start_time": "2018-09-25T13:03:44.962751Z"
    },
    "scrolled": true
   },
   "outputs": [
    {
     "name": "stderr",
     "output_type": "stream",
     "text": [
      "/Users/hyundai/anaconda3/lib/python3.6/site-packages/pandas/core/frame.py:3787: SettingWithCopyWarning: \n",
      "A value is trying to be set on a copy of a slice from a DataFrame\n",
      "\n",
      "See the caveats in the documentation: http://pandas.pydata.org/pandas-docs/stable/indexing.html#indexing-view-versus-copy\n",
      "  downcast=downcast, **kwargs)\n"
     ]
    },
    {
     "name": "stdout",
     "output_type": "stream",
     "text": [
      "channelGrouping 5.4396071434021\n",
      "socialEngagementType 6.248616933822632\n",
      "device_browser 8.595309972763062\n",
      "device_browserSize 6.87174391746521\n",
      "device_browserVersion 7.259109020233154\n",
      "device_deviceCategory 4.693512916564941\n",
      "device_flashVersion 7.017986059188843\n",
      "device_isMobile 4.323090314865112\n",
      "device_language 6.987238168716431\n",
      "device_mobileDeviceBranding 6.812239170074463\n",
      "device_mobileDeviceInfo 6.790982961654663\n",
      "device_mobileDeviceMarketingName 6.757170915603638\n",
      "device_mobileDeviceModel 6.677722930908203\n",
      "device_mobileInputSelector 6.5731000900268555\n",
      "device_operatingSystem 5.097864866256714\n",
      "device_operatingSystemVersion 6.586817979812622\n",
      "device_screenColors 6.508098602294922\n",
      "device_screenResolution 6.413700819015503\n",
      "geoNetwork_city 6.688896894454956\n",
      "geoNetwork_cityId 6.519043207168579\n",
      "geoNetwork_continent 4.476720094680786\n",
      "geoNetwork_country 5.459803104400635\n",
      "geoNetwork_latitude 6.239119291305542\n",
      "geoNetwork_longitude 6.264742374420166\n",
      "geoNetwork_metro 8.410763025283813\n",
      "geoNetwork_networkDomain 8.737933874130249\n",
      "geoNetwork_networkLocation 6.04227089881897\n",
      "geoNetwork_region 6.554019927978516\n",
      "geoNetwork_subContinent 4.980459928512573\n",
      "trafficSource_adContent 6.082960844039917\n",
      "trafficSource_adwordsClickInfo.adNetworkType 3.900347948074341\n",
      "trafficSource_adwordsClickInfo.criteriaParameters 5.915696144104004\n",
      "trafficSource_adwordsClickInfo.gclId 10.247184038162231\n",
      "trafficSource_adwordsClickInfo.isVideoAd 2.993853807449341\n",
      "trafficSource_adwordsClickInfo.slot 4.014363765716553\n",
      "trafficSource_campaign 8.134755849838257\n",
      "trafficSource_isTrueDirect 3.017421007156372\n",
      "trafficSource_keyword 18.486142873764038\n",
      "trafficSource_medium 3.6007978916168213\n",
      "trafficSource_source 8.183492183685303\n"
     ]
    }
   ],
   "source": [
    "categorical_feature = list(df_train_X.select_dtypes(exclude=np.number).columns)\n",
    "# print(categorical_feature)\n",
    "\n",
    "df_train_X[categorical_feature].fillna('NA_NULL', inplace=True)\n",
    "df_train_X.fillna(0, inplace=True)\n",
    "\n",
    "df_test_X[categorical_feature].fillna('NA_NULL', inplace=True)\n",
    "df_test_X.fillna(0, inplace=True)\n",
    "\n",
    "for c in categorical_feature:\n",
    "    st = time.time()\n",
    "    lbl = LabelEncoder()\n",
    "    lbl.fit(\n",
    "        list(df_train_X[c].values.astype('str')) +\n",
    "        list(df_test_X[c].values.astype('str')))\n",
    "    df_train_X[c] = lbl.transform(list(df_train_X[c].values.astype('str')))\n",
    "    df_test_X[c] = lbl.transform(list(df_test_X[c].values.astype('str')))\n",
    "    print(c, time.time() - st)"
   ]
  },
  {
   "cell_type": "markdown",
   "metadata": {},
   "source": [
    "### Training no val set"
   ]
  },
  {
   "cell_type": "code",
   "execution_count": null,
   "metadata": {
    "ExecuteTime": {
     "end_time": "2018-09-25T13:08:44.362675Z",
     "start_time": "2018-09-25T13:08:17.758719Z"
    }
   },
   "outputs": [],
   "source": [
    "prediction = np.zeros(df_test_X.shape[0])\n",
    "prediction_train = np.zeros(df_train_X.shape[0])\n",
    "\n",
    "X_train, X_valid = df_train_X, df_train_X\n",
    "y_train, y_valid = df_train_y, df_train_y\n",
    "\n",
    "feature_name = list(df_train_X.columns)\n",
    "\n",
    "train = lgb.Dataset(\n",
    "    X_train.values,\n",
    "    label=y_train.values,\n",
    "    feature_name=feature_name,\n",
    "    categorical_feature=categorical_feature)\n",
    "\n",
    "valid = lgb.Dataset(\n",
    "    X_valid.values,\n",
    "    label=y_valid.values,\n",
    "    feature_name=feature_name,\n",
    "    categorical_feature=categorical_feature)\n",
    "\n",
    "params = {\n",
    "    \"objective\": \"regression\",\n",
    "    \"metric\": \"rmse\",\n",
    "    \"max_depth\": 8,\n",
    "    \"min_child_samples\": 20,\n",
    "    \"reg_alpha\": 1,\n",
    "    \"reg_lambda\": 1,\n",
    "    \"num_leaves\": 257,\n",
    "    \"learning_rate\": 0.01,\n",
    "    \"subsample\": 0.8,\n",
    "    \"colsample_bytree\": 0.8,\n",
    "    \"subsample_freq \": 5,\n",
    "}\n",
    "evals_result = {}\n",
    "train_params = {\n",
    "    'params': params,\n",
    "    'train_set': train,\n",
    "    'valid_sets': [train, valid],\n",
    "    'valid_names': ['train', 'valid'],\n",
    "    'early_stopping_rounds': 100,  #50\n",
    "    'num_boost_round': 300,  #500\n",
    "    'verbose_eval': 25,\n",
    "    'feval': None,\n",
    "    'evals_result':evals_result,\n",
    "    #     'categorical_feature': 'auto',\n",
    "}\n",
    "\n",
    "\n",
    "model = lgb.train(**train_params)    "
   ]
  },
  {
   "cell_type": "markdown",
   "metadata": {},
   "source": [
    "### Prediction"
   ]
  },
  {
   "cell_type": "code",
   "execution_count": 7,
   "metadata": {
    "ExecuteTime": {
     "end_time": "2018-09-25T13:09:37.019411Z",
     "start_time": "2018-09-25T13:09:22.598891Z"
    },
    "scrolled": true
   },
   "outputs": [
    {
     "name": "stdout",
     "output_type": "stream",
     "text": [
      "predict test set\n",
      "predict train set\n"
     ]
    }
   ],
   "source": [
    "print('predict test set')\n",
    "y_pred = model.predict(df_test_X, num_iteration=model.best_iteration)\n",
    "\n",
    "print('predict train set')\n",
    "y_pred_train = model.predict(df_train_X, num_iteration=model.best_iteration)\n"
   ]
  },
  {
   "cell_type": "markdown",
   "metadata": {},
   "source": [
    "### Report"
   ]
  },
  {
   "cell_type": "code",
   "execution_count": 8,
   "metadata": {
    "ExecuteTime": {
     "end_time": "2018-09-25T13:09:59.424812Z",
     "start_time": "2018-09-25T13:09:46.732753Z"
    }
   },
   "outputs": [
    {
     "name": "stdout",
     "output_type": "stream",
     "text": [
      "raw_train: results/2018-09-25T220946__T1.584_V1.584_K/reg_train_2018-09-25T220946.csv\n",
      "raw_test: results/2018-09-25T220946__T1.584_V1.584_K/reg_test_2018-09-25T220946.csv\n"
     ]
    },
    {
     "name": "stderr",
     "output_type": "stream",
     "text": [
      "/Users/hyundai/anaconda3/lib/python3.6/site-packages/ipykernel_launcher.py:25: SettingWithCopyWarning: \n",
      "A value is trying to be set on a copy of a slice from a DataFrame.\n",
      "Try using .loc[row_indexer,col_indexer] = value instead\n",
      "\n",
      "See the caveats in the documentation: http://pandas.pydata.org/pandas-docs/stable/indexing.html#indexing-view-versus-copy\n",
      "/Users/hyundai/anaconda3/lib/python3.6/site-packages/ipykernel_launcher.py:26: SettingWithCopyWarning: \n",
      "A value is trying to be set on a copy of a slice from a DataFrame.\n",
      "Try using .loc[row_indexer,col_indexer] = value instead\n",
      "\n",
      "See the caveats in the documentation: http://pandas.pydata.org/pandas-docs/stable/indexing.html#indexing-view-versus-copy\n",
      "/Users/hyundai/anaconda3/lib/python3.6/site-packages/ipykernel_launcher.py:27: SettingWithCopyWarning: \n",
      "A value is trying to be set on a copy of a slice from a DataFrame.\n",
      "Try using .loc[row_indexer,col_indexer] = value instead\n",
      "\n",
      "See the caveats in the documentation: http://pandas.pydata.org/pandas-docs/stable/indexing.html#indexing-view-versus-copy\n",
      "/Users/hyundai/anaconda3/lib/python3.6/site-packages/ipykernel_launcher.py:28: SettingWithCopyWarning: \n",
      "A value is trying to be set on a copy of a slice from a DataFrame.\n",
      "Try using .loc[row_indexer,col_indexer] = value instead\n",
      "\n",
      "See the caveats in the documentation: http://pandas.pydata.org/pandas-docs/stable/indexing.html#indexing-view-versus-copy\n",
      "/Users/hyundai/anaconda3/lib/python3.6/site-packages/ipykernel_launcher.py:29: SettingWithCopyWarning: \n",
      "A value is trying to be set on a copy of a slice from a DataFrame.\n",
      "Try using .loc[row_indexer,col_indexer] = value instead\n",
      "\n",
      "See the caveats in the documentation: http://pandas.pydata.org/pandas-docs/stable/indexing.html#indexing-view-versus-copy\n"
     ]
    },
    {
     "name": "stdout",
     "output_type": "stream",
     "text": [
      "submit: results/2018-09-25T220946__T1.584_V1.584_K/aiden_2018-09-25T220946.csv.tar.gz\n",
      "cp -f reg_lgbm.ipynb results/2018-09-25T220946__T1.584_V1.584_K/reg_lgbm.ipynb\n",
      "\n"
     ]
    },
    {
     "data": {
      "text/plain": [
       "0"
      ]
     },
     "execution_count": 8,
     "metadata": {},
     "output_type": "execute_result"
    }
   ],
   "source": [
    "# Init result configurations\n",
    "RESULT_PATH = 'results'\n",
    "\n",
    "time_tag = datetime.datetime.now().strftime('%Y-%m-%dT%H%M%S')\n",
    "rmse_tag = 'T{0:.3f}_V{0:.3f}_K'.format(model.best_score['train']['rmse'], model.best_score['valid']['rmse'])\n",
    "result_path = os.path.join(RESULT_PATH, '{}__{}'.format(time_tag, rmse_tag))\n",
    "\n",
    "os.makedirs(result_path, exist_ok=True)\n",
    "# Create train set raw result file\n",
    "df_res = df_train_idx.copy()\n",
    "df_res['y_true'] = df_train_y.values\n",
    "df_res['y_pred'] = y_pred_train\n",
    "file_name = 'reg_train_{}.csv'.format(time_tag)\n",
    "df_res.to_csv(os.path.join(result_path, file_name), index=False)\n",
    "print('raw_train:', os.path.join(result_path, file_name))\n",
    "\n",
    "# Create train set raw result file\n",
    "df_res = df_test_idx.copy()\n",
    "df_res['y_pred'] = y_pred\n",
    "file_name = 'reg_test_{}.csv'.format(time_tag)\n",
    "df_res.to_csv(os.path.join(result_path, file_name), index=False)\n",
    "print('raw_test:', os.path.join(result_path, file_name))\n",
    "\n",
    "# Create submit file\n",
    "df_test_idx['PredictedLogRevenue'] = 0\n",
    "df_test_idx['PredictedLogRevenue'] = y_pred\n",
    "df_test_idx[\"PredictedLogRevenue\"] = df_test_idx[\"PredictedLogRevenue\"].apply(lambda x : 0.0 if x < 0 else x)\n",
    "df_test_idx[\"PredictedLogRevenue\"] = df_test_idx[\"PredictedLogRevenue\"].fillna(0.0)\n",
    "df_test_idx[\"PredictedLogRevenue\"] = np.expm1(df_test_idx[\"PredictedLogRevenue\"])\n",
    "\n",
    "df_submit = df_test_idx[['fullVisitorId', 'PredictedLogRevenue']].groupby('fullVisitorId').sum().reset_index()\n",
    "df_submit[\"PredictedLogRevenue\"] = np.log1p(df_submit[\"PredictedLogRevenue\"])\n",
    "\n",
    "file_name = 'aiden_{}.csv.tar.gz'.format(time_tag)\n",
    "df_submit.to_csv(os.path.join(result_path, file_name), index=False, compression='gzip')\n",
    "print('submit:', os.path.join(result_path, file_name))\n",
    "\n",
    "# Write MSG\n",
    "msg = []\n",
    "msg.append(str(df_train_X.columns))\n",
    "# del train_params['evals_result']\n",
    "# del train_params['valid_sets']\n",
    "msg.append(str(train_params))\n",
    "\n",
    "with open(os.path.join(result_path, 'result.log'), 'w') as f:\n",
    "    f.write('\\n'.join(msg))\n",
    "\n",
    "# Copy notebook to results for history\n",
    "cmd = \"\"\"cp -f {notebook_name} {result_path}/{notebook_name}\n",
    "\"\"\".format(**{'notebook_name': 'reg_lgbm.ipynb', 'result_path': result_path})\n",
    "print(cmd)\n",
    "subprocess.call(cmd, shell=True)\n"
   ]
  },
  {
   "cell_type": "code",
   "execution_count": null,
   "metadata": {
    "ExecuteTime": {
     "end_time": "2018-09-25T13:08:44.371447Z",
     "start_time": "2018-09-25T13:03:21.805Z"
    },
    "scrolled": true
   },
   "outputs": [],
   "source": [
    "df_submit"
   ]
  },
  {
   "cell_type": "markdown",
   "metadata": {},
   "source": [
    "### Feature Importance"
   ]
  },
  {
   "cell_type": "code",
   "execution_count": null,
   "metadata": {
    "ExecuteTime": {
     "end_time": "2018-09-25T13:08:44.372881Z",
     "start_time": "2018-09-25T13:03:21.807Z"
    }
   },
   "outputs": [],
   "source": [
    "fig, ax = plt.subplots(figsize=(15,15))\n",
    "lgb.plot_importance(model, ax=ax, max_num_features=30)  \n",
    "plt.savefig(os.path.join(result_path, 'feature_importance.jpg'))"
   ]
  },
  {
   "cell_type": "markdown",
   "metadata": {},
   "source": [
    "### to Kaggle with MSG"
   ]
  },
  {
   "cell_type": "code",
   "execution_count": null,
   "metadata": {
    "ExecuteTime": {
     "end_time": "2018-09-25T13:08:44.374052Z",
     "start_time": "2018-09-25T13:03:21.810Z"
    }
   },
   "outputs": [],
   "source": [
    "# cmd = \"\"\"kaggle competitions submit -c ga-customer-revenue-prediction -f {file_path} -m \"{msg}\"\n",
    "# \"\"\".format(**{'file_path': os.path.join(result_path, file_name), 'msg': ','.join(msg)[:500]})\n",
    "# print(cmd)\n",
    "# subprocess.call(cmd, shell=True)"
   ]
  },
  {
   "cell_type": "code",
   "execution_count": null,
   "metadata": {},
   "outputs": [],
   "source": []
  }
 ],
 "metadata": {
  "kernelspec": {
   "display_name": "Python 3",
   "language": "python",
   "name": "python3"
  },
  "language_info": {
   "codemirror_mode": {
    "name": "ipython",
    "version": 3
   },
   "file_extension": ".py",
   "mimetype": "text/x-python",
   "name": "python",
   "nbconvert_exporter": "python",
   "pygments_lexer": "ipython3",
   "version": "3.6.5"
  }
 },
 "nbformat": 4,
 "nbformat_minor": 2
}
