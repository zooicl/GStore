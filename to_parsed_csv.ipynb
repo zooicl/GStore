{
 "cells": [
  {
   "cell_type": "code",
   "execution_count": 1,
   "metadata": {
    "ExecuteTime": {
     "end_time": "2018-09-21T12:55:09.428594Z",
     "start_time": "2018-09-21T12:55:08.992073Z"
    }
   },
   "outputs": [],
   "source": [
    "import pandas as pd\n",
    "import os\n",
    "import json\n",
    "from pandas.io.json import json_normalize"
   ]
  },
  {
   "cell_type": "code",
   "execution_count": 7,
   "metadata": {
    "ExecuteTime": {
     "end_time": "2018-09-21T12:59:31.246256Z",
     "start_time": "2018-09-21T12:59:31.241816Z"
    }
   },
   "outputs": [],
   "source": [
    "def to_parsed_csv(zip_path):\n",
    "    print(zip_path)\n",
    "    OBJ_COLS = ['device', 'geoNetwork', 'totals', 'trafficSource']\n",
    "    \n",
    "    params = {\n",
    "    'filepath_or_buffer': zip_path,\n",
    "    'dtype': {\n",
    "        'fullVisitorId': 'str'\n",
    "    },\n",
    "    'converters': {c: json.loads\n",
    "                   for c in OBJ_COLS},\n",
    "    }\n",
    "    df = pd.read_csv(**params)\n",
    "    \n",
    "    for c in OBJ_COLS:\n",
    "        df_json = json_normalize(df[c])\n",
    "        df_json.columns = [f\"{c}_{sub_c}\" for sub_c in df_json.columns]\n",
    "\n",
    "        df = df.drop(c, axis=1).merge(df_json, right_index=True, left_index=True)\n",
    "    \n",
    "    print(df.columns)\n",
    "    print(df.head())\n",
    "    \n",
    "    return df"
   ]
  },
  {
   "cell_type": "code",
   "execution_count": 8,
   "metadata": {
    "ExecuteTime": {
     "end_time": "2018-09-21T13:04:21.969690Z",
     "start_time": "2018-09-21T12:59:33.184850Z"
    },
    "scrolled": true
   },
   "outputs": [
    {
     "name": "stdout",
     "output_type": "stream",
     "text": [
      "input/train.csv.zip\n",
      "Index(['channelGrouping', 'date', 'fullVisitorId', 'sessionId',\n",
      "       'socialEngagementType', 'visitId', 'visitNumber', 'visitStartTime',\n",
      "       'device_browser', 'device_browserSize', 'device_browserVersion',\n",
      "       'device_deviceCategory', 'device_flashVersion', 'device_isMobile',\n",
      "       'device_language', 'device_mobileDeviceBranding',\n",
      "       'device_mobileDeviceInfo', 'device_mobileDeviceMarketingName',\n",
      "       'device_mobileDeviceModel', 'device_mobileInputSelector',\n",
      "       'device_operatingSystem', 'device_operatingSystemVersion',\n",
      "       'device_screenColors', 'device_screenResolution', 'geoNetwork_city',\n",
      "       'geoNetwork_cityId', 'geoNetwork_continent', 'geoNetwork_country',\n",
      "       'geoNetwork_latitude', 'geoNetwork_longitude', 'geoNetwork_metro',\n",
      "       'geoNetwork_networkDomain', 'geoNetwork_networkLocation',\n",
      "       'geoNetwork_region', 'geoNetwork_subContinent', 'totals_bounces',\n",
      "       'totals_hits', 'totals_newVisits', 'totals_pageviews',\n",
      "       'totals_transactionRevenue', 'totals_visits', 'trafficSource_adContent',\n",
      "       'trafficSource_adwordsClickInfo.adNetworkType',\n",
      "       'trafficSource_adwordsClickInfo.criteriaParameters',\n",
      "       'trafficSource_adwordsClickInfo.gclId',\n",
      "       'trafficSource_adwordsClickInfo.isVideoAd',\n",
      "       'trafficSource_adwordsClickInfo.page',\n",
      "       'trafficSource_adwordsClickInfo.slot', 'trafficSource_campaign',\n",
      "       'trafficSource_campaignCode', 'trafficSource_isTrueDirect',\n",
      "       'trafficSource_keyword', 'trafficSource_medium',\n",
      "       'trafficSource_referralPath', 'trafficSource_source'],\n",
      "      dtype='object')\n",
      "  channelGrouping      date        fullVisitorId  \\\n",
      "0  Organic Search  20160902  1131660440785968503   \n",
      "1  Organic Search  20160902   377306020877927890   \n",
      "2  Organic Search  20160902  3895546263509774583   \n",
      "3  Organic Search  20160902  4763447161404445595   \n",
      "4  Organic Search  20160902    27294437909732085   \n",
      "\n",
      "                        sessionId  socialEngagementType     visitId  \\\n",
      "0  1131660440785968503_1472830385  Not Socially Engaged  1472830385   \n",
      "1   377306020877927890_1472880147  Not Socially Engaged  1472880147   \n",
      "2  3895546263509774583_1472865386  Not Socially Engaged  1472865386   \n",
      "3  4763447161404445595_1472881213  Not Socially Engaged  1472881213   \n",
      "4    27294437909732085_1472822600  Not Socially Engaged  1472822600   \n",
      "\n",
      "   visitNumber  visitStartTime device_browser             device_browserSize  \\\n",
      "0            1      1472830385         Chrome  not available in demo dataset   \n",
      "1            1      1472880147        Firefox  not available in demo dataset   \n",
      "2            1      1472865386         Chrome  not available in demo dataset   \n",
      "3            1      1472881213     UC Browser  not available in demo dataset   \n",
      "4            2      1472822600         Chrome  not available in demo dataset   \n",
      "\n",
      "          ...          trafficSource_adwordsClickInfo.isVideoAd  \\\n",
      "0         ...                                               NaN   \n",
      "1         ...                                               NaN   \n",
      "2         ...                                               NaN   \n",
      "3         ...                                               NaN   \n",
      "4         ...                                               NaN   \n",
      "\n",
      "  trafficSource_adwordsClickInfo.page trafficSource_adwordsClickInfo.slot  \\\n",
      "0                                 NaN                                 NaN   \n",
      "1                                 NaN                                 NaN   \n",
      "2                                 NaN                                 NaN   \n",
      "3                                 NaN                                 NaN   \n",
      "4                                 NaN                                 NaN   \n",
      "\n",
      "   trafficSource_campaign trafficSource_campaignCode  \\\n",
      "0               (not set)                        NaN   \n",
      "1               (not set)                        NaN   \n",
      "2               (not set)                        NaN   \n",
      "3               (not set)                        NaN   \n",
      "4               (not set)                        NaN   \n",
      "\n",
      "  trafficSource_isTrueDirect trafficSource_keyword trafficSource_medium  \\\n",
      "0                        NaN        (not provided)              organic   \n",
      "1                        NaN        (not provided)              organic   \n",
      "2                        NaN        (not provided)              organic   \n",
      "3                        NaN       google + online              organic   \n",
      "4                       True        (not provided)              organic   \n",
      "\n",
      "  trafficSource_referralPath trafficSource_source  \n",
      "0                        NaN               google  \n",
      "1                        NaN               google  \n",
      "2                        NaN               google  \n",
      "3                        NaN               google  \n",
      "4                        NaN               google  \n",
      "\n",
      "[5 rows x 55 columns]\n",
      "input/test.csv.zip\n",
      "Index(['channelGrouping', 'date', 'fullVisitorId', 'sessionId',\n",
      "       'socialEngagementType', 'visitId', 'visitNumber', 'visitStartTime',\n",
      "       'device_browser', 'device_browserSize', 'device_browserVersion',\n",
      "       'device_deviceCategory', 'device_flashVersion', 'device_isMobile',\n",
      "       'device_language', 'device_mobileDeviceBranding',\n",
      "       'device_mobileDeviceInfo', 'device_mobileDeviceMarketingName',\n",
      "       'device_mobileDeviceModel', 'device_mobileInputSelector',\n",
      "       'device_operatingSystem', 'device_operatingSystemVersion',\n",
      "       'device_screenColors', 'device_screenResolution', 'geoNetwork_city',\n",
      "       'geoNetwork_cityId', 'geoNetwork_continent', 'geoNetwork_country',\n",
      "       'geoNetwork_latitude', 'geoNetwork_longitude', 'geoNetwork_metro',\n",
      "       'geoNetwork_networkDomain', 'geoNetwork_networkLocation',\n",
      "       'geoNetwork_region', 'geoNetwork_subContinent', 'totals_bounces',\n",
      "       'totals_hits', 'totals_newVisits', 'totals_pageviews', 'totals_visits',\n",
      "       'trafficSource_adContent',\n",
      "       'trafficSource_adwordsClickInfo.adNetworkType',\n",
      "       'trafficSource_adwordsClickInfo.criteriaParameters',\n",
      "       'trafficSource_adwordsClickInfo.gclId',\n",
      "       'trafficSource_adwordsClickInfo.isVideoAd',\n",
      "       'trafficSource_adwordsClickInfo.page',\n",
      "       'trafficSource_adwordsClickInfo.slot', 'trafficSource_campaign',\n",
      "       'trafficSource_isTrueDirect', 'trafficSource_keyword',\n",
      "       'trafficSource_medium', 'trafficSource_referralPath',\n",
      "       'trafficSource_source'],\n",
      "      dtype='object')\n",
      "  channelGrouping      date        fullVisitorId  \\\n",
      "0  Organic Search  20171016  6167871330617112363   \n",
      "1  Organic Search  20171016  0643697640977915618   \n",
      "2  Organic Search  20171016  6059383810968229466   \n",
      "3  Organic Search  20171016  2376720078563423631   \n",
      "4  Organic Search  20171016  2314544520795440038   \n",
      "\n",
      "                        sessionId  socialEngagementType     visitId  \\\n",
      "0  6167871330617112363_1508151024  Not Socially Engaged  1508151024   \n",
      "1  0643697640977915618_1508175522  Not Socially Engaged  1508175522   \n",
      "2  6059383810968229466_1508143220  Not Socially Engaged  1508143220   \n",
      "3  2376720078563423631_1508193530  Not Socially Engaged  1508193530   \n",
      "4  2314544520795440038_1508217442  Not Socially Engaged  1508217442   \n",
      "\n",
      "   visitNumber  visitStartTime device_browser             device_browserSize  \\\n",
      "0            2      1508151024         Chrome  not available in demo dataset   \n",
      "1            1      1508175522         Chrome  not available in demo dataset   \n",
      "2            1      1508143220         Chrome  not available in demo dataset   \n",
      "3            1      1508193530         Safari  not available in demo dataset   \n",
      "4            1      1508217442         Safari  not available in demo dataset   \n",
      "\n",
      "          ...          trafficSource_adwordsClickInfo.gclId  \\\n",
      "0         ...                                           NaN   \n",
      "1         ...                                           NaN   \n",
      "2         ...                                           NaN   \n",
      "3         ...                                           NaN   \n",
      "4         ...                                           NaN   \n",
      "\n",
      "  trafficSource_adwordsClickInfo.isVideoAd  \\\n",
      "0                                      NaN   \n",
      "1                                      NaN   \n",
      "2                                      NaN   \n",
      "3                                      NaN   \n",
      "4                                      NaN   \n",
      "\n",
      "  trafficSource_adwordsClickInfo.page  trafficSource_adwordsClickInfo.slot  \\\n",
      "0                                 NaN                                  NaN   \n",
      "1                                 NaN                                  NaN   \n",
      "2                                 NaN                                  NaN   \n",
      "3                                 NaN                                  NaN   \n",
      "4                                 NaN                                  NaN   \n",
      "\n",
      "  trafficSource_campaign trafficSource_isTrueDirect trafficSource_keyword  \\\n",
      "0              (not set)                       True        (not provided)   \n",
      "1              (not set)                        NaN        (not provided)   \n",
      "2              (not set)                        NaN        (not provided)   \n",
      "3              (not set)                        NaN        (not provided)   \n",
      "4              (not set)                        NaN        (not provided)   \n",
      "\n",
      "  trafficSource_medium trafficSource_referralPath trafficSource_source  \n",
      "0              organic                        NaN               google  \n",
      "1              organic                        NaN               google  \n",
      "2              organic                        NaN               google  \n",
      "3              organic                        NaN               google  \n",
      "4              organic                        NaN               google  \n",
      "\n",
      "[5 rows x 53 columns]\n"
     ]
    }
   ],
   "source": [
    "df_train = to_parsed_csv(\"input/train.csv.zip\")\n",
    "df_test = to_parsed_csv(\"input/test.csv.zip\")"
   ]
  },
  {
   "cell_type": "code",
   "execution_count": 9,
   "metadata": {
    "ExecuteTime": {
     "end_time": "2018-09-21T13:05:18.165340Z",
     "start_time": "2018-09-21T13:04:25.050070Z"
    }
   },
   "outputs": [],
   "source": [
    "df_train.to_csv(\"input/parsed_train.csv\", index=False)\n",
    "df_test.to_csv(\"input/parsed_test.csv\", index=False)"
   ]
  },
  {
   "cell_type": "code",
   "execution_count": 11,
   "metadata": {
    "ExecuteTime": {
     "end_time": "2018-09-21T13:06:00.476022Z",
     "start_time": "2018-09-21T13:05:27.632783Z"
    }
   },
   "outputs": [],
   "source": [
    "df_train.to_pickle(\"input/parsed_train.pkl\")\n",
    "df_test.to_pickle(\"input/parsed_test.pkl\")"
   ]
  },
  {
   "cell_type": "code",
   "execution_count": null,
   "metadata": {},
   "outputs": [],
   "source": []
  }
 ],
 "metadata": {
  "kernelspec": {
   "display_name": "Python 3",
   "language": "python",
   "name": "python3"
  },
  "language_info": {
   "codemirror_mode": {
    "name": "ipython",
    "version": 3
   },
   "file_extension": ".py",
   "mimetype": "text/x-python",
   "name": "python",
   "nbconvert_exporter": "python",
   "pygments_lexer": "ipython3",
   "version": "3.6.5"
  }
 },
 "nbformat": 4,
 "nbformat_minor": 2
}
